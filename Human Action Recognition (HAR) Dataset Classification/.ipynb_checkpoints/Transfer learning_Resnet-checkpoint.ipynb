{
 "cells": [
  {
   "cell_type": "code",
   "execution_count": 1,
   "id": "2768e5c9",
   "metadata": {
    "ExecuteTime": {
     "end_time": "2022-07-06T15:06:46.721149Z",
     "start_time": "2022-07-06T15:06:38.723021Z"
    }
   },
   "outputs": [],
   "source": [
    "from tensorflow.keras.applications.resnet50 import ResNet50\n",
    "from tensorflow.keras.preprocessing import image\n",
    "from tensorflow.keras.applications.resnet50 import preprocess_input, decode_predictions\n",
    "import tensorflow.keras as keras\n",
    "import numpy as np\n",
    "import pandas as pd\n",
    "import cv2\n",
    "import os\n",
    "from sklearn.preprocessing import LabelEncoder\n",
    "from sklearn.model_selection import train_test_split\n",
    "import matplotlib.pyplot as plt\n",
    "import tensorflow as tf"
   ]
  },
  {
   "cell_type": "code",
   "execution_count": 2,
   "id": "c228106c",
   "metadata": {
    "ExecuteTime": {
     "end_time": "2022-07-06T15:06:56.817326Z",
     "start_time": "2022-07-06T15:06:46.754614Z"
    }
   },
   "outputs": [],
   "source": [
    "path = \"D:/HAR\\Human Action Recognition\"\n",
    "X = []\n",
    "y_temp = pd.read_csv(path+\"/Training_set.csv\")\n",
    "y=[]\n",
    "for i in os.listdir(path+\"/train\"):\n",
    "    temp = cv2.imread(path+\"/train/\"+i)\n",
    "    temp = cv2.cvtColor(temp, cv2.COLOR_BGR2RGB)\n",
    "    temp = cv2.resize(temp, (128, 128))\n",
    "    index = i.split(\"_\")[1]\n",
    "    index = int(index.split(\".\")[0])\n",
    "    X.append(temp)\n",
    "    y.append(y_temp.label[index-1])"
   ]
  },
  {
   "cell_type": "code",
   "execution_count": 3,
   "id": "b99c76ee",
   "metadata": {
    "ExecuteTime": {
     "end_time": "2022-07-06T15:07:06.890233Z",
     "start_time": "2022-07-06T15:07:05.108805Z"
    }
   },
   "outputs": [],
   "source": [
    "X = np.array(X)\n",
    "X = X/255.0\n",
    "\n",
    "y = np.array(y)\n",
    "encoder = LabelEncoder()\n",
    "y = encoder.fit_transform(y)"
   ]
  },
  {
   "cell_type": "code",
   "execution_count": 4,
   "id": "b39d62b8",
   "metadata": {
    "ExecuteTime": {
     "end_time": "2022-07-06T15:07:08.386564Z",
     "start_time": "2022-07-06T15:07:06.955342Z"
    }
   },
   "outputs": [],
   "source": [
    "X_train, X_test, y_train, y_test = train_test_split(X, y)"
   ]
  },
  {
   "cell_type": "code",
   "execution_count": 5,
   "id": "db094104",
   "metadata": {
    "ExecuteTime": {
     "end_time": "2022-07-06T15:08:40.250796Z",
     "start_time": "2022-07-06T15:07:08.450831Z"
    }
   },
   "outputs": [
    {
     "name": "stdout",
     "output_type": "stream",
     "text": [
      "Epoch 1/10\n",
      "74/74 [==============================] - 17s 121ms/step - loss: 1.9559 - accuracy: 0.3891 - val_loss: 1.4469 - val_accuracy: 0.5346\n",
      "Epoch 2/10\n",
      "74/74 [==============================] - 7s 97ms/step - loss: 1.2628 - accuracy: 0.5958 - val_loss: 1.2586 - val_accuracy: 0.5914\n",
      "Epoch 3/10\n",
      "74/74 [==============================] - 7s 98ms/step - loss: 1.0992 - accuracy: 0.6447 - val_loss: 1.1912 - val_accuracy: 0.6143\n",
      "Epoch 4/10\n",
      "74/74 [==============================] - 7s 98ms/step - loss: 0.9902 - accuracy: 0.6790 - val_loss: 1.1537 - val_accuracy: 0.6263\n",
      "Epoch 5/10\n",
      "74/74 [==============================] - 7s 97ms/step - loss: 0.9199 - accuracy: 0.7048 - val_loss: 1.1310 - val_accuracy: 0.6362\n",
      "Epoch 6/10\n",
      "74/74 [==============================] - 7s 97ms/step - loss: 0.8638 - accuracy: 0.7203 - val_loss: 1.1188 - val_accuracy: 0.6378\n",
      "Epoch 7/10\n",
      "74/74 [==============================] - 7s 100ms/step - loss: 0.8160 - accuracy: 0.7419 - val_loss: 1.1203 - val_accuracy: 0.6378\n",
      "Epoch 8/10\n",
      "74/74 [==============================] - 7s 98ms/step - loss: 0.7789 - accuracy: 0.7515 - val_loss: 1.1083 - val_accuracy: 0.6448\n",
      "Epoch 9/10\n",
      "74/74 [==============================] - 7s 98ms/step - loss: 0.7409 - accuracy: 0.7659 - val_loss: 1.1372 - val_accuracy: 0.6356\n",
      "Epoch 10/10\n",
      "74/74 [==============================] - 7s 97ms/step - loss: 0.7179 - accuracy: 0.7727 - val_loss: 1.1198 - val_accuracy: 0.6406\n"
     ]
    }
   ],
   "source": [
    "base_model = keras.applications.mobilenet.Re(weights='imagenet', include_top=False, input_shape=(128, 128, 3))\n",
    "\n",
    "\n",
    "\n",
    "x = base_model.output\n",
    "x = keras.layers.GlobalAveragePooling2D()(x)\n",
    "predictions = keras.layers.Dense(15, activation=\"softmax\", kernel_initializer=\"he_normal\")(x)\n",
    "model = keras.models.Model(inputs = base_model.input, outputs = predictions)\n",
    "\n",
    "for layer in base_model.layers:\n",
    "    layer.trainable = False\n",
    "    \n",
    "model.compile(optimizer = \"adam\", loss=\"sparse_categorical_crossentropy\", metrics=[\"accuracy\"])\n",
    "top_history = model.fit(X_train, y_train, validation_data=(X_test, y_test), epochs=10, batch_size=128)"
   ]
  },
  {
   "cell_type": "code",
   "execution_count": 6,
   "id": "e93ad28e",
   "metadata": {
    "ExecuteTime": {
     "end_time": "2022-07-06T15:08:43.037282Z",
     "start_time": "2022-07-06T15:08:43.026478Z"
    }
   },
   "outputs": [],
   "source": [
    "for layer in model.layers:\n",
    "    layer.trainable=True"
   ]
  },
  {
   "cell_type": "code",
   "execution_count": 7,
   "id": "3403751b",
   "metadata": {
    "ExecuteTime": {
     "end_time": "2022-07-06T15:28:14.042603Z",
     "start_time": "2022-07-06T15:08:43.562248Z"
    }
   },
   "outputs": [
    {
     "name": "stdout",
     "output_type": "stream",
     "text": [
      "Epoch 1/30\n",
      "296/296 [==============================] - 31s 92ms/step - loss: 1.6119 - accuracy: 0.5388 - val_loss: 1.6145 - val_accuracy: 0.5505\n",
      "Epoch 2/30\n",
      "296/296 [==============================] - 25s 86ms/step - loss: 0.8406 - accuracy: 0.7306 - val_loss: 2.0414 - val_accuracy: 0.4895\n",
      "Epoch 3/30\n",
      "296/296 [==============================] - 26s 87ms/step - loss: 0.6103 - accuracy: 0.8052 - val_loss: 1.8486 - val_accuracy: 0.5165\n",
      "Epoch 4/30\n",
      "296/296 [==============================] - 26s 88ms/step - loss: 0.4780 - accuracy: 0.8408 - val_loss: 2.0583 - val_accuracy: 0.5448\n",
      "Epoch 5/30\n",
      "296/296 [==============================] - 26s 87ms/step - loss: 0.3393 - accuracy: 0.8902 - val_loss: 1.6746 - val_accuracy: 0.5854\n",
      "Epoch 6/30\n",
      "296/296 [==============================] - 26s 87ms/step - loss: 0.3157 - accuracy: 0.8974 - val_loss: 1.9686 - val_accuracy: 0.5359\n",
      "Epoch 7/30\n",
      "296/296 [==============================] - 25s 86ms/step - loss: 0.2886 - accuracy: 0.9061 - val_loss: 2.1227 - val_accuracy: 0.5422\n",
      "Epoch 8/30\n",
      "296/296 [==============================] - 25s 86ms/step - loss: 0.2413 - accuracy: 0.9206 - val_loss: 1.9799 - val_accuracy: 0.5663\n",
      "Epoch 9/30\n",
      "296/296 [==============================] - 26s 86ms/step - loss: 0.2070 - accuracy: 0.9302 - val_loss: 2.2261 - val_accuracy: 0.5867\n",
      "Epoch 10/30\n",
      "296/296 [==============================] - 26s 87ms/step - loss: 0.2119 - accuracy: 0.9268 - val_loss: 2.0094 - val_accuracy: 0.5546\n",
      "Epoch 11/30\n",
      "296/296 [==============================] - 25s 86ms/step - loss: 0.2026 - accuracy: 0.9352 - val_loss: 1.9502 - val_accuracy: 0.6051\n",
      "Epoch 12/30\n",
      "296/296 [==============================] - 25s 86ms/step - loss: 0.1344 - accuracy: 0.9567 - val_loss: 1.8535 - val_accuracy: 0.5902\n",
      "Epoch 13/30\n",
      "296/296 [==============================] - 25s 86ms/step - loss: 0.1414 - accuracy: 0.9538 - val_loss: 2.5039 - val_accuracy: 0.5511\n",
      "Epoch 14/30\n",
      "296/296 [==============================] - 26s 86ms/step - loss: 0.1706 - accuracy: 0.9438 - val_loss: 1.8743 - val_accuracy: 0.6022\n",
      "Epoch 15/30\n",
      "296/296 [==============================] - 25s 86ms/step - loss: 0.1371 - accuracy: 0.9550 - val_loss: 2.8974 - val_accuracy: 0.5200\n",
      "Epoch 16/30\n",
      "296/296 [==============================] - 27s 91ms/step - loss: 0.1338 - accuracy: 0.9542 - val_loss: 2.3426 - val_accuracy: 0.5803\n",
      "Epoch 17/30\n",
      "296/296 [==============================] - 25s 86ms/step - loss: 0.1377 - accuracy: 0.9543 - val_loss: 2.1047 - val_accuracy: 0.5902\n",
      "Epoch 18/30\n",
      "296/296 [==============================] - 30s 102ms/step - loss: 0.1380 - accuracy: 0.9553 - val_loss: 2.2011 - val_accuracy: 0.5879\n",
      "Epoch 19/30\n",
      "296/296 [==============================] - 108s 367ms/step - loss: 0.1116 - accuracy: 0.9649 - val_loss: 2.4449 - val_accuracy: 0.5981\n",
      "Epoch 20/30\n",
      "296/296 [==============================] - 139s 471ms/step - loss: 0.1282 - accuracy: 0.9582 - val_loss: 2.9369 - val_accuracy: 0.5394\n",
      "Epoch 21/30\n",
      "296/296 [==============================] - 147s 497ms/step - loss: 0.1102 - accuracy: 0.9624 - val_loss: 2.4553 - val_accuracy: 0.5590\n",
      "Epoch 22/30\n",
      "296/296 [==============================] - 92s 312ms/step - loss: 0.0862 - accuracy: 0.9708 - val_loss: 1.8244 - val_accuracy: 0.6454\n",
      "Epoch 23/30\n",
      "296/296 [==============================] - 26s 87ms/step - loss: 0.0928 - accuracy: 0.9699 - val_loss: 2.8200 - val_accuracy: 0.5292\n",
      "Epoch 24/30\n",
      "296/296 [==============================] - 26s 88ms/step - loss: 0.0911 - accuracy: 0.9701 - val_loss: 3.1505 - val_accuracy: 0.5429\n",
      "Epoch 25/30\n",
      "296/296 [==============================] - 26s 88ms/step - loss: 0.1114 - accuracy: 0.9631 - val_loss: 2.8746 - val_accuracy: 0.5584\n",
      "Epoch 26/30\n",
      "296/296 [==============================] - 26s 88ms/step - loss: 0.1059 - accuracy: 0.9649 - val_loss: 2.0633 - val_accuracy: 0.6225\n",
      "Epoch 27/30\n",
      "296/296 [==============================] - 26s 89ms/step - loss: 0.0957 - accuracy: 0.9696 - val_loss: 2.3778 - val_accuracy: 0.6102\n",
      "Epoch 28/30\n",
      "296/296 [==============================] - 26s 88ms/step - loss: 0.0706 - accuracy: 0.9764 - val_loss: 2.3287 - val_accuracy: 0.5975\n",
      "Epoch 29/30\n",
      "296/296 [==============================] - 26s 89ms/step - loss: 0.0958 - accuracy: 0.9695 - val_loss: 2.1369 - val_accuracy: 0.5968\n",
      "Epoch 30/30\n",
      "296/296 [==============================] - 26s 89ms/step - loss: 0.0898 - accuracy: 0.9693 - val_loss: 2.1298 - val_accuracy: 0.6010\n"
     ]
    }
   ],
   "source": [
    "model.compile(optimizer = \"adam\", loss=\"sparse_categorical_crossentropy\", metrics=[\"accuracy\"])\n",
    "history = model.fit(X_train, y_train, validation_data=(X_test, y_test), epochs=30)"
   ]
  },
  {
   "cell_type": "code",
   "execution_count": 10,
   "id": "4f53a75a",
   "metadata": {
    "ExecuteTime": {
     "end_time": "2022-07-06T15:30:54.772615Z",
     "start_time": "2022-07-06T15:30:54.645467Z"
    }
   },
   "outputs": [
    {
     "data": {
      "text/plain": [
       "[<matplotlib.lines.Line2D at 0x243cfe7cb80>]"
      ]
     },
     "execution_count": 10,
     "metadata": {},
     "output_type": "execute_result"
    },
    {
     "data": {
      "image/png": "[encoded data removed]",
      "text/plain": [
       "<Figure size 1008x720 with 1 Axes>"
      ]
     },
     "metadata": {
      "needs_background": "light"
     },
     "output_type": "display_data"
    }
   ],
   "source": [
    "plt.figure(figsize=(14, 10))\n",
    "plt.plot(history.history[\"accuracy\"])\n",
    "plt.plot(history.history[\"val_accuracy\"])"
   ]
  },
  {
   "cell_type": "code",
   "execution_count": null,
   "id": "f570c5c0",
   "metadata": {},
   "outputs": [],
   "source": []
  }
 ],
 "metadata": {
  "kernelspec": {
   "display_name": "=python3.9.0",
   "language": "python",
   "name": "python3.9.0"
  },
  "language_info": {
   "codemirror_mode": {
    "name": "ipython",
    "version": 3
   },
   "file_extension": ".py",
   "mimetype": "text/x-python",
   "name": "python",
   "nbconvert_exporter": "python",
   "pygments_lexer": "ipython3",
   "version": "3.9.12"
  },
  "toc": {
   "base_numbering": 1,
   "nav_menu": {},
   "number_sections": true,
   "sideBar": true,
   "skip_h1_title": false,
   "title_cell": "Table of Contents",
   "title_sidebar": "Contents",
   "toc_cell": false,
   "toc_position": {},
   "toc_section_display": true,
   "toc_window_display": false
  },
  "varInspector": {
   "cols": {
    "lenName": 16,
    "lenType": 16,
    "lenVar": 40
   },
   "kernels_config": {
    "python": {
     "delete_cmd_postfix": "",
     "delete_cmd_prefix": "del ",
     "library": "var_list.py",
     "varRefreshCmd": "print(var_dic_list())"
    },
    "r": {
     "delete_cmd_postfix": ") ",
     "delete_cmd_prefix": "rm(",
     "library": "var_list.r",
     "varRefreshCmd": "cat(var_dic_list()) "
    }
   },
   "types_to_exclude": [
    "module",
    "function",
    "builtin_function_or_method",
    "instance",
    "_Feature"
   ],
   "window_display": false
  }
 },
 "nbformat": 4,
 "nbformat_minor": 5
}
