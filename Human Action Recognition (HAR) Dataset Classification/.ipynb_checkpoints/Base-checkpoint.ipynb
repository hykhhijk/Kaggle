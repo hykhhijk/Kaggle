{
 "cells": [
  {
   "cell_type": "code",
   "execution_count": 1,
   "id": "0d1ceff2",
   "metadata": {
    "ExecuteTime": {
     "end_time": "2022-07-05T14:17:56.955935Z",
     "start_time": "2022-07-05T14:17:49.571440Z"
    }
   },
   "outputs": [],
   "source": [
    "import numpy as np\n",
    "import pandas as pd\n",
    "import cv2\n",
    "import matplotlib.pyplot as plt\n",
    "import os\n",
    "from sklearn.preprocessing import LabelEncoder\n",
    "from sklearn.preprocessing import OneHotEncoder\n",
    "from functools import partial\n",
    "import tensorflow.keras as keras\n",
    "import tensorflow as tf"
   ]
  },
  {
   "cell_type": "code",
   "execution_count": 2,
   "id": "046e886e",
   "metadata": {
    "ExecuteTime": {
     "end_time": "2022-07-05T14:18:26.880863Z",
     "start_time": "2022-07-05T14:17:56.957934Z"
    }
   },
   "outputs": [],
   "source": [
    "path = \"D:/HAR\\Human Action Recognition\"\n",
    "X = []\n",
    "y_temp = pd.read_csv(path+\"/Training_set.csv\")\n",
    "y=[]\n",
    "for i in os.listdir(path+\"/train\"):\n",
    "    temp = cv2.imread(path+\"/train/\"+i)\n",
    "    temp = cv2.cvtColor(temp, cv2.COLOR_BGR2RGB)\n",
    "    temp = cv2.resize(temp, (64, 64))\n",
    "    index = i.split(\"_\")[1]\n",
    "    index = int(index.split(\".\")[0])\n",
    "    X.append(temp)\n",
    "    y.append(y_temp.label[index-1])"
   ]
  },
  {
   "cell_type": "code",
   "execution_count": 3,
   "id": "62ef8a36",
   "metadata": {
    "ExecuteTime": {
     "end_time": "2022-07-05T14:18:27.084692Z",
     "start_time": "2022-07-05T14:18:26.881865Z"
    }
   },
   "outputs": [
    {
     "name": "stdout",
     "output_type": "stream",
     "text": [
      "listening_to_music\n"
     ]
    },
    {
     "data": {
      "image/png": "[encoded data removed]",
      "text/plain": [
       "<Figure size 432x288 with 1 Axes>"
      ]
     },
     "metadata": {
      "needs_background": "light"
     },
     "output_type": "display_data"
    }
   ],
   "source": [
    "plt.imshow(X[40])\n",
    "print(y[40])"
   ]
  },
  {
   "cell_type": "code",
   "execution_count": 4,
   "id": "07221a22",
   "metadata": {
    "ExecuteTime": {
     "end_time": "2022-07-05T14:18:27.545483Z",
     "start_time": "2022-07-05T14:18:27.086687Z"
    }
   },
   "outputs": [],
   "source": [
    "X = np.array(X)\n",
    "X = X/255.0"
   ]
  },
  {
   "cell_type": "code",
   "execution_count": 5,
   "id": "6e024ae8",
   "metadata": {
    "ExecuteTime": {
     "end_time": "2022-07-05T14:18:27.561427Z",
     "start_time": "2022-07-05T14:18:27.547453Z"
    }
   },
   "outputs": [],
   "source": [
    "int_to_str = {0:'sitting', 1:'dancing', 2:'fighting',3: 'using_laptop', 4:'laughing',\n",
    "       5:'listening_to_music',6: 'texting',7: 'eating',8: 'clapping',9: 'cycling',\n",
    "       10:'drinking',11: 'sleeping',12: 'running',13: 'calling',14: 'hugging'}\n",
    "\n",
    "str_to_int = {v:k for k,v in int_to_str.items()}"
   ]
  },
  {
   "cell_type": "code",
   "execution_count": 6,
   "id": "9cbca007",
   "metadata": {
    "ExecuteTime": {
     "end_time": "2022-07-05T14:18:27.576410Z",
     "start_time": "2022-07-05T14:18:27.562414Z"
    }
   },
   "outputs": [],
   "source": [
    "y = np.array(y)\n",
    "# y = y.reshape(12600, 1)"
   ]
  },
  {
   "cell_type": "code",
   "execution_count": 7,
   "id": "bbfbbe23",
   "metadata": {
    "ExecuteTime": {
     "end_time": "2022-07-05T14:18:27.591357Z",
     "start_time": "2022-07-05T14:18:27.578387Z"
    }
   },
   "outputs": [],
   "source": [
    "encoder = LabelEncoder()\n",
    "y = encoder.fit_transform(y)\n",
    "# ohe = OneHotEncoder()\n",
    "# ohe.fit_transform(temp_y)\n",
    "# # y = y.toarray()"
   ]
  },
  {
   "cell_type": "code",
   "execution_count": 8,
   "id": "ceebfa22",
   "metadata": {
    "ExecuteTime": {
     "end_time": "2022-07-05T14:18:27.607176Z",
     "start_time": "2022-07-05T14:18:27.593137Z"
    }
   },
   "outputs": [],
   "source": [
    "# y = np.array(y)\n",
    "# for i in range(len(y)):\n",
    "#     y[i] = str_to_int.get(y[i])"
   ]
  },
  {
   "cell_type": "code",
   "execution_count": 9,
   "id": "73f91fe1",
   "metadata": {
    "ExecuteTime": {
     "end_time": "2022-07-05T14:18:27.623170Z",
     "start_time": "2022-07-05T14:18:27.608008Z"
    }
   },
   "outputs": [],
   "source": [
    "base_cnn = partial(keras.layers.Conv2D, filters = 32, kernel_size=3, padding=\"same\", activation=\"relu\", kernel_initializer=\"he_normal\")"
   ]
  },
  {
   "cell_type": "code",
   "execution_count": 48,
   "id": "9b6b623f",
   "metadata": {
    "ExecuteTime": {
     "end_time": "2022-07-05T14:50:35.874839Z",
     "start_time": "2022-07-05T14:50:35.694933Z"
    }
   },
   "outputs": [],
   "source": [
    "filters = 32\n",
    "Input = keras.Input(shape=[64, 64, 3])\n",
    "x = base_cnn(filters = filters)(Input)\n",
    "x = keras.layers.BatchNormalization()(x)\n",
    "x = base_cnn(filters = filters)(x)\n",
    "x = keras.layers.BatchNormalization()(x)\n",
    "x = keras.layers.MaxPool2D(2)(x)\n",
    "\n",
    "filters *= 2\n",
    "x = base_cnn(filters = filters)(x)\n",
    "x = keras.layers.BatchNormalization()(x)\n",
    "x = base_cnn(filters = filters)(x)\n",
    "x = keras.layers.BatchNormalization()(x)\n",
    "x = keras.layers.MaxPool2D(2)(x)\n",
    "\n",
    "filters *= 2\n",
    "x = base_cnn(filters = filters)(x)\n",
    "x = keras.layers.BatchNormalization()(x)\n",
    "x = base_cnn(filters = filters)(x)\n",
    "x = keras.layers.BatchNormalization()(x)\n",
    "x = keras.layers.MaxPool2D(2)(x)\n",
    "\n",
    "filters *= 2\n",
    "x = base_cnn(filters = filters)(x)\n",
    "x = keras.layers.BatchNormalization()(x)\n",
    "x = base_cnn(filters = filters)(x)\n",
    "x = keras.layers.BatchNormalization()(x)\n",
    "x = keras.layers.MaxPool2D(2)(x)\n",
    "\n",
    "filters *= 2\n",
    "x = base_cnn(filters = filters)(x)\n",
    "x = keras.layers.BatchNormalization()(x)\n",
    "x = base_cnn(filters = filters)(x)\n",
    "x = keras.layers.BatchNormalization()(x)\n",
    "x = keras.layers.MaxPool2D(2)(x)\n",
    "\n",
    "x = keras.layers.GlobalAveragePooling2D()(x)\n",
    "\n",
    "x = keras.layers.Dropout(0.3)(x)\n",
    "Output = keras.layers.Dense(15, activation=\"softmax\")(x)\n",
    "\n",
    "model = keras.models.Model(inputs = Input, outputs = Output)"
   ]
  },
  {
   "cell_type": "code",
   "execution_count": 49,
   "id": "e8012333",
   "metadata": {
    "ExecuteTime": {
     "end_time": "2022-07-05T14:50:35.953675Z",
     "start_time": "2022-07-05T14:50:35.940071Z"
    }
   },
   "outputs": [],
   "source": [
    "model.compile(loss=\"sparse_categorical_crossentropy\", optimizer=\"adam\", metrics=[\"accuracy\"])"
   ]
  },
  {
   "cell_type": "code",
   "execution_count": 50,
   "id": "eb2fe6fb",
   "metadata": {
    "ExecuteTime": {
     "end_time": "2022-07-05T15:12:26.349758Z",
     "start_time": "2022-07-05T14:50:36.092384Z"
    }
   },
   "outputs": [
    {
     "name": "stdout",
     "output_type": "stream",
     "text": [
      "Epoch 1/50\n",
      "315/315 [==============================] - 34s 100ms/step - loss: 3.0534 - accuracy: 0.1745 - val_loss: 3.0211 - val_accuracy: 0.1456\n",
      "Epoch 2/50\n",
      "315/315 [==============================] - 30s 95ms/step - loss: 2.3110 - accuracy: 0.2675 - val_loss: 2.6201 - val_accuracy: 0.2540\n",
      "Epoch 3/50\n",
      "315/315 [==============================] - 30s 95ms/step - loss: 1.9791 - accuracy: 0.3550 - val_loss: 2.3404 - val_accuracy: 0.3091\n",
      "Epoch 4/50\n",
      "315/315 [==============================] - 30s 96ms/step - loss: 1.7884 - accuracy: 0.4170 - val_loss: 1.9868 - val_accuracy: 0.3885\n",
      "Epoch 5/50\n",
      "315/315 [==============================] - 31s 98ms/step - loss: 1.6033 - accuracy: 0.4774 - val_loss: 1.8595 - val_accuracy: 0.4357\n",
      "Epoch 6/50\n",
      "315/315 [==============================] - 31s 97ms/step - loss: 1.4237 - accuracy: 0.5399 - val_loss: 1.8868 - val_accuracy: 0.4317\n",
      "Epoch 7/50\n",
      "315/315 [==============================] - 31s 97ms/step - loss: 1.2530 - accuracy: 0.5909 - val_loss: 1.9296 - val_accuracy: 0.4397oss: 1.2345 - accuracy: 0. - E - ETA: 4s - - ETA: 2s - loss: 1.2508 - accuracy: 0.58 - ETA: 2s - loss: 1.2496 - ac\n",
      "Epoch 8/50\n",
      "315/315 [==============================] - 31s 98ms/step - loss: 1.0495 - accuracy: 0.6578 - val_loss: 2.1536 - val_accuracy: 0.4004\n",
      "Epoch 9/50\n",
      "315/315 [==============================] - 31s 98ms/step - loss: 0.7635 - accuracy: 0.7477 - val_loss: 2.3888 - val_accuracy: 0.4290cy: 0.74 - ETA: 1s - loss: 0.7576 - ac - ETA: 0s - loss: 0.7623 - ac\n",
      "Epoch 10/50\n",
      "315/315 [==============================] - 30s 97ms/step - loss: 0.5814 - accuracy: 0.8081 - val_loss: 2.4743 - val_accuracy: 0.4333cy: \n",
      "Epoch 11/50\n",
      "315/315 [==============================] - 31s 97ms/step - loss: 0.3663 - accuracy: 0.8802 - val_loss: 3.0214 - val_accuracy: 0.4456663 - accuracy: 0.88\n",
      "Epoch 12/50\n",
      "315/315 [==============================] - 31s 98ms/step - loss: 0.2821 - accuracy: 0.9051 - val_loss: 3.1992 - val_accuracy: 0.4198\n",
      "Epoch 13/50\n",
      "315/315 [==============================] - 31s 98ms/step - loss: 0.2126 - accuracy: 0.9316 - val_loss: 3.1205 - val_accuracy: 0.4397 ETA: 3s - loss: 0.2002 - accuracy - ETA: 3s - loss: 0.2002 - accuracy - ETA: 2s - - ETA: 1s -\n",
      "Epoch 14/50\n",
      "315/315 [==============================] - 31s 97ms/step - loss: 0.1853 - accuracy: 0.9384 - val_loss: 2.8272 - val_accuracy: 0.4619\n",
      "Epoch 15/50\n",
      "315/315 [==============================] - 31s 97ms/step - loss: 0.1342 - accuracy: 0.9533 - val_loss: 3.2141 - val_accuracy: 0.4484\n",
      "Epoch 16/50\n",
      "315/315 [==============================] - 31s 98ms/step - loss: 0.1703 - accuracy: 0.9439 - val_loss: 3.1488 - val_accuracy: 0.4548\n",
      "Epoch 17/50\n",
      "315/315 [==============================] - 31s 99ms/step - loss: 0.1406 - accuracy: 0.9537 - val_loss: 3.4982 - val_accuracy: 0.4440:\n",
      "Epoch 18/50\n",
      "315/315 [==============================] - 31s 99ms/step - loss: 0.1273 - accuracy: 0.9589 - val_loss: 3.4780 - val_accuracy: 0.4472\n",
      "Epoch 19/50\n",
      "315/315 [==============================] - 31s 99ms/step - loss: 0.1223 - accuracy: 0.9611 - val_loss: 3.7749 - val_accuracy: 0.4611\n",
      "Epoch 20/50\n",
      "315/315 [==============================] - 31s 98ms/step - loss: 0.1056 - accuracy: 0.9652 - val_loss: 3.7444 - val_accuracy: 0.4361 accuracy: 0.9 - ETA: 17s\n",
      "Epoch 21/50\n",
      "315/315 [==============================] - 31s 98ms/step - loss: 0.0993 - accuracy: 0.9681 - val_loss: 3.9554 - val_accuracy: 0.4214oss: 0.0974 - accu\n",
      "Epoch 22/50\n",
      "315/315 [==============================] - 31s 99ms/step - loss: 0.0796 - accuracy: 0.9737 - val_loss: 3.8583 - val_accuracy: 0.46430.97 - ETA: 0s - loss: 0.0786 - ac\n",
      "Epoch 23/50\n",
      "315/315 [==============================] - 32s 100ms/step - loss: 0.1056 - accuracy: 0.9647 - val_loss: 4.0182 - val_accuracy: 0.4266\n",
      "Epoch 24/50\n",
      "315/315 [==============================] - 31s 98ms/step - loss: 0.1129 - accuracy: 0.9627 - val_loss: 3.7920 - val_accuracy: 0.4369\n",
      "Epoch 25/50\n",
      "315/315 [==============================] - 31s 98ms/step - loss: 0.0906 - accuracy: 0.9712 - val_loss: 3.9387 - val_accuracy: 0.4468\n",
      "Epoch 26/50\n",
      "315/315 [==============================] - 31s 98ms/step - loss: 0.0810 - accuracy: 0.9748 - val_loss: 4.1502 - val_accuracy: 0.4365-  - ETA: 9s - loss: 0.0 - ETA: 6s - loss: 0.0746 - accu\n",
      "Epoch 27/50\n",
      "315/315 [==============================] - 31s 98ms/step - loss: 0.0812 - accuracy: 0.9716 - val_loss: 3.8854 - val_accuracy: 0.4401uracy: 0.983 - ETA: 19s - loss: 0.0451 - accuracy: - ETA: 0s - loss: 0.0808 - accura\n",
      "Epoch 28/50\n",
      "315/315 [==============================] - 31s 98ms/step - loss: 0.0970 - accuracy: 0.9703 - val_loss: 3.7107 - val_accuracy: 0.4456\n",
      "Epoch 29/50\n",
      "315/315 [==============================] - 31s 98ms/step - loss: 0.0585 - accuracy: 0.9817 - val_loss: 3.7381 - val_accuracy: 0.4468\n",
      "Epoch 30/50\n",
      "315/315 [==============================] - 31s 98ms/step - loss: 0.0611 - accuracy: 0.9795 - val_loss: 3.9235 - val_accuracy: 0.4476\n",
      "Epoch 31/50\n",
      "315/315 [==============================] - 31s 97ms/step - loss: 0.0910 - accuracy: 0.9703 - val_loss: 4.3775 - val_accuracy: 0.3889 - loss: 0.0908 - accuracy:  - ETA: 0s - loss: 0.091\n",
      "Epoch 32/50\n",
      "315/315 [==============================] - 31s 97ms/step - loss: 0.0885 - accuracy: 0.9747 - val_loss: 3.9639 - val_accuracy: 0.4472\n",
      "Epoch 33/50\n",
      "315/315 [==============================] - 31s 98ms/step - loss: 0.0613 - accuracy: 0.9803 - val_loss: 4.1009 - val_accuracy: 0.4643\n",
      "Epoch 34/50\n",
      "315/315 [==============================] - 31s 98ms/step - loss: 0.0493 - accuracy: 0.9828 - val_loss: 3.9223 - val_accuracy: 0.4766acy - ETA: 4s - loss: 0.0513 - ac - ETA: 4s - loss: 0.0512 - accuracy - ETA\n",
      "Epoch 35/50\n",
      "315/315 [==============================] - 31s 98ms/step - loss: 0.0429 - accuracy: 0.9860 - val_loss: 4.2869 - val_accuracy: 0.4353ss: 0.0167 - accuracy:\n",
      "Epoch 36/50\n",
      "315/315 [==============================] - 30s 95ms/step - loss: 0.0769 - accuracy: 0.9755 - val_loss: 4.2417 - val_accuracy: 0.4512\n",
      "Epoch 37/50\n",
      "315/315 [==============================] - 30s 95ms/step - loss: 0.0698 - accuracy: 0.9783 - val_loss: 4.3489 - val_accuracy: 0.4349\n",
      "Epoch 38/50\n",
      "315/315 [==============================] - 31s 98ms/step - loss: 0.0699 - accuracy: 0.9775 - val_loss: 4.0657 - val_accuracy: 0.4472ETA: 23s - loss: 0.0807 - accura - ETA: 22s - loss: 0.0746 - accura - ETA: 1s\n",
      "Epoch 39/50\n",
      "315/315 [==============================] - 31s 97ms/step - loss: 0.0453 - accuracy: 0.9868 - val_loss: 4.3208 - val_accuracy: 0.4690\n",
      "Epoch 40/50\n",
      "315/315 [==============================] - 31s 98ms/step - loss: 0.0445 - accuracy: 0.9849 - val_loss: 4.4455 - val_accuracy: 0.4575\n",
      "Epoch 41/50\n",
      "315/315 [==============================] - 31s 99ms/step - loss: 0.0490 - accuracy: 0.9852 - val_loss: 4.4915 - val_accuracy: 0.4167s: 0.0490 - accuracy: 0.98\n",
      "Epoch 42/50\n",
      "315/315 [==============================] - 31s 97ms/step - loss: 0.0558 - accuracy: 0.9819 - val_loss: 4.3128 - val_accuracy: 0.4397\n",
      "Epoch 43/50\n",
      "160/315 [==============>...............] - ETA: 14s - loss: 0.0554 - accuracy: 0.9824- ETA: 26s - loss: 0.0693 - accuracy: 0. - ETA: 26s - loss: 0.0 - ETA: 24s - loss: 0.0653  - ETA: 18s - loss: 0.0608 - accurac - ETA: 17s - loss: 0.0586 - accuracy: 0.981 - ETA: 17s - loss: 0.0589 - accuracy: 0 - ETA: 1"
     ]
    },
    {
     "ename": "KeyboardInterrupt",
     "evalue": "",
     "output_type": "error",
     "traceback": [
      "\u001b[1;31m---------------------------------------------------------------------------\u001b[0m",
      "\u001b[1;31mKeyboardInterrupt\u001b[0m                         Traceback (most recent call last)",
      "Input \u001b[1;32mIn [50]\u001b[0m, in \u001b[0;36m<cell line: 1>\u001b[1;34m()\u001b[0m\n\u001b[1;32m----> 1\u001b[0m \u001b[43mmodel\u001b[49m\u001b[38;5;241;43m.\u001b[39;49m\u001b[43mfit\u001b[49m\u001b[43m(\u001b[49m\u001b[43mX\u001b[49m\u001b[43m,\u001b[49m\u001b[43m \u001b[49m\u001b[43my\u001b[49m\u001b[43m,\u001b[49m\u001b[43m \u001b[49m\u001b[43mvalidation_split\u001b[49m\u001b[38;5;241;43m=\u001b[39;49m\u001b[38;5;241;43m0.2\u001b[39;49m\u001b[43m,\u001b[49m\u001b[43m \u001b[49m\u001b[43mepochs\u001b[49m\u001b[38;5;241;43m=\u001b[39;49m\u001b[38;5;241;43m50\u001b[39;49m\u001b[43m)\u001b[49m\n",
      "File \u001b[1;32m~\\anaconda3\\envs\\python3.9.0\\lib\\site-packages\\keras\\engine\\training.py:1189\u001b[0m, in \u001b[0;36mModel.fit\u001b[1;34m(self, x, y, batch_size, epochs, verbose, callbacks, validation_split, validation_data, shuffle, class_weight, sample_weight, initial_epoch, steps_per_epoch, validation_steps, validation_batch_size, validation_freq, max_queue_size, workers, use_multiprocessing)\u001b[0m\n\u001b[0;32m   1187\u001b[0m logs \u001b[38;5;241m=\u001b[39m tmp_logs  \u001b[38;5;66;03m# No error, now safe to assign to logs.\u001b[39;00m\n\u001b[0;32m   1188\u001b[0m end_step \u001b[38;5;241m=\u001b[39m step \u001b[38;5;241m+\u001b[39m data_handler\u001b[38;5;241m.\u001b[39mstep_increment\n\u001b[1;32m-> 1189\u001b[0m \u001b[43mcallbacks\u001b[49m\u001b[38;5;241;43m.\u001b[39;49m\u001b[43mon_train_batch_end\u001b[49m\u001b[43m(\u001b[49m\u001b[43mend_step\u001b[49m\u001b[43m,\u001b[49m\u001b[43m \u001b[49m\u001b[43mlogs\u001b[49m\u001b[43m)\u001b[49m\n\u001b[0;32m   1190\u001b[0m \u001b[38;5;28;01mif\u001b[39;00m \u001b[38;5;28mself\u001b[39m\u001b[38;5;241m.\u001b[39mstop_training:\n\u001b[0;32m   1191\u001b[0m   \u001b[38;5;28;01mbreak\u001b[39;00m\n",
      "File \u001b[1;32m~\\anaconda3\\envs\\python3.9.0\\lib\\site-packages\\keras\\callbacks.py:435\u001b[0m, in \u001b[0;36mCallbackList.on_train_batch_end\u001b[1;34m(self, batch, logs)\u001b[0m\n\u001b[0;32m    428\u001b[0m \u001b[38;5;124;03m\"\"\"Calls the `on_train_batch_end` methods of its callbacks.\u001b[39;00m\n\u001b[0;32m    429\u001b[0m \n\u001b[0;32m    430\u001b[0m \u001b[38;5;124;03mArgs:\u001b[39;00m\n\u001b[0;32m    431\u001b[0m \u001b[38;5;124;03m    batch: Integer, index of batch within the current epoch.\u001b[39;00m\n\u001b[0;32m    432\u001b[0m \u001b[38;5;124;03m    logs: Dict. Aggregated metric results up until this batch.\u001b[39;00m\n\u001b[0;32m    433\u001b[0m \u001b[38;5;124;03m\"\"\"\u001b[39;00m\n\u001b[0;32m    434\u001b[0m \u001b[38;5;28;01mif\u001b[39;00m \u001b[38;5;28mself\u001b[39m\u001b[38;5;241m.\u001b[39m_should_call_train_batch_hooks:\n\u001b[1;32m--> 435\u001b[0m   \u001b[38;5;28;43mself\u001b[39;49m\u001b[38;5;241;43m.\u001b[39;49m\u001b[43m_call_batch_hook\u001b[49m\u001b[43m(\u001b[49m\u001b[43mModeKeys\u001b[49m\u001b[38;5;241;43m.\u001b[39;49m\u001b[43mTRAIN\u001b[49m\u001b[43m,\u001b[49m\u001b[43m \u001b[49m\u001b[38;5;124;43m'\u001b[39;49m\u001b[38;5;124;43mend\u001b[39;49m\u001b[38;5;124;43m'\u001b[39;49m\u001b[43m,\u001b[49m\u001b[43m \u001b[49m\u001b[43mbatch\u001b[49m\u001b[43m,\u001b[49m\u001b[43m \u001b[49m\u001b[43mlogs\u001b[49m\u001b[38;5;241;43m=\u001b[39;49m\u001b[43mlogs\u001b[49m\u001b[43m)\u001b[49m\n",
      "File \u001b[1;32m~\\anaconda3\\envs\\python3.9.0\\lib\\site-packages\\keras\\callbacks.py:295\u001b[0m, in \u001b[0;36mCallbackList._call_batch_hook\u001b[1;34m(self, mode, hook, batch, logs)\u001b[0m\n\u001b[0;32m    293\u001b[0m   \u001b[38;5;28mself\u001b[39m\u001b[38;5;241m.\u001b[39m_call_batch_begin_hook(mode, batch, logs)\n\u001b[0;32m    294\u001b[0m \u001b[38;5;28;01melif\u001b[39;00m hook \u001b[38;5;241m==\u001b[39m \u001b[38;5;124m'\u001b[39m\u001b[38;5;124mend\u001b[39m\u001b[38;5;124m'\u001b[39m:\n\u001b[1;32m--> 295\u001b[0m   \u001b[38;5;28;43mself\u001b[39;49m\u001b[38;5;241;43m.\u001b[39;49m\u001b[43m_call_batch_end_hook\u001b[49m\u001b[43m(\u001b[49m\u001b[43mmode\u001b[49m\u001b[43m,\u001b[49m\u001b[43m \u001b[49m\u001b[43mbatch\u001b[49m\u001b[43m,\u001b[49m\u001b[43m \u001b[49m\u001b[43mlogs\u001b[49m\u001b[43m)\u001b[49m\n\u001b[0;32m    296\u001b[0m \u001b[38;5;28;01melse\u001b[39;00m:\n\u001b[0;32m    297\u001b[0m   \u001b[38;5;28;01mraise\u001b[39;00m \u001b[38;5;167;01mValueError\u001b[39;00m(\u001b[38;5;124m'\u001b[39m\u001b[38;5;124mUnrecognized hook: \u001b[39m\u001b[38;5;132;01m{}\u001b[39;00m\u001b[38;5;124m'\u001b[39m\u001b[38;5;241m.\u001b[39mformat(hook))\n",
      "File \u001b[1;32m~\\anaconda3\\envs\\python3.9.0\\lib\\site-packages\\keras\\callbacks.py:315\u001b[0m, in \u001b[0;36mCallbackList._call_batch_end_hook\u001b[1;34m(self, mode, batch, logs)\u001b[0m\n\u001b[0;32m    312\u001b[0m   batch_time \u001b[38;5;241m=\u001b[39m time\u001b[38;5;241m.\u001b[39mtime() \u001b[38;5;241m-\u001b[39m \u001b[38;5;28mself\u001b[39m\u001b[38;5;241m.\u001b[39m_batch_start_time\n\u001b[0;32m    313\u001b[0m   \u001b[38;5;28mself\u001b[39m\u001b[38;5;241m.\u001b[39m_batch_times\u001b[38;5;241m.\u001b[39mappend(batch_time)\n\u001b[1;32m--> 315\u001b[0m \u001b[38;5;28;43mself\u001b[39;49m\u001b[38;5;241;43m.\u001b[39;49m\u001b[43m_call_batch_hook_helper\u001b[49m\u001b[43m(\u001b[49m\u001b[43mhook_name\u001b[49m\u001b[43m,\u001b[49m\u001b[43m \u001b[49m\u001b[43mbatch\u001b[49m\u001b[43m,\u001b[49m\u001b[43m \u001b[49m\u001b[43mlogs\u001b[49m\u001b[43m)\u001b[49m\n\u001b[0;32m    317\u001b[0m \u001b[38;5;28;01mif\u001b[39;00m \u001b[38;5;28mlen\u001b[39m(\u001b[38;5;28mself\u001b[39m\u001b[38;5;241m.\u001b[39m_batch_times) \u001b[38;5;241m>\u001b[39m\u001b[38;5;241m=\u001b[39m \u001b[38;5;28mself\u001b[39m\u001b[38;5;241m.\u001b[39m_num_batches_for_timing_check:\n\u001b[0;32m    318\u001b[0m   end_hook_name \u001b[38;5;241m=\u001b[39m hook_name\n",
      "File \u001b[1;32m~\\anaconda3\\envs\\python3.9.0\\lib\\site-packages\\keras\\callbacks.py:353\u001b[0m, in \u001b[0;36mCallbackList._call_batch_hook_helper\u001b[1;34m(self, hook_name, batch, logs)\u001b[0m\n\u001b[0;32m    351\u001b[0m \u001b[38;5;28;01mfor\u001b[39;00m callback \u001b[38;5;129;01min\u001b[39;00m \u001b[38;5;28mself\u001b[39m\u001b[38;5;241m.\u001b[39mcallbacks:\n\u001b[0;32m    352\u001b[0m   hook \u001b[38;5;241m=\u001b[39m \u001b[38;5;28mgetattr\u001b[39m(callback, hook_name)\n\u001b[1;32m--> 353\u001b[0m   \u001b[43mhook\u001b[49m\u001b[43m(\u001b[49m\u001b[43mbatch\u001b[49m\u001b[43m,\u001b[49m\u001b[43m \u001b[49m\u001b[43mlogs\u001b[49m\u001b[43m)\u001b[49m\n\u001b[0;32m    355\u001b[0m \u001b[38;5;28;01mif\u001b[39;00m \u001b[38;5;28mself\u001b[39m\u001b[38;5;241m.\u001b[39m_check_timing:\n\u001b[0;32m    356\u001b[0m   \u001b[38;5;28;01mif\u001b[39;00m hook_name \u001b[38;5;129;01mnot\u001b[39;00m \u001b[38;5;129;01min\u001b[39;00m \u001b[38;5;28mself\u001b[39m\u001b[38;5;241m.\u001b[39m_hook_times:\n",
      "File \u001b[1;32m~\\anaconda3\\envs\\python3.9.0\\lib\\site-packages\\keras\\callbacks.py:1028\u001b[0m, in \u001b[0;36mProgbarLogger.on_train_batch_end\u001b[1;34m(self, batch, logs)\u001b[0m\n\u001b[0;32m   1027\u001b[0m \u001b[38;5;28;01mdef\u001b[39;00m \u001b[38;5;21mon_train_batch_end\u001b[39m(\u001b[38;5;28mself\u001b[39m, batch, logs\u001b[38;5;241m=\u001b[39m\u001b[38;5;28;01mNone\u001b[39;00m):\n\u001b[1;32m-> 1028\u001b[0m   \u001b[38;5;28;43mself\u001b[39;49m\u001b[38;5;241;43m.\u001b[39;49m\u001b[43m_batch_update_progbar\u001b[49m\u001b[43m(\u001b[49m\u001b[43mbatch\u001b[49m\u001b[43m,\u001b[49m\u001b[43m \u001b[49m\u001b[43mlogs\u001b[49m\u001b[43m)\u001b[49m\n",
      "File \u001b[1;32m~\\anaconda3\\envs\\python3.9.0\\lib\\site-packages\\keras\\callbacks.py:1100\u001b[0m, in \u001b[0;36mProgbarLogger._batch_update_progbar\u001b[1;34m(self, batch, logs)\u001b[0m\n\u001b[0;32m   1096\u001b[0m   \u001b[38;5;28mself\u001b[39m\u001b[38;5;241m.\u001b[39mseen \u001b[38;5;241m+\u001b[39m\u001b[38;5;241m=\u001b[39m add_seen\n\u001b[0;32m   1098\u001b[0m \u001b[38;5;28;01mif\u001b[39;00m \u001b[38;5;28mself\u001b[39m\u001b[38;5;241m.\u001b[39mverbose \u001b[38;5;241m==\u001b[39m \u001b[38;5;241m1\u001b[39m:\n\u001b[0;32m   1099\u001b[0m   \u001b[38;5;66;03m# Only block async when verbose = 1.\u001b[39;00m\n\u001b[1;32m-> 1100\u001b[0m   logs \u001b[38;5;241m=\u001b[39m \u001b[43mtf_utils\u001b[49m\u001b[38;5;241;43m.\u001b[39;49m\u001b[43msync_to_numpy_or_python_type\u001b[49m\u001b[43m(\u001b[49m\u001b[43mlogs\u001b[49m\u001b[43m)\u001b[49m\n\u001b[0;32m   1101\u001b[0m   \u001b[38;5;28mself\u001b[39m\u001b[38;5;241m.\u001b[39mprogbar\u001b[38;5;241m.\u001b[39mupdate(\u001b[38;5;28mself\u001b[39m\u001b[38;5;241m.\u001b[39mseen, \u001b[38;5;28mlist\u001b[39m(logs\u001b[38;5;241m.\u001b[39mitems()), finalize\u001b[38;5;241m=\u001b[39m\u001b[38;5;28;01mFalse\u001b[39;00m)\n",
      "File \u001b[1;32m~\\anaconda3\\envs\\python3.9.0\\lib\\site-packages\\keras\\utils\\tf_utils.py:516\u001b[0m, in \u001b[0;36msync_to_numpy_or_python_type\u001b[1;34m(tensors)\u001b[0m\n\u001b[0;32m    513\u001b[0m     \u001b[38;5;28;01mreturn\u001b[39;00m x\u001b[38;5;241m.\u001b[39mitem() \u001b[38;5;28;01mif\u001b[39;00m np\u001b[38;5;241m.\u001b[39mndim(x) \u001b[38;5;241m==\u001b[39m \u001b[38;5;241m0\u001b[39m \u001b[38;5;28;01melse\u001b[39;00m x\n\u001b[0;32m    514\u001b[0m   \u001b[38;5;28;01mreturn\u001b[39;00m t  \u001b[38;5;66;03m# Don't turn ragged or sparse tensors to NumPy.\u001b[39;00m\n\u001b[1;32m--> 516\u001b[0m \u001b[38;5;28;01mreturn\u001b[39;00m \u001b[43mtf\u001b[49m\u001b[38;5;241;43m.\u001b[39;49m\u001b[43mnest\u001b[49m\u001b[38;5;241;43m.\u001b[39;49m\u001b[43mmap_structure\u001b[49m\u001b[43m(\u001b[49m\u001b[43m_to_single_numpy_or_python_type\u001b[49m\u001b[43m,\u001b[49m\u001b[43m \u001b[49m\u001b[43mtensors\u001b[49m\u001b[43m)\u001b[49m\n",
      "File \u001b[1;32m~\\anaconda3\\envs\\python3.9.0\\lib\\site-packages\\tensorflow\\python\\util\\nest.py:869\u001b[0m, in \u001b[0;36mmap_structure\u001b[1;34m(func, *structure, **kwargs)\u001b[0m\n\u001b[0;32m    865\u001b[0m flat_structure \u001b[38;5;241m=\u001b[39m (flatten(s, expand_composites) \u001b[38;5;28;01mfor\u001b[39;00m s \u001b[38;5;129;01min\u001b[39;00m structure)\n\u001b[0;32m    866\u001b[0m entries \u001b[38;5;241m=\u001b[39m \u001b[38;5;28mzip\u001b[39m(\u001b[38;5;241m*\u001b[39mflat_structure)\n\u001b[0;32m    868\u001b[0m \u001b[38;5;28;01mreturn\u001b[39;00m pack_sequence_as(\n\u001b[1;32m--> 869\u001b[0m     structure[\u001b[38;5;241m0\u001b[39m], [func(\u001b[38;5;241m*\u001b[39mx) \u001b[38;5;28;01mfor\u001b[39;00m x \u001b[38;5;129;01min\u001b[39;00m entries],\n\u001b[0;32m    870\u001b[0m     expand_composites\u001b[38;5;241m=\u001b[39mexpand_composites)\n",
      "File \u001b[1;32m~\\anaconda3\\envs\\python3.9.0\\lib\\site-packages\\tensorflow\\python\\util\\nest.py:869\u001b[0m, in \u001b[0;36m<listcomp>\u001b[1;34m(.0)\u001b[0m\n\u001b[0;32m    865\u001b[0m flat_structure \u001b[38;5;241m=\u001b[39m (flatten(s, expand_composites) \u001b[38;5;28;01mfor\u001b[39;00m s \u001b[38;5;129;01min\u001b[39;00m structure)\n\u001b[0;32m    866\u001b[0m entries \u001b[38;5;241m=\u001b[39m \u001b[38;5;28mzip\u001b[39m(\u001b[38;5;241m*\u001b[39mflat_structure)\n\u001b[0;32m    868\u001b[0m \u001b[38;5;28;01mreturn\u001b[39;00m pack_sequence_as(\n\u001b[1;32m--> 869\u001b[0m     structure[\u001b[38;5;241m0\u001b[39m], [\u001b[43mfunc\u001b[49m\u001b[43m(\u001b[49m\u001b[38;5;241;43m*\u001b[39;49m\u001b[43mx\u001b[49m\u001b[43m)\u001b[49m \u001b[38;5;28;01mfor\u001b[39;00m x \u001b[38;5;129;01min\u001b[39;00m entries],\n\u001b[0;32m    870\u001b[0m     expand_composites\u001b[38;5;241m=\u001b[39mexpand_composites)\n",
      "File \u001b[1;32m~\\anaconda3\\envs\\python3.9.0\\lib\\site-packages\\keras\\utils\\tf_utils.py:512\u001b[0m, in \u001b[0;36msync_to_numpy_or_python_type.<locals>._to_single_numpy_or_python_type\u001b[1;34m(t)\u001b[0m\n\u001b[0;32m    510\u001b[0m \u001b[38;5;28;01mdef\u001b[39;00m \u001b[38;5;21m_to_single_numpy_or_python_type\u001b[39m(t):\n\u001b[0;32m    511\u001b[0m   \u001b[38;5;28;01mif\u001b[39;00m \u001b[38;5;28misinstance\u001b[39m(t, tf\u001b[38;5;241m.\u001b[39mTensor):\n\u001b[1;32m--> 512\u001b[0m     x \u001b[38;5;241m=\u001b[39m \u001b[43mt\u001b[49m\u001b[38;5;241;43m.\u001b[39;49m\u001b[43mnumpy\u001b[49m\u001b[43m(\u001b[49m\u001b[43m)\u001b[49m\n\u001b[0;32m    513\u001b[0m     \u001b[38;5;28;01mreturn\u001b[39;00m x\u001b[38;5;241m.\u001b[39mitem() \u001b[38;5;28;01mif\u001b[39;00m np\u001b[38;5;241m.\u001b[39mndim(x) \u001b[38;5;241m==\u001b[39m \u001b[38;5;241m0\u001b[39m \u001b[38;5;28;01melse\u001b[39;00m x\n\u001b[0;32m    514\u001b[0m   \u001b[38;5;28;01mreturn\u001b[39;00m t\n",
      "File \u001b[1;32m~\\anaconda3\\envs\\python3.9.0\\lib\\site-packages\\tensorflow\\python\\framework\\ops.py:1149\u001b[0m, in \u001b[0;36m_EagerTensorBase.numpy\u001b[1;34m(self)\u001b[0m\n\u001b[0;32m   1126\u001b[0m \u001b[38;5;124;03m\"\"\"Copy of the contents of this Tensor into a NumPy array or scalar.\u001b[39;00m\n\u001b[0;32m   1127\u001b[0m \n\u001b[0;32m   1128\u001b[0m \u001b[38;5;124;03mUnlike NumPy arrays, Tensors are immutable, so this method has to copy\u001b[39;00m\n\u001b[1;32m   (...)\u001b[0m\n\u001b[0;32m   1146\u001b[0m \u001b[38;5;124;03m    NumPy dtype.\u001b[39;00m\n\u001b[0;32m   1147\u001b[0m \u001b[38;5;124;03m\"\"\"\u001b[39;00m\n\u001b[0;32m   1148\u001b[0m \u001b[38;5;66;03m# TODO(slebedev): Consider avoiding a copy for non-CPU or remote tensors.\u001b[39;00m\n\u001b[1;32m-> 1149\u001b[0m maybe_arr \u001b[38;5;241m=\u001b[39m \u001b[38;5;28;43mself\u001b[39;49m\u001b[38;5;241;43m.\u001b[39;49m\u001b[43m_numpy\u001b[49m\u001b[43m(\u001b[49m\u001b[43m)\u001b[49m  \u001b[38;5;66;03m# pylint: disable=protected-access\u001b[39;00m\n\u001b[0;32m   1150\u001b[0m \u001b[38;5;28;01mreturn\u001b[39;00m maybe_arr\u001b[38;5;241m.\u001b[39mcopy() \u001b[38;5;28;01mif\u001b[39;00m \u001b[38;5;28misinstance\u001b[39m(maybe_arr, np\u001b[38;5;241m.\u001b[39mndarray) \u001b[38;5;28;01melse\u001b[39;00m maybe_arr\n",
      "File \u001b[1;32m~\\anaconda3\\envs\\python3.9.0\\lib\\site-packages\\tensorflow\\python\\framework\\ops.py:1115\u001b[0m, in \u001b[0;36m_EagerTensorBase._numpy\u001b[1;34m(self)\u001b[0m\n\u001b[0;32m   1113\u001b[0m \u001b[38;5;28;01mdef\u001b[39;00m \u001b[38;5;21m_numpy\u001b[39m(\u001b[38;5;28mself\u001b[39m):\n\u001b[0;32m   1114\u001b[0m   \u001b[38;5;28;01mtry\u001b[39;00m:\n\u001b[1;32m-> 1115\u001b[0m     \u001b[38;5;28;01mreturn\u001b[39;00m \u001b[38;5;28;43mself\u001b[39;49m\u001b[38;5;241;43m.\u001b[39;49m\u001b[43m_numpy_internal\u001b[49m\u001b[43m(\u001b[49m\u001b[43m)\u001b[49m\n\u001b[0;32m   1116\u001b[0m   \u001b[38;5;28;01mexcept\u001b[39;00m core\u001b[38;5;241m.\u001b[39m_NotOkStatusException \u001b[38;5;28;01mas\u001b[39;00m e:  \u001b[38;5;66;03m# pylint: disable=protected-access\u001b[39;00m\n\u001b[0;32m   1117\u001b[0m     \u001b[38;5;28;01mraise\u001b[39;00m core\u001b[38;5;241m.\u001b[39m_status_to_exception(e) \u001b[38;5;28;01mfrom\u001b[39;00m \u001b[38;5;28mNone\u001b[39m\n",
      "\u001b[1;31mKeyboardInterrupt\u001b[0m: "
     ]
    }
   ],
   "source": [
    "model.fit(X, y, validation_split=0.2, epochs=50)"
   ]
  },
  {
   "cell_type": "code",
   "execution_count": null,
   "id": "b67e3f1a",
   "metadata": {},
   "outputs": [],
   "source": []
  }
 ],
 "metadata": {
  "kernelspec": {
   "display_name": "=python3.9.0",
   "language": "python",
   "name": "python3.9.0"
  },
  "language_info": {
   "codemirror_mode": {
    "name": "ipython",
    "version": 3
   },
   "file_extension": ".py",
   "mimetype": "text/x-python",
   "name": "python",
   "nbconvert_exporter": "python",
   "pygments_lexer": "ipython3",
   "version": "3.9.12"
  },
  "toc": {
   "base_numbering": 1,
   "nav_menu": {},
   "number_sections": true,
   "sideBar": true,
   "skip_h1_title": false,
   "title_cell": "Table of Contents",
   "title_sidebar": "Contents",
   "toc_cell": false,
   "toc_position": {},
   "toc_section_display": true,
   "toc_window_display": false
  },
  "varInspector": {
   "cols": {
    "lenName": 16,
    "lenType": 16,
    "lenVar": 40
   },
   "kernels_config": {
    "python": {
     "delete_cmd_postfix": "",
     "delete_cmd_prefix": "del ",
     "library": "var_list.py",
     "varRefreshCmd": "print(var_dic_list())"
    },
    "r": {
     "delete_cmd_postfix": ") ",
     "delete_cmd_prefix": "rm(",
     "library": "var_list.r",
     "varRefreshCmd": "cat(var_dic_list()) "
    }
   },
   "types_to_exclude": [
    "module",
    "function",
    "builtin_function_or_method",
    "instance",
    "_Feature"
   ],
   "window_display": false
  }
 },
 "nbformat": 4,
 "nbformat_minor": 5
}
