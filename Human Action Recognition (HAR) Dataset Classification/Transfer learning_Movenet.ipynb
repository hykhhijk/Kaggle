{
 "cells": [
  {
   "cell_type": "code",
   "execution_count": 1,
   "id": "2768e5c9",
   "metadata": {
    "ExecuteTime": {
     "end_time": "2022-07-07T03:18:09.386743Z",
     "start_time": "2022-07-07T03:18:01.795377Z"
    }
   },
   "outputs": [],
   "source": [
    "from tensorflow.keras.applications.resnet50 import ResNet50\n",
    "from tensorflow.keras.preprocessing import image\n",
    "from tensorflow.keras.applications.resnet50 import preprocess_input, decode_predictions\n",
    "import tensorflow.keras as keras\n",
    "import numpy as np\n",
    "import pandas as pd\n",
    "import cv2\n",
    "import os\n",
    "from sklearn.preprocessing import LabelEncoder\n",
    "from sklearn.model_selection import train_test_split\n",
    "import matplotlib.pyplot as plt\n",
    "import tensorflow as tf"
   ]
  },
  {
   "cell_type": "code",
   "execution_count": 2,
   "id": "c228106c",
   "metadata": {
    "ExecuteTime": {
     "end_time": "2022-07-07T03:18:13.012883Z",
     "start_time": "2022-07-07T03:18:12.296893Z"
    }
   },
   "outputs": [],
   "source": [
    "path = \"D:/HAR\\Human Action Recognition\"\n",
    "y_temp = pd.read_csv(path+\"/Training_set.csv\")\n",
    "y=[]\n",
    "for i in os.listdir(path+\"/train\"):\n",
    "    index = i.split(\"_\")[1]\n",
    "    index = int(index.split(\".\")[0])\n",
    "    y.append(y_temp.label[index-1])\n",
    "y = np.array(y)\n",
    "encoder = LabelEncoder()\n",
    "y = encoder.fit_transform(y)"
   ]
  },
  {
   "cell_type": "code",
   "execution_count": 3,
   "id": "e9a1b3aa",
   "metadata": {
    "ExecuteTime": {
     "end_time": "2022-07-07T03:18:13.136792Z",
     "start_time": "2022-07-07T03:18:13.122097Z"
    }
   },
   "outputs": [],
   "source": [
    "def make_image(size=32):\n",
    "    path = \"D:/HAR\\Human Action Recognition\"\n",
    "    X = []\n",
    "    for i in os.listdir(path+\"/train\"):\n",
    "        temp = cv2.imread(path+\"/train/\"+i)\n",
    "        temp = cv2.cvtColor(temp, cv2.COLOR_BGR2RGB)\n",
    "        temp = cv2.resize(temp, (size, size))\n",
    "        X.append(temp)\n",
    "    X = np.array(X)\n",
    "    X = X/255.0\n",
    "    return X"
   ]
  },
  {
   "cell_type": "code",
   "execution_count": 4,
   "id": "b99c76ee",
   "metadata": {
    "ExecuteTime": {
     "end_time": "2022-07-07T03:19:11.652241Z",
     "start_time": "2022-07-07T03:18:13.480386Z"
    }
   },
   "outputs": [],
   "source": [
    "X = make_image(128)"
   ]
  },
  {
   "cell_type": "code",
   "execution_count": 5,
   "id": "b39d62b8",
   "metadata": {
    "ExecuteTime": {
     "end_time": "2022-07-07T03:19:13.102338Z",
     "start_time": "2022-07-07T03:19:11.761193Z"
    }
   },
   "outputs": [],
   "source": [
    "X_train, X_test, y_train, y_test = train_test_split(X, y)"
   ]
  },
  {
   "cell_type": "code",
   "execution_count": 6,
   "id": "db094104",
   "metadata": {
    "ExecuteTime": {
     "end_time": "2022-07-07T02:54:35.807565Z",
     "start_time": "2022-07-07T02:52:49.567592Z"
    }
   },
   "outputs": [
    {
     "name": "stdout",
     "output_type": "stream",
     "text": [
      "Epoch 1/10\n",
      "296/296 [==============================] - 16s 35ms/step - loss: 1.6147 - accuracy: 0.4848 - val_loss: 1.2561 - val_accuracy: 0.5933\n",
      "Epoch 2/10\n",
      "296/296 [==============================] - 9s 30ms/step - loss: 1.0911 - accuracy: 0.6436 - val_loss: 1.1460 - val_accuracy: 0.6305\n",
      "Epoch 3/10\n",
      "296/296 [==============================] - 9s 30ms/step - loss: 0.9402 - accuracy: 0.6923 - val_loss: 1.1392 - val_accuracy: 0.6403\n",
      "Epoch 4/10\n",
      "296/296 [==============================] - 9s 30ms/step - loss: 0.8552 - accuracy: 0.7211 - val_loss: 1.1421 - val_accuracy: 0.6346\n",
      "Epoch 5/10\n",
      "296/296 [==============================] - 9s 30ms/step - loss: 0.7820 - accuracy: 0.7434 - val_loss: 1.1257 - val_accuracy: 0.6435\n",
      "Epoch 6/10\n",
      "296/296 [==============================] - 9s 30ms/step - loss: 0.7222 - accuracy: 0.7659 - val_loss: 1.1555 - val_accuracy: 0.6352\n",
      "Epoch 7/10\n",
      "296/296 [==============================] - 9s 31ms/step - loss: 0.6834 - accuracy: 0.7771 - val_loss: 1.1392 - val_accuracy: 0.6457\n",
      "Epoch 8/10\n",
      "296/296 [==============================] - 9s 30ms/step - loss: 0.6425 - accuracy: 0.7948 - val_loss: 1.1670 - val_accuracy: 0.6451\n",
      "Epoch 9/10\n",
      "296/296 [==============================] - 9s 30ms/step - loss: 0.6081 - accuracy: 0.8032 - val_loss: 1.1878 - val_accuracy: 0.6387\n",
      "Epoch 10/10\n",
      "296/296 [==============================] - 9s 30ms/step - loss: 0.5843 - accuracy: 0.8170 - val_loss: 1.1929 - val_accuracy: 0.6384\n"
     ]
    }
   ],
   "source": [
    "base_model = keras.applications.mobilenet.MobileNet(weights='imagenet', include_top=False, input_shape=(128, 128, 3))\n",
    "\n",
    "\n",
    "x = base_model.output\n",
    "x = keras.layers.GlobalAveragePooling2D()(x)\n",
    "predictions = keras.layers.Dense(15, activation=\"softmax\", kernel_initializer=\"he_normal\")(x)\n",
    "model = keras.models.Model(inputs = base_model.input, outputs = predictions)\n",
    "\n",
    "for layer in base_model.layers:\n",
    "    layer.trainable = False\n",
    "    \n",
    "model.compile(optimizer = \"adam\", loss=\"sparse_categorical_crossentropy\", metrics=[\"accuracy\"])\n",
    "top_history = model.fit(X_train, y_train, validation_data=(X_test, y_test), epochs=10, batch_size=32)"
   ]
  },
  {
   "cell_type": "code",
   "execution_count": 7,
   "id": "e93ad28e",
   "metadata": {
    "ExecuteTime": {
     "end_time": "2022-07-07T02:54:37.238840Z",
     "start_time": "2022-07-07T02:54:37.231859Z"
    }
   },
   "outputs": [],
   "source": [
    "for layer in model.layers:\n",
    "    layer.trainable=True"
   ]
  },
  {
   "cell_type": "code",
   "execution_count": 8,
   "id": "3403751b",
   "metadata": {
    "ExecuteTime": {
     "end_time": "2022-07-07T03:08:32.399678Z",
     "start_time": "2022-07-07T02:54:37.503184Z"
    }
   },
   "outputs": [
    {
     "name": "stdout",
     "output_type": "stream",
     "text": [
      "Epoch 1/30\n",
      "296/296 [==============================] - 32s 93ms/step - loss: 1.7306 - accuracy: 0.5353 - val_loss: 1.7261 - val_accuracy: 0.5432\n",
      "Epoch 2/30\n",
      "296/296 [==============================] - 27s 90ms/step - loss: 0.8205 - accuracy: 0.7399 - val_loss: 1.5851 - val_accuracy: 0.5740\n",
      "Epoch 3/30\n",
      "296/296 [==============================] - 26s 89ms/step - loss: 0.5935 - accuracy: 0.8072 - val_loss: 1.9795 - val_accuracy: 0.5070\n",
      "Epoch 4/30\n",
      "296/296 [==============================] - 26s 88ms/step - loss: 0.4727 - accuracy: 0.8397 - val_loss: 2.6585 - val_accuracy: 0.4644\n",
      "Epoch 5/30\n",
      "296/296 [==============================] - 27s 93ms/step - loss: 0.3579 - accuracy: 0.8806 - val_loss: 1.6503 - val_accuracy: 0.5914\n",
      "Epoch 6/30\n",
      "296/296 [==============================] - 27s 93ms/step - loss: 0.3209 - accuracy: 0.8941 - val_loss: 2.4101 - val_accuracy: 0.4876\n",
      "Epoch 7/30\n",
      "296/296 [==============================] - 27s 93ms/step - loss: 0.2910 - accuracy: 0.9029 - val_loss: 1.9170 - val_accuracy: 0.5860\n",
      "Epoch 8/30\n",
      "296/296 [==============================] - 27s 93ms/step - loss: 0.2427 - accuracy: 0.9186 - val_loss: 1.9132 - val_accuracy: 0.5883\n",
      "Epoch 9/30\n",
      "296/296 [==============================] - 28s 93ms/step - loss: 0.2185 - accuracy: 0.9263 - val_loss: 2.6165 - val_accuracy: 0.5165\n",
      "Epoch 10/30\n",
      "296/296 [==============================] - 28s 93ms/step - loss: 0.2297 - accuracy: 0.9236 - val_loss: 2.0891 - val_accuracy: 0.5632\n",
      "Epoch 11/30\n",
      "296/296 [==============================] - 28s 94ms/step - loss: 0.1847 - accuracy: 0.9367 - val_loss: 3.0896 - val_accuracy: 0.4717\n",
      "Epoch 12/30\n",
      "296/296 [==============================] - 28s 94ms/step - loss: 0.1476 - accuracy: 0.9480 - val_loss: 2.1794 - val_accuracy: 0.5994\n",
      "Epoch 13/30\n",
      "296/296 [==============================] - 28s 94ms/step - loss: 0.1821 - accuracy: 0.9403 - val_loss: 2.0571 - val_accuracy: 0.6044\n",
      "Epoch 14/30\n",
      "296/296 [==============================] - 28s 94ms/step - loss: 0.1495 - accuracy: 0.9537 - val_loss: 2.2273 - val_accuracy: 0.5803\n",
      "Epoch 15/30\n",
      "296/296 [==============================] - 28s 94ms/step - loss: 0.1567 - accuracy: 0.9480 - val_loss: 2.0865 - val_accuracy: 0.5587\n",
      "Epoch 16/30\n",
      "296/296 [==============================] - 28s 94ms/step - loss: 0.1314 - accuracy: 0.9566 - val_loss: 1.9885 - val_accuracy: 0.5911\n",
      "Epoch 17/30\n",
      "296/296 [==============================] - 28s 94ms/step - loss: 0.1273 - accuracy: 0.9615 - val_loss: 2.4133 - val_accuracy: 0.5559\n",
      "Epoch 18/30\n",
      "296/296 [==============================] - 28s 94ms/step - loss: 0.1489 - accuracy: 0.9507 - val_loss: 2.7054 - val_accuracy: 0.5575 loss: - ETA: 0s - loss: 0.1478 - accu\n",
      "Epoch 19/30\n",
      "296/296 [==============================] - 28s 95ms/step - loss: 0.1449 - accuracy: 0.9520 - val_loss: 2.2906 - val_accuracy: 0.5841\n",
      "Epoch 20/30\n",
      "296/296 [==============================] - 28s 93ms/step - loss: 0.1176 - accuracy: 0.9611 - val_loss: 2.2974 - val_accuracy: 0.5778\n",
      "Epoch 21/30\n",
      "296/296 [==============================] - 27s 93ms/step - loss: 0.1311 - accuracy: 0.9577 - val_loss: 2.3739 - val_accuracy: 0.5933: 9s - loss: 0.1 - ETA:  - ETA: 5s - loss: 0.1329 - accu - ETA: 4s - loss: 0\n",
      "Epoch 22/30\n",
      "296/296 [==============================] - 28s 95ms/step - loss: 0.1032 - accuracy: 0.9662 - val_loss: 2.0535 - val_accuracy: 0.61460s - loss: 0.102\n",
      "Epoch 23/30\n",
      "296/296 [==============================] - 28s 95ms/step - loss: 0.0807 - accuracy: 0.9733 - val_loss: 2.5366 - val_accuracy: 0.5740\n",
      "Epoch 24/30\n",
      "296/296 [==============================] - 28s 95ms/step - loss: 0.1092 - accuracy: 0.9637 - val_loss: 2.2128 - val_accuracy: 0.6244\n",
      "Epoch 25/30\n",
      "296/296 [==============================] - 28s 95ms/step - loss: 0.1252 - accuracy: 0.9602 - val_loss: 2.6182 - val_accuracy: 0.5686\n",
      "Epoch 26/30\n",
      "296/296 [==============================] - 28s 95ms/step - loss: 0.0965 - accuracy: 0.9669 - val_loss: 2.4370 - val_accuracy: 0.5908\n",
      "Epoch 27/30\n",
      "296/296 [==============================] - 27s 92ms/step - loss: 0.0911 - accuracy: 0.9684 - val_loss: 2.6161 - val_accuracy: 0.5937\n",
      "Epoch 28/30\n",
      "296/296 [==============================] - 26s 89ms/step - loss: 0.0891 - accuracy: 0.9711 - val_loss: 2.0220 - val_accuracy: 0.6248\n",
      "Epoch 29/30\n",
      "296/296 [==============================] - 27s 90ms/step - loss: 0.0760 - accuracy: 0.9749 - val_loss: 2.8794 - val_accuracy: 0.5543\n",
      "Epoch 30/30\n",
      "296/296 [==============================] - 27s 91ms/step - loss: 0.0894 - accuracy: 0.9703 - val_loss: 2.3734 - val_accuracy: 0.6086\n"
     ]
    }
   ],
   "source": [
    "model.compile(optimizer = \"adam\", loss=\"sparse_categorical_crossentropy\", metrics=[\"accuracy\"])\n",
    "history = model.fit(X_train, y_train, validation_data=(X_test, y_test), epochs=30)"
   ]
  },
  {
   "cell_type": "code",
   "execution_count": 9,
   "id": "7876088a",
   "metadata": {
    "ExecuteTime": {
     "end_time": "2022-07-07T03:08:33.006768Z",
     "start_time": "2022-07-07T03:08:32.541674Z"
    }
   },
   "outputs": [
    {
     "data": {
      "text/plain": [
       "[<matplotlib.lines.Line2D at 0x212d0da50d0>]"
      ]
     },
     "execution_count": 9,
     "metadata": {},
     "output_type": "execute_result"
    },
    {
     "data": {
      "image/png": "[encoded data removed]",
      "text/plain": [
       "<Figure size 1008x720 with 1 Axes>"
      ]
     },
     "metadata": {
      "needs_background": "light"
     },
     "output_type": "display_data"
    }
   ],
   "source": [
    "plt.figure(figsize=(14, 10))\n",
    "plt.plot(top_history.history[\"accuracy\"])\n",
    "plt.plot(top_history.history[\"val_accuracy\"])"
   ]
  },
  {
   "cell_type": "code",
   "execution_count": 11,
   "id": "4f53a75a",
   "metadata": {
    "ExecuteTime": {
     "end_time": "2022-07-07T03:08:50.146168Z",
     "start_time": "2022-07-07T03:08:50.031467Z"
    }
   },
   "outputs": [
    {
     "data": {
      "text/plain": [
       "[<matplotlib.lines.Line2D at 0x212d4230af0>]"
      ]
     },
     "execution_count": 11,
     "metadata": {},
     "output_type": "execute_result"
    },
    {
     "data": {
      "image/png": "[encoded data removed]",
      "text/plain": [
       "<Figure size 1008x720 with 1 Axes>"
      ]
     },
     "metadata": {
      "needs_background": "light"
     },
     "output_type": "display_data"
    }
   ],
   "source": [
    "plt.figure(figsize=(14, 10))\n",
    "plt.ylim(0, 1)\n",
    "plt.plot(history.history[\"accuracy\"])\n",
    "plt.plot(history.history[\"val_accuracy\"])"
   ]
  },
  {
   "cell_type": "code",
   "execution_count": 12,
   "id": "f570c5c0",
   "metadata": {
    "ExecuteTime": {
     "end_time": "2022-07-07T03:10:29.208810Z",
     "start_time": "2022-07-07T03:10:29.179219Z"
    }
   },
   "outputs": [
    {
     "name": "stdout",
     "output_type": "stream",
     "text": [
      "Model: \"model\"\n",
      "_________________________________________________________________\n",
      "Layer (type)                 Output Shape              Param #   \n",
      "=================================================================\n",
      "input_1 (InputLayer)         [(None, 128, 128, 3)]     0         \n",
      "_________________________________________________________________\n",
      "conv1 (Conv2D)               (None, 64, 64, 32)        864       \n",
      "_________________________________________________________________\n",
      "conv1_bn (BatchNormalization (None, 64, 64, 32)        128       \n",
      "_________________________________________________________________\n",
      "conv1_relu (ReLU)            (None, 64, 64, 32)        0         \n",
      "_________________________________________________________________\n",
      "conv_dw_1 (DepthwiseConv2D)  (None, 64, 64, 32)        288       \n",
      "_________________________________________________________________\n",
      "conv_dw_1_bn (BatchNormaliza (None, 64, 64, 32)        128       \n",
      "_________________________________________________________________\n",
      "conv_dw_1_relu (ReLU)        (None, 64, 64, 32)        0         \n",
      "_________________________________________________________________\n",
      "conv_pw_1 (Conv2D)           (None, 64, 64, 64)        2048      \n",
      "_________________________________________________________________\n",
      "conv_pw_1_bn (BatchNormaliza (None, 64, 64, 64)        256       \n",
      "_________________________________________________________________\n",
      "conv_pw_1_relu (ReLU)        (None, 64, 64, 64)        0         \n",
      "_________________________________________________________________\n",
      "conv_pad_2 (ZeroPadding2D)   (None, 65, 65, 64)        0         \n",
      "_________________________________________________________________\n",
      "conv_dw_2 (DepthwiseConv2D)  (None, 32, 32, 64)        576       \n",
      "_________________________________________________________________\n",
      "conv_dw_2_bn (BatchNormaliza (None, 32, 32, 64)        256       \n",
      "_________________________________________________________________\n",
      "conv_dw_2_relu (ReLU)        (None, 32, 32, 64)        0         \n",
      "_________________________________________________________________\n",
      "conv_pw_2 (Conv2D)           (None, 32, 32, 128)       8192      \n",
      "_________________________________________________________________\n",
      "conv_pw_2_bn (BatchNormaliza (None, 32, 32, 128)       512       \n",
      "_________________________________________________________________\n",
      "conv_pw_2_relu (ReLU)        (None, 32, 32, 128)       0         \n",
      "_________________________________________________________________\n",
      "conv_dw_3 (DepthwiseConv2D)  (None, 32, 32, 128)       1152      \n",
      "_________________________________________________________________\n",
      "conv_dw_3_bn (BatchNormaliza (None, 32, 32, 128)       512       \n",
      "_________________________________________________________________\n",
      "conv_dw_3_relu (ReLU)        (None, 32, 32, 128)       0         \n",
      "_________________________________________________________________\n",
      "conv_pw_3 (Conv2D)           (None, 32, 32, 128)       16384     \n",
      "_________________________________________________________________\n",
      "conv_pw_3_bn (BatchNormaliza (None, 32, 32, 128)       512       \n",
      "_________________________________________________________________\n",
      "conv_pw_3_relu (ReLU)        (None, 32, 32, 128)       0         \n",
      "_________________________________________________________________\n",
      "conv_pad_4 (ZeroPadding2D)   (None, 33, 33, 128)       0         \n",
      "_________________________________________________________________\n",
      "conv_dw_4 (DepthwiseConv2D)  (None, 16, 16, 128)       1152      \n",
      "_________________________________________________________________\n",
      "conv_dw_4_bn (BatchNormaliza (None, 16, 16, 128)       512       \n",
      "_________________________________________________________________\n",
      "conv_dw_4_relu (ReLU)        (None, 16, 16, 128)       0         \n",
      "_________________________________________________________________\n",
      "conv_pw_4 (Conv2D)           (None, 16, 16, 256)       32768     \n",
      "_________________________________________________________________\n",
      "conv_pw_4_bn (BatchNormaliza (None, 16, 16, 256)       1024      \n",
      "_________________________________________________________________\n",
      "conv_pw_4_relu (ReLU)        (None, 16, 16, 256)       0         \n",
      "_________________________________________________________________\n",
      "conv_dw_5 (DepthwiseConv2D)  (None, 16, 16, 256)       2304      \n",
      "_________________________________________________________________\n",
      "conv_dw_5_bn (BatchNormaliza (None, 16, 16, 256)       1024      \n",
      "_________________________________________________________________\n",
      "conv_dw_5_relu (ReLU)        (None, 16, 16, 256)       0         \n",
      "_________________________________________________________________\n",
      "conv_pw_5 (Conv2D)           (None, 16, 16, 256)       65536     \n",
      "_________________________________________________________________\n",
      "conv_pw_5_bn (BatchNormaliza (None, 16, 16, 256)       1024      \n",
      "_________________________________________________________________\n",
      "conv_pw_5_relu (ReLU)        (None, 16, 16, 256)       0         \n",
      "_________________________________________________________________\n",
      "conv_pad_6 (ZeroPadding2D)   (None, 17, 17, 256)       0         \n",
      "_________________________________________________________________\n",
      "conv_dw_6 (DepthwiseConv2D)  (None, 8, 8, 256)         2304      \n",
      "_________________________________________________________________\n",
      "conv_dw_6_bn (BatchNormaliza (None, 8, 8, 256)         1024      \n",
      "_________________________________________________________________\n",
      "conv_dw_6_relu (ReLU)        (None, 8, 8, 256)         0         \n",
      "_________________________________________________________________\n",
      "conv_pw_6 (Conv2D)           (None, 8, 8, 512)         131072    \n",
      "_________________________________________________________________\n",
      "conv_pw_6_bn (BatchNormaliza (None, 8, 8, 512)         2048      \n",
      "_________________________________________________________________\n",
      "conv_pw_6_relu (ReLU)        (None, 8, 8, 512)         0         \n",
      "_________________________________________________________________\n",
      "conv_dw_7 (DepthwiseConv2D)  (None, 8, 8, 512)         4608      \n",
      "_________________________________________________________________\n",
      "conv_dw_7_bn (BatchNormaliza (None, 8, 8, 512)         2048      \n",
      "_________________________________________________________________\n",
      "conv_dw_7_relu (ReLU)        (None, 8, 8, 512)         0         \n",
      "_________________________________________________________________\n",
      "conv_pw_7 (Conv2D)           (None, 8, 8, 512)         262144    \n",
      "_________________________________________________________________\n",
      "conv_pw_7_bn (BatchNormaliza (None, 8, 8, 512)         2048      \n",
      "_________________________________________________________________\n",
      "conv_pw_7_relu (ReLU)        (None, 8, 8, 512)         0         \n",
      "_________________________________________________________________\n",
      "conv_dw_8 (DepthwiseConv2D)  (None, 8, 8, 512)         4608      \n",
      "_________________________________________________________________\n",
      "conv_dw_8_bn (BatchNormaliza (None, 8, 8, 512)         2048      \n",
      "_________________________________________________________________\n",
      "conv_dw_8_relu (ReLU)        (None, 8, 8, 512)         0         \n",
      "_________________________________________________________________\n",
      "conv_pw_8 (Conv2D)           (None, 8, 8, 512)         262144    \n",
      "_________________________________________________________________\n",
      "conv_pw_8_bn (BatchNormaliza (None, 8, 8, 512)         2048      \n",
      "_________________________________________________________________\n",
      "conv_pw_8_relu (ReLU)        (None, 8, 8, 512)         0         \n",
      "_________________________________________________________________\n",
      "conv_dw_9 (DepthwiseConv2D)  (None, 8, 8, 512)         4608      \n",
      "_________________________________________________________________\n",
      "conv_dw_9_bn (BatchNormaliza (None, 8, 8, 512)         2048      \n",
      "_________________________________________________________________\n",
      "conv_dw_9_relu (ReLU)        (None, 8, 8, 512)         0         \n",
      "_________________________________________________________________\n",
      "conv_pw_9 (Conv2D)           (None, 8, 8, 512)         262144    \n",
      "_________________________________________________________________\n",
      "conv_pw_9_bn (BatchNormaliza (None, 8, 8, 512)         2048      \n",
      "_________________________________________________________________\n",
      "conv_pw_9_relu (ReLU)        (None, 8, 8, 512)         0         \n",
      "_________________________________________________________________\n",
      "conv_dw_10 (DepthwiseConv2D) (None, 8, 8, 512)         4608      \n",
      "_________________________________________________________________\n",
      "conv_dw_10_bn (BatchNormaliz (None, 8, 8, 512)         2048      \n",
      "_________________________________________________________________\n",
      "conv_dw_10_relu (ReLU)       (None, 8, 8, 512)         0         \n",
      "_________________________________________________________________\n",
      "conv_pw_10 (Conv2D)          (None, 8, 8, 512)         262144    \n",
      "_________________________________________________________________\n",
      "conv_pw_10_bn (BatchNormaliz (None, 8, 8, 512)         2048      \n",
      "_________________________________________________________________\n",
      "conv_pw_10_relu (ReLU)       (None, 8, 8, 512)         0         \n",
      "_________________________________________________________________\n",
      "conv_dw_11 (DepthwiseConv2D) (None, 8, 8, 512)         4608      \n",
      "_________________________________________________________________\n",
      "conv_dw_11_bn (BatchNormaliz (None, 8, 8, 512)         2048      \n",
      "_________________________________________________________________\n",
      "conv_dw_11_relu (ReLU)       (None, 8, 8, 512)         0         \n",
      "_________________________________________________________________\n",
      "conv_pw_11 (Conv2D)          (None, 8, 8, 512)         262144    \n",
      "_________________________________________________________________\n",
      "conv_pw_11_bn (BatchNormaliz (None, 8, 8, 512)         2048      \n",
      "_________________________________________________________________\n",
      "conv_pw_11_relu (ReLU)       (None, 8, 8, 512)         0         \n",
      "_________________________________________________________________\n",
      "conv_pad_12 (ZeroPadding2D)  (None, 9, 9, 512)         0         \n",
      "_________________________________________________________________\n",
      "conv_dw_12 (DepthwiseConv2D) (None, 4, 4, 512)         4608      \n",
      "_________________________________________________________________\n",
      "conv_dw_12_bn (BatchNormaliz (None, 4, 4, 512)         2048      \n",
      "_________________________________________________________________\n",
      "conv_dw_12_relu (ReLU)       (None, 4, 4, 512)         0         \n",
      "_________________________________________________________________\n",
      "conv_pw_12 (Conv2D)          (None, 4, 4, 1024)        524288    \n",
      "_________________________________________________________________\n",
      "conv_pw_12_bn (BatchNormaliz (None, 4, 4, 1024)        4096      \n",
      "_________________________________________________________________\n",
      "conv_pw_12_relu (ReLU)       (None, 4, 4, 1024)        0         \n",
      "_________________________________________________________________\n",
      "conv_dw_13 (DepthwiseConv2D) (None, 4, 4, 1024)        9216      \n",
      "_________________________________________________________________\n",
      "conv_dw_13_bn (BatchNormaliz (None, 4, 4, 1024)        4096      \n",
      "_________________________________________________________________\n",
      "conv_dw_13_relu (ReLU)       (None, 4, 4, 1024)        0         \n",
      "_________________________________________________________________\n",
      "conv_pw_13 (Conv2D)          (None, 4, 4, 1024)        1048576   \n",
      "_________________________________________________________________\n",
      "conv_pw_13_bn (BatchNormaliz (None, 4, 4, 1024)        4096      \n",
      "_________________________________________________________________\n",
      "conv_pw_13_relu (ReLU)       (None, 4, 4, 1024)        0         \n",
      "_________________________________________________________________\n",
      "global_average_pooling2d (Gl (None, 1024)              0         \n",
      "_________________________________________________________________\n",
      "dense (Dense)                (None, 15)                15375     \n",
      "=================================================================\n",
      "Total params: 3,244,239\n",
      "Trainable params: 3,222,351\n",
      "Non-trainable params: 21,888\n",
      "_________________________________________________________________\n"
     ]
    }
   ],
   "source": [
    "model.summary()"
   ]
  },
  {
   "cell_type": "markdown",
   "id": "e3b3f1a4",
   "metadata": {},
   "source": [
    "# Without weight freeze "
   ]
  },
  {
   "cell_type": "code",
   "execution_count": 6,
   "id": "bff707c7",
   "metadata": {
    "ExecuteTime": {
     "end_time": "2022-07-07T03:32:47.462727Z",
     "start_time": "2022-07-07T03:19:13.291964Z"
    }
   },
   "outputs": [
    {
     "name": "stdout",
     "output_type": "stream",
     "text": [
      "Epoch 1/30\n",
      "296/296 [==============================] - 35s 92ms/step - loss: 1.6044 - accuracy: 0.5228 - val_loss: 1.5462 - val_accuracy: 0.5622\n",
      "Epoch 2/30\n",
      "296/296 [==============================] - 25s 85ms/step - loss: 0.8932 - accuracy: 0.7147 - val_loss: 1.6423 - val_accuracy: 0.5514\n",
      "Epoch 3/30\n",
      "296/296 [==============================] - 25s 85ms/step - loss: 0.6352 - accuracy: 0.7915 - val_loss: 1.9551 - val_accuracy: 0.5194\n",
      "Epoch 4/30\n",
      "296/296 [==============================] - 26s 87ms/step - loss: 0.4965 - accuracy: 0.8338 - val_loss: 2.0156 - val_accuracy: 0.5403\n",
      "Epoch 5/30\n",
      "296/296 [==============================] - 26s 88ms/step - loss: 0.3840 - accuracy: 0.8671 - val_loss: 1.9913 - val_accuracy: 0.5311\n",
      "Epoch 6/30\n",
      "296/296 [==============================] - 26s 88ms/step - loss: 0.3224 - accuracy: 0.8916 - val_loss: 2.1168 - val_accuracy: 0.5333\n",
      "Epoch 7/30\n",
      "296/296 [==============================] - 26s 88ms/step - loss: 0.2732 - accuracy: 0.9105 - val_loss: 1.9505 - val_accuracy: 0.5673\n",
      "Epoch 8/30\n",
      "296/296 [==============================] - 26s 89ms/step - loss: 0.2145 - accuracy: 0.9259 - val_loss: 2.0595 - val_accuracy: 0.5517\n",
      "Epoch 9/30\n",
      "296/296 [==============================] - 26s 87ms/step - loss: 0.2266 - accuracy: 0.9219 - val_loss: 2.0970 - val_accuracy: 0.5886\n",
      "Epoch 10/30\n",
      "296/296 [==============================] - 26s 89ms/step - loss: 0.2108 - accuracy: 0.9292 - val_loss: 1.8080 - val_accuracy: 0.6000\n",
      "Epoch 11/30\n",
      "296/296 [==============================] - 26s 89ms/step - loss: 0.1434 - accuracy: 0.9528 - val_loss: 1.9333 - val_accuracy: 0.5914\n",
      "Epoch 12/30\n",
      "296/296 [==============================] - 26s 87ms/step - loss: 0.1487 - accuracy: 0.9513 - val_loss: 2.1119 - val_accuracy: 0.6029\n",
      "Epoch 13/30\n",
      "296/296 [==============================] - 26s 87ms/step - loss: 0.1728 - accuracy: 0.9434 - val_loss: 1.9622 - val_accuracy: 0.6098\n",
      "Epoch 14/30\n",
      "296/296 [==============================] - 26s 88ms/step - loss: 0.1375 - accuracy: 0.9566 - val_loss: 1.7685 - val_accuracy: 0.6308\n",
      "Epoch 15/30\n",
      "296/296 [==============================] - 26s 88ms/step - loss: 0.1219 - accuracy: 0.9597 - val_loss: 2.6570 - val_accuracy: 0.5575\n",
      "Epoch 16/30\n",
      "296/296 [==============================] - 26s 88ms/step - loss: 0.1358 - accuracy: 0.9545 - val_loss: 2.1288 - val_accuracy: 0.5981\n",
      "Epoch 17/30\n",
      "296/296 [==============================] - 26s 87ms/step - loss: 0.1186 - accuracy: 0.9592 - val_loss: 2.2380 - val_accuracy: 0.5975\n",
      "Epoch 18/30\n",
      "296/296 [==============================] - 26s 89ms/step - loss: 0.1354 - accuracy: 0.9546 - val_loss: 2.4407 - val_accuracy: 0.5892\n",
      "Epoch 19/30\n",
      "296/296 [==============================] - 26s 88ms/step - loss: 0.1273 - accuracy: 0.9561 - val_loss: 2.2150 - val_accuracy: 0.6190\n",
      "Epoch 20/30\n",
      "296/296 [==============================] - 26s 89ms/step - loss: 0.1271 - accuracy: 0.9604 - val_loss: 1.8488 - val_accuracy: 0.6495\n",
      "Epoch 21/30\n",
      "296/296 [==============================] - 26s 89ms/step - loss: 0.0813 - accuracy: 0.9731 - val_loss: 2.1106 - val_accuracy: 0.6200\n",
      "Epoch 22/30\n",
      "296/296 [==============================] - 26s 89ms/step - loss: 0.0899 - accuracy: 0.9702 - val_loss: 2.3825 - val_accuracy: 0.5702\n",
      "Epoch 23/30\n",
      "296/296 [==============================] - 26s 88ms/step - loss: 0.1165 - accuracy: 0.9617 - val_loss: 2.5426 - val_accuracy: 0.6079\n",
      "Epoch 24/30\n",
      "296/296 [==============================] - 26s 88ms/step - loss: 0.1035 - accuracy: 0.9669 - val_loss: 2.2438 - val_accuracy: 0.6181\n",
      "Epoch 25/30\n",
      "296/296 [==============================] - 26s 87ms/step - loss: 0.0826 - accuracy: 0.9750 - val_loss: 2.2580 - val_accuracy: 0.6200\n",
      "Epoch 26/30\n",
      "296/296 [==============================] - 26s 87ms/step - loss: 0.0791 - accuracy: 0.9754 - val_loss: 2.0779 - val_accuracy: 0.6270\n",
      "Epoch 27/30\n",
      "296/296 [==============================] - 26s 87ms/step - loss: 0.0868 - accuracy: 0.9711 - val_loss: 2.4404 - val_accuracy: 0.5822\n",
      "Epoch 28/30\n",
      "296/296 [==============================] - 26s 89ms/step - loss: 0.1015 - accuracy: 0.9662 - val_loss: 2.7844 - val_accuracy: 0.5530\n",
      "Epoch 29/30\n",
      "296/296 [==============================] - 27s 90ms/step - loss: 0.1021 - accuracy: 0.9680 - val_loss: 2.2154 - val_accuracy: 0.6165\n",
      "Epoch 30/30\n",
      "296/296 [==============================] - 26s 89ms/step - loss: 0.0764 - accuracy: 0.9742 - val_loss: 2.0239 - val_accuracy: 0.6378\n"
     ]
    }
   ],
   "source": [
    "base_model = keras.applications.mobilenet.MobileNet(weights='imagenet', include_top=False, input_shape=(128, 128, 3))\n",
    "\n",
    "\n",
    "x = base_model.output\n",
    "x = keras.layers.GlobalAveragePooling2D()(x)\n",
    "predictions = keras.layers.Dense(15, activation=\"softmax\", kernel_initializer=\"he_normal\")(x)\n",
    "model = keras.models.Model(inputs = base_model.input, outputs = predictions)\n",
    "\n",
    "    \n",
    "model.compile(optimizer = \"adam\", loss=\"sparse_categorical_crossentropy\", metrics=[\"accuracy\"])\n",
    "no_freeze_history = model.fit(X_train, y_train, validation_data=(X_test, y_test), epochs=30, batch_size=32)"
   ]
  },
  {
   "cell_type": "code",
   "execution_count": 7,
   "id": "458808a4",
   "metadata": {
    "ExecuteTime": {
     "end_time": "2022-07-07T03:34:23.098677Z",
     "start_time": "2022-07-07T03:34:22.636438Z"
    }
   },
   "outputs": [
    {
     "data": {
      "text/plain": [
       "[<matplotlib.lines.Line2D at 0x2466df3f1c0>]"
      ]
     },
     "execution_count": 7,
     "metadata": {},
     "output_type": "execute_result"
    },
    {
     "data": {
      "image/png": "[encoded data removed]",
      "text/plain": [
       "<Figure size 1008x720 with 1 Axes>"
      ]
     },
     "metadata": {
      "needs_background": "light"
     },
     "output_type": "display_data"
    }
   ],
   "source": [
    "plt.figure(figsize=(14, 10))\n",
    "plt.ylim(0, 1)\n",
    "plt.plot(no_freeze_history.history[\"accuracy\"])\n",
    "plt.plot(no_freeze_history.history[\"val_accuracy\"])"
   ]
  },
  {
   "cell_type": "code",
   "execution_count": null,
   "id": "19a48ff6",
   "metadata": {},
   "outputs": [],
   "source": []
  }
 ],
 "metadata": {
  "kernelspec": {
   "display_name": "=python3.9.0",
   "language": "python",
   "name": "python3.9.0"
  },
  "language_info": {
   "codemirror_mode": {
    "name": "ipython",
    "version": 3
   },
   "file_extension": ".py",
   "mimetype": "text/x-python",
   "name": "python",
   "nbconvert_exporter": "python",
   "pygments_lexer": "ipython3",
   "version": "3.9.12"
  },
  "toc": {
   "base_numbering": 1,
   "nav_menu": {},
   "number_sections": true,
   "sideBar": true,
   "skip_h1_title": false,
   "title_cell": "Table of Contents",
   "title_sidebar": "Contents",
   "toc_cell": false,
   "toc_position": {},
   "toc_section_display": true,
   "toc_window_display": false
  },
  "varInspector": {
   "cols": {
    "lenName": 16,
    "lenType": 16,
    "lenVar": 40
   },
   "kernels_config": {
    "python": {
     "delete_cmd_postfix": "",
     "delete_cmd_prefix": "del ",
     "library": "var_list.py",
     "varRefreshCmd": "print(var_dic_list())"
    },
    "r": {
     "delete_cmd_postfix": ") ",
     "delete_cmd_prefix": "rm(",
     "library": "var_list.r",
     "varRefreshCmd": "cat(var_dic_list()) "
    }
   },
   "types_to_exclude": [
    "module",
    "function",
    "builtin_function_or_method",
    "instance",
    "_Feature"
   ],
   "window_display": false
  }
 },
 "nbformat": 4,
 "nbformat_minor": 5
}
