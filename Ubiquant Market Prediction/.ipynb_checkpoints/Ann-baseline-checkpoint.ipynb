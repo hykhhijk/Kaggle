{
 "cells": [
  {
   "cell_type": "markdown",
   "id": "2e645fed",
   "metadata": {
    "papermill": {
     "duration": 0.013553,
     "end_time": "2022-03-30T13:31:43.996765",
     "exception": false,
     "start_time": "2022-03-30T13:31:43.983212",
     "status": "completed"
    },
    "tags": []
   },
   "source": [
    "# Baseline for Ubiquant Market Prediction using ANN"
   ]
  },
  {
   "cell_type": "markdown",
   "id": "2df32325",
   "metadata": {
    "papermill": {
     "duration": 0.015503,
     "end_time": "2022-03-30T13:31:44.032652",
     "exception": false,
     "start_time": "2022-03-30T13:31:44.017149",
     "status": "completed"
    },
    "tags": []
   },
   "source": [
    "**Thanks to notebook contributors for make baseline for my notebook**\n",
    "- https://www.kaggle.com/code/sohier/competition-api-detailed-introduction/notebook\n",
    "- https://www.kaggle.com/code/pythonash/end-to-end-simple-and-powerful-dnn-with-leakyrelu\n",
    "- https://www.kaggle.com/code/robikscube/fast-data-loading-and-low-mem-with-parquet-files"
   ]
  },
  {
   "cell_type": "markdown",
   "id": "986c84d1",
   "metadata": {
    "papermill": {
     "duration": 0.009485,
     "end_time": "2022-03-30T13:31:44.051944",
     "exception": false,
     "start_time": "2022-03-30T13:31:44.042459",
     "status": "completed"
    },
    "tags": []
   },
   "source": [
    "First import libraries and dataset."
   ]
  },
  {
   "cell_type": "code",
   "execution_count": 1,
   "id": "6cd37d25",
   "metadata": {
    "ExecuteTime": {
     "end_time": "2022-04-14T12:42:59.474356Z",
     "start_time": "2022-04-14T12:42:53.750908Z"
    },
    "_cell_guid": "b1076dfc-b9ad-4769-8c92-a6c4dae69d19",
    "_uuid": "8f2839f25d086af736a60e9eeb907d3b93b6e0e5",
    "execution": {
     "iopub.execute_input": "2022-03-30T13:31:44.081556Z",
     "iopub.status.busy": "2022-03-30T13:31:44.080942Z",
     "iopub.status.idle": "2022-03-30T13:31:51.961638Z",
     "shell.execute_reply": "2022-03-30T13:31:51.960466Z",
     "shell.execute_reply.started": "2022-03-30T12:46:06.43505Z"
    },
    "papermill": {
     "duration": 7.900134,
     "end_time": "2022-03-30T13:31:51.961783",
     "exception": false,
     "start_time": "2022-03-30T13:31:44.061649",
     "status": "completed"
    },
    "tags": []
   },
   "outputs": [],
   "source": [
    "import numpy as np # linear algebra\n",
    "import pandas as pd # data processing, CSV file I/O (e.g. pd.read_csv)\n",
    "import tensorflow.keras as keras\n",
    "import tensorflow as tf\n",
    "import os\n",
    "from sklearn.model_selection import train_test_split\n",
    "from sklearn.preprocessing import StandardScaler"
   ]
  },
  {
   "cell_type": "code",
   "execution_count": 2,
   "id": "05d993ae",
   "metadata": {
    "ExecuteTime": {
     "end_time": "2022-04-14T12:43:37.322434Z",
     "start_time": "2022-04-14T12:42:59.476352Z"
    },
    "execution": {
     "iopub.execute_input": "2022-03-30T13:31:51.987891Z",
     "iopub.status.busy": "2022-03-30T13:31:51.987095Z",
     "iopub.status.idle": "2022-03-30T13:32:31.312242Z",
     "shell.execute_reply": "2022-03-30T13:32:31.311320Z",
     "shell.execute_reply.started": "2022-03-30T12:23:42.620177Z"
    },
    "papermill": {
     "duration": 39.340095,
     "end_time": "2022-03-30T13:32:31.312397",
     "exception": false,
     "start_time": "2022-03-30T13:31:51.972302",
     "status": "completed"
    },
    "tags": []
   },
   "outputs": [],
   "source": [
    "df = pd.read_parquet('D:/kaggle_datasets/ubiquant-parquet/train_low_mem.parquet')\n",
    "df = df.astype(\"float16\")"
   ]
  },
  {
   "cell_type": "code",
   "execution_count": 3,
   "id": "17e3db75",
   "metadata": {
    "ExecuteTime": {
     "end_time": "2022-04-14T12:43:37.354349Z",
     "start_time": "2022-04-14T12:43:37.325398Z"
    }
   },
   "outputs": [
    {
     "data": {
      "text/plain": [
       "'2.7.0'"
      ]
     },
     "execution_count": 3,
     "metadata": {},
     "output_type": "execute_result"
    }
   ],
   "source": [
    "tf.__version__"
   ]
  },
  {
   "cell_type": "markdown",
   "id": "0d91f320",
   "metadata": {
    "papermill": {
     "duration": 0.009666,
     "end_time": "2022-03-30T13:32:31.332587",
     "exception": false,
     "start_time": "2022-03-30T13:32:31.322921",
     "status": "completed"
    },
    "tags": []
   },
   "source": [
    "# Preprocess dataset\n",
    "\n",
    "Because of it's baseline I use only f_n for features for X_train."
   ]
  },
  {
   "cell_type": "code",
   "execution_count": 4,
   "id": "3c72961c",
   "metadata": {
    "ExecuteTime": {
     "end_time": "2022-04-14T12:43:41.873631Z",
     "start_time": "2022-04-14T12:43:37.356315Z"
    },
    "execution": {
     "iopub.execute_input": "2022-03-30T13:32:34.337172Z",
     "iopub.status.busy": "2022-03-30T13:32:34.321467Z",
     "iopub.status.idle": "2022-03-30T13:32:41.679382Z",
     "shell.execute_reply": "2022-03-30T13:32:41.678908Z",
     "shell.execute_reply.started": "2022-03-30T12:24:10.683925Z"
    },
    "papermill": {
     "duration": 10.336824,
     "end_time": "2022-03-30T13:32:41.679509",
     "exception": false,
     "start_time": "2022-03-30T13:32:31.342685",
     "status": "completed"
    },
    "tags": []
   },
   "outputs": [],
   "source": [
    "index_col = df.drop([\"row_id\", \"time_id\", \"investment_id\", \"target\"], axis=1).columns\n",
    "X_train = df[index_col]"
   ]
  },
  {
   "cell_type": "code",
   "execution_count": 5,
   "id": "5c9c5f6a",
   "metadata": {
    "ExecuteTime": {
     "end_time": "2022-04-14T12:43:41.889562Z",
     "start_time": "2022-04-14T12:43:41.875620Z"
    },
    "execution": {
     "iopub.execute_input": "2022-03-30T13:32:41.704460Z",
     "iopub.status.busy": "2022-03-30T13:32:41.703344Z",
     "iopub.status.idle": "2022-03-30T13:32:41.705179Z",
     "shell.execute_reply": "2022-03-30T13:32:41.705565Z"
    },
    "papermill": {
     "duration": 0.016035,
     "end_time": "2022-03-30T13:32:41.705694",
     "exception": false,
     "start_time": "2022-03-30T13:32:41.689659",
     "status": "completed"
    },
    "tags": []
   },
   "outputs": [],
   "source": [
    "y_train = df[\"target\"]"
   ]
  },
  {
   "cell_type": "markdown",
   "id": "75a8ada0",
   "metadata": {
    "papermill": {
     "duration": 0.011464,
     "end_time": "2022-03-30T13:32:41.727097",
     "exception": false,
     "start_time": "2022-03-30T13:32:41.715633",
     "status": "completed"
    },
    "tags": []
   },
   "source": [
    "# Making model\n",
    "\n",
    "I make simple model using Dense layer and BatchNormalizaion without hyper parameter tuning."
   ]
  },
  {
   "cell_type": "code",
   "execution_count": 6,
   "id": "a58c4f51",
   "metadata": {
    "ExecuteTime": {
     "end_time": "2022-04-14T12:43:41.921509Z",
     "start_time": "2022-04-14T12:43:41.891558Z"
    }
   },
   "outputs": [
    {
     "data": {
      "text/plain": [
       "2122479    900.0\n",
       "2122480    900.0\n",
       "2122481    900.0\n",
       "2122482    900.0\n",
       "2122483    900.0\n",
       "           ...  \n",
       "2125507    900.0\n",
       "2125508    900.0\n",
       "2125509    900.0\n",
       "2125510    900.0\n",
       "2125511    900.0\n",
       "Name: time_id, Length: 3033, dtype: float16"
      ]
     },
     "execution_count": 6,
     "metadata": {},
     "output_type": "execute_result"
    }
   ],
   "source": [
    "df[\"time_id\"][df[\"time_id\"]==900.0]"
   ]
  },
  {
   "cell_type": "code",
   "execution_count": 7,
   "id": "c4ad7702",
   "metadata": {
    "ExecuteTime": {
     "end_time": "2022-04-14T12:43:41.937466Z",
     "start_time": "2022-04-14T12:43:41.923471Z"
    }
   },
   "outputs": [],
   "source": [
    "X_train, y_train, X_test, y_test = X_train[0:2122479], y_train[0:2122479], X_train[2122479:], y_train[2122479:]"
   ]
  },
  {
   "cell_type": "code",
   "execution_count": 8,
   "id": "3813366d",
   "metadata": {
    "ExecuteTime": {
     "end_time": "2022-04-14T12:43:41.953391Z",
     "start_time": "2022-04-14T12:43:41.939438Z"
    }
   },
   "outputs": [],
   "source": [
    "def pearson_correlation(y_true, y_pred, axis=-1):\n",
    "    y_true = y_true-tf.reduce_mean(y_true)\n",
    "    y_pred = y_pred-tf.reduce_mean(y_pred)\n",
    "    y_true = tf.linalg.l2_normalize(y_true, axis=axis)\n",
    "    y_pred = tf.linalg.l2_normalize(y_pred, axis=axis)\n",
    "    return tf.reduce_sum(y_true * y_pred, axis=axis)\n",
    "\n",
    "def pearson_correlation_loss(y_true, y_pred, axis=-1):\n",
    "    y_true = y_true-tf.reduce_mean(y_true)\n",
    "    y_pred = y_pred-tf.reduce_mean(y_pred)\n",
    "    cosine = keras.losses.cosine_similarity(y_true, y_pred, axis=axis)\n",
    "    return cosine"
   ]
  },
  {
   "cell_type": "code",
   "execution_count": 12,
   "id": "9ba9fb1b",
   "metadata": {
    "ExecuteTime": {
     "end_time": "2022-04-14T13:06:50.300152Z",
     "start_time": "2022-04-14T13:06:50.288184Z"
    }
   },
   "outputs": [],
   "source": [
    "es = keras.callbacks.EarlyStopping(monitor=\"val_mse\", patience=4, mode=\"min\")"
   ]
  },
  {
   "cell_type": "code",
   "execution_count": 13,
   "id": "ba65d498",
   "metadata": {
    "ExecuteTime": {
     "end_time": "2022-04-14T13:06:51.901821Z",
     "start_time": "2022-04-14T13:06:51.815650Z"
    },
    "execution": {
     "iopub.execute_input": "2022-03-30T13:32:41.753747Z",
     "iopub.status.busy": "2022-03-30T13:32:41.753248Z",
     "iopub.status.idle": "2022-03-30T13:32:45.722742Z",
     "shell.execute_reply": "2022-03-30T13:32:45.723351Z"
    },
    "papermill": {
     "duration": 3.986594,
     "end_time": "2022-03-30T13:32:45.723539",
     "exception": false,
     "start_time": "2022-03-30T13:32:41.736945",
     "status": "completed"
    },
    "tags": []
   },
   "outputs": [],
   "source": [
    "Input = keras.layers.Input(shape=X_train.shape[1])\n",
    "x = keras.layers.Dense(128, activation=\"relu\", kernel_initializer=keras.initializers.he_normal)(Input)\n",
    "x = keras.layers.BatchNormalization()(x)\n",
    "x = keras.layers.Dense(64, activation=\"relu\", kernel_initializer=keras.initializers.he_normal)(x)\n",
    "x = keras.layers.BatchNormalization()(x)\n",
    "x = keras.layers.Dense(32, activation=\"relu\", kernel_initializer=keras.initializers.he_normal)(x)\n",
    "x = keras.layers.BatchNormalization()(x)\n",
    "x = keras.layers.Dense(16, activation=\"relu\", kernel_initializer=keras.initializers.he_normal)(x)\n",
    "x = keras.layers.BatchNormalization()(x)\n",
    "Output = keras.layers.Dense(1, activation=\"linear\", kernel_initializer=keras.initializers.he_normal)(x)\n",
    "\n",
    "model = keras.models.Model(inputs = Input, outputs = Output)"
   ]
  },
  {
   "cell_type": "code",
   "execution_count": null,
   "id": "6ff81b20",
   "metadata": {
    "ExecuteTime": {
     "start_time": "2022-04-14T13:06:53.195Z"
    },
    "execution": {
     "iopub.execute_input": "2022-03-30T13:32:45.751718Z",
     "iopub.status.busy": "2022-03-30T13:32:45.750965Z",
     "iopub.status.idle": "2022-03-30T14:05:48.148745Z",
     "shell.execute_reply": "2022-03-30T14:05:48.148314Z"
    },
    "papermill": {
     "duration": 1982.413617,
     "end_time": "2022-03-30T14:05:48.148882",
     "exception": false,
     "start_time": "2022-03-30T13:32:45.735265",
     "status": "completed"
    },
    "tags": []
   },
   "outputs": [
    {
     "name": "stdout",
     "output_type": "stream",
     "text": [
      "Epoch 1/15\n",
      "  441/66328 [..............................] - ETA: 8:30 - loss: 1.1781 - mse: 1.1781 - mae: 0.7727"
     ]
    }
   ],
   "source": [
    "model.compile(loss=\"mse\", optimizer=\"adam\", metrics=[\"mse\", \"mae\"])\n",
    "history = model.fit(X_train, y_train, validation_data=(X_test, y_test), epochs=15, callbacks=[es])"
   ]
  },
  {
   "cell_type": "code",
   "execution_count": null,
   "id": "1700de20",
   "metadata": {
    "ExecuteTime": {
     "start_time": "2022-04-14T13:06:53.851Z"
    }
   },
   "outputs": [],
   "source": [
    "Input = keras.layers.Input(shape=X_train.shape[1])\n",
    "x = keras.layers.Dense(256, activation=\"relu\", kernel_initializer=keras.initializers.he_normal)(Input)\n",
    "x = keras.layers.BatchNormalization()(x)\n",
    "x = keras.layers.Dense(128, activation=\"relu\", kernel_initializer=keras.initializers.he_normal)(x)\n",
    "x = keras.layers.BatchNormalization()(x)\n",
    "x = keras.layers.Dense(64, activation=\"relu\", kernel_initializer=keras.initializers.he_normal)(x)\n",
    "x = keras.layers.BatchNormalization()(x)\n",
    "x = keras.layers.Dense(32, activation=\"relu\", kernel_initializer=keras.initializers.he_normal)(x)\n",
    "x = keras.layers.BatchNormalization()(x)\n",
    "x = keras.layers.Dense(16, activation=\"relu\", kernel_initializer=keras.initializers.he_normal)(x)\n",
    "x = keras.layers.BatchNormalization()(x)\n",
    "Output = keras.layers.Dense(1, activation=\"linear\", kernel_initializer=keras.initializers.he_normal)(x)\n",
    "\n",
    "model = keras.models.Model(inputs = Input, outputs = Output)"
   ]
  },
  {
   "cell_type": "code",
   "execution_count": null,
   "id": "47bf003a",
   "metadata": {
    "ExecuteTime": {
     "start_time": "2022-04-14T13:06:57.530Z"
    }
   },
   "outputs": [],
   "source": [
    "model.compile(loss=\"mse\", optimizer=\"adam\", metrics=[\"mse\", \"mae\"])\n",
    "history.append(model.fit(X_train, y_train, validation_data=(X_test, y_test), epochs=15, callbacks=[es]))"
   ]
  },
  {
   "cell_type": "code",
   "execution_count": null,
   "id": "8bd73f6d",
   "metadata": {},
   "outputs": [],
   "source": []
  },
  {
   "cell_type": "code",
   "execution_count": null,
   "id": "bd217660",
   "metadata": {},
   "outputs": [],
   "source": []
  },
  {
   "cell_type": "code",
   "execution_count": null,
   "id": "95f6ca8e",
   "metadata": {},
   "outputs": [],
   "source": []
  },
  {
   "cell_type": "code",
   "execution_count": null,
   "id": "6fa0dcc3",
   "metadata": {},
   "outputs": [],
   "source": []
  },
  {
   "cell_type": "code",
   "execution_count": 13,
   "id": "f33a55fc",
   "metadata": {
    "ExecuteTime": {
     "end_time": "2022-04-14T08:56:55.079841Z",
     "start_time": "2022-04-14T08:56:54.983090Z"
    }
   },
   "outputs": [],
   "source": [
    "Input = keras.layers.Input(shape=X_train.shape[1])\n",
    "x = keras.layers.Dense(128)(Input)\n",
    "x = keras.layers.LeakyReLU(alpha=0.2)(x)\n",
    "x = keras.layers.BatchNormalization()(x)\n",
    "x = keras.layers.Dense(64)(x)\n",
    "x = keras.layers.LeakyReLU(alpha=0.2)(x)\n",
    "x = keras.layers.BatchNormalization()(x)\n",
    "x = keras.layers.Dense(32)(x)\n",
    "x = keras.layers.LeakyReLU(alpha=0.2)(x)\n",
    "x = keras.layers.BatchNormalization()(x)\n",
    "x = keras.layers.Dense(16)(x)\n",
    "x = keras.layers.LeakyReLU(alpha=0.2, )(x)\n",
    "x = keras.layers.BatchNormalization()(x)\n",
    "Output = keras.layers.Dense(1, activation=\"linear\")(x)\n",
    "\n",
    "model_leak = keras.models.Model(inputs = Input, outputs = Output)"
   ]
  },
  {
   "cell_type": "code",
   "execution_count": 14,
   "id": "c2e470e9",
   "metadata": {
    "ExecuteTime": {
     "end_time": "2022-04-14T09:41:02.945294Z",
     "start_time": "2022-04-14T08:56:55.830582Z"
    }
   },
   "outputs": [
    {
     "name": "stdout",
     "output_type": "stream",
     "text": [
      "Epoch 1/5\n",
      "53062/53062 [==============================] - 535s 10ms/step - loss: -0.0168 - mse: 5.1480 - pearson_correlation: 0.0168 - val_loss: -0.0261 - val_mse: 5.6028 - val_pearson_correlation: 0.0261\n",
      "Epoch 2/5\n",
      "53062/53062 [==============================] - 537s 10ms/step - loss: -0.0410 - mse: 9.0370 - pearson_correlation: 0.0410 - val_loss: -0.0213 - val_mse: 12.6602 - val_pearson_correlation: 0.0213\n",
      "Epoch 3/5\n",
      "53062/53062 [==============================] - 547s 10ms/step - loss: -0.0387 - mse: 12.3854 - pearson_correlation: 0.0387 - val_loss: -0.0224 - val_mse: 12.7966 - val_pearson_correlation: 0.0224\n",
      "Epoch 4/5\n",
      "53062/53062 [==============================] - 515s 10ms/step - loss: -0.0497 - mse: 15.0104 - pearson_correlation: 0.0497 - val_loss: -0.0341 - val_mse: 18.8002 - val_pearson_correlation: 0.0341\n",
      "Epoch 5/5\n",
      "53062/53062 [==============================] - 511s 10ms/step - loss: -0.0675 - mse: 20.9339 - pearson_correlation: 0.0675 - val_loss: -0.0520 - val_mse: 47.9651 - val_pearson_correlation: 0.0520\n"
     ]
    }
   ],
   "source": [
    "model_leak.compile(loss=pearson_correlation_loss, optimizer=\"adam\", metrics=[\"mse\", pearson_correlation])\n",
    "history = model_leak.fit(X_train, y_train, validation_data=(X_test, y_test), epochs=5)"
   ]
  },
  {
   "cell_type": "markdown",
   "id": "8b86a1cd",
   "metadata": {},
   "source": [
    "# 특성 공학 및 하이퍼 파라미터 서칭 "
   ]
  },
  {
   "cell_type": "code",
   "execution_count": 99,
   "id": "b45bce74",
   "metadata": {
    "ExecuteTime": {
     "end_time": "2022-04-07T06:39:34.671084Z",
     "start_time": "2022-04-07T06:39:34.480488Z"
    }
   },
   "outputs": [],
   "source": [
    "Input = keras.layers.Input(shape=X_train.shape[1])\n",
    "x = keras.layers.Dense(128)(Input)\n",
    "x = keras.layers.LeakyReLU(alpha=0.2)(x)\n",
    "x = keras.layers.BatchNormalization()(x)\n",
    "x = keras.layers.Dense(64)(x)\n",
    "x = keras.layers.LeakyReLU(alpha=0.2)(x)\n",
    "x = keras.layers.BatchNormalization()(x)\n",
    "x = keras.layers.Dense(32)(x)\n",
    "x = keras.layers.LeakyReLU(alpha=0.2)(x)\n",
    "x = keras.layers.BatchNormalization()(x)\n",
    "x = keras.layers.Dense(16)(x)\n",
    "x = keras.layers.LeakyReLU(alpha=0.2, )(x)\n",
    "x = keras.layers.BatchNormalization()(x)\n",
    "Output = keras.layers.Dense(1, activation=\"linear\")(x)\n",
    "\n",
    "model_leak = keras.models.Model(inputs = Input, outputs = Output)"
   ]
  },
  {
   "cell_type": "code",
   "execution_count": 24,
   "id": "9f4f3ce2",
   "metadata": {
    "ExecuteTime": {
     "end_time": "2022-04-05T15:23:30.602843Z",
     "start_time": "2022-04-05T14:49:56.176370Z"
    }
   },
   "outputs": [
    {
     "name": "stdout",
     "output_type": "stream",
     "text": [
      "Train on 2513128 samples, validate on 628282 samples\n",
      "Epoch 1/5\n",
      "2513128/2513128 [==============================] - 469s 187us/sample - loss: 0.8408 - mse: 0.8408 - val_loss: 0.8120 - val_mse: 0.8120\n",
      "Epoch 2/5\n",
      "2513128/2513128 [==============================] - 421s 167us/sample - loss: 0.8347 - mse: 0.8347 - val_loss: 0.8096 - val_mse: 0.8096\n",
      "Epoch 3/5\n",
      "2513128/2513128 [==============================] - 427s 170us/sample - loss: 0.8323 - mse: 0.8323 - val_loss: 0.8087 - val_mse: 0.8087\n",
      "Epoch 4/5\n",
      "2513128/2513128 [==============================] - 347s 138us/sample - loss: 0.8308 - mse: 0.8308 - val_loss: 0.8127 - val_mse: 0.8127\n",
      "Epoch 5/5\n",
      "2513128/2513128 [==============================] - 347s 138us/sample - loss: 0.8296 - mse: 0.8296 - val_loss: 0.8107 - val_mse: 0.8107\n"
     ]
    }
   ],
   "source": [
    "model_leak.compile(loss=\"mse\", optimizer=\"adam\", metrics=[\"mse\"])\n",
    "history = model_leak.fit(X_train, y_train, validation_split=0.2, epochs=5)"
   ]
  },
  {
   "cell_type": "code",
   "execution_count": 31,
   "id": "02abbd8b",
   "metadata": {
    "ExecuteTime": {
     "end_time": "2022-04-08T06:04:32.039388Z",
     "start_time": "2022-04-08T06:04:18.552655Z"
    }
   },
   "outputs": [],
   "source": [
    "index_col = df.drop([\"row_id\", \"target\", \"time_id\"], axis=1).columns\n",
    "X_train = df[index_col]\n",
    "X_train = X_train.astype(\"float16\")\n",
    "y_train = df[\"target\"]"
   ]
  },
  {
   "cell_type": "code",
   "execution_count": 32,
   "id": "1eff013b",
   "metadata": {
    "ExecuteTime": {
     "end_time": "2022-04-08T06:04:40.363837Z",
     "start_time": "2022-04-08T06:04:39.987069Z"
    }
   },
   "outputs": [
    {
     "data": {
      "text/html": [
       "<div>\n",
       "<style scoped>\n",
       "    .dataframe tbody tr th:only-of-type {\n",
       "        vertical-align: middle;\n",
       "    }\n",
       "\n",
       "    .dataframe tbody tr th {\n",
       "        vertical-align: top;\n",
       "    }\n",
       "\n",
       "    .dataframe thead th {\n",
       "        text-align: right;\n",
       "    }\n",
       "</style>\n",
       "<table border=\"1\" class=\"dataframe\">\n",
       "  <thead>\n",
       "    <tr style=\"text-align: right;\">\n",
       "      <th></th>\n",
       "      <th>investment_id</th>\n",
       "      <th>f_0</th>\n",
       "      <th>f_1</th>\n",
       "      <th>f_2</th>\n",
       "      <th>f_3</th>\n",
       "      <th>f_4</th>\n",
       "      <th>f_5</th>\n",
       "      <th>f_6</th>\n",
       "      <th>f_7</th>\n",
       "      <th>f_8</th>\n",
       "      <th>...</th>\n",
       "      <th>f_290</th>\n",
       "      <th>f_291</th>\n",
       "      <th>f_292</th>\n",
       "      <th>f_293</th>\n",
       "      <th>f_294</th>\n",
       "      <th>f_295</th>\n",
       "      <th>f_296</th>\n",
       "      <th>f_297</th>\n",
       "      <th>f_298</th>\n",
       "      <th>f_299</th>\n",
       "    </tr>\n",
       "  </thead>\n",
       "  <tbody>\n",
       "    <tr>\n",
       "      <th>0</th>\n",
       "      <td>1.0</td>\n",
       "      <td>0.932617</td>\n",
       "      <td>0.113708</td>\n",
       "      <td>-0.402100</td>\n",
       "      <td>0.378418</td>\n",
       "      <td>-0.203979</td>\n",
       "      <td>-0.413574</td>\n",
       "      <td>0.965820</td>\n",
       "      <td>1.230469</td>\n",
       "      <td>0.114807</td>\n",
       "      <td>...</td>\n",
       "      <td>0.365967</td>\n",
       "      <td>-1.095703</td>\n",
       "      <td>0.200073</td>\n",
       "      <td>0.819336</td>\n",
       "      <td>0.941406</td>\n",
       "      <td>-0.086792</td>\n",
       "      <td>-1.086914</td>\n",
       "      <td>-1.044922</td>\n",
       "      <td>-0.287598</td>\n",
       "      <td>0.321533</td>\n",
       "    </tr>\n",
       "    <tr>\n",
       "      <th>1</th>\n",
       "      <td>2.0</td>\n",
       "      <td>0.811035</td>\n",
       "      <td>-0.514160</td>\n",
       "      <td>0.742188</td>\n",
       "      <td>-0.616699</td>\n",
       "      <td>-0.194214</td>\n",
       "      <td>1.771484</td>\n",
       "      <td>1.427734</td>\n",
       "      <td>1.133789</td>\n",
       "      <td>0.114807</td>\n",
       "      <td>...</td>\n",
       "      <td>-0.154175</td>\n",
       "      <td>0.912598</td>\n",
       "      <td>-0.734375</td>\n",
       "      <td>0.819336</td>\n",
       "      <td>0.941406</td>\n",
       "      <td>-0.387695</td>\n",
       "      <td>-1.086914</td>\n",
       "      <td>-0.929688</td>\n",
       "      <td>-0.974121</td>\n",
       "      <td>-0.343506</td>\n",
       "    </tr>\n",
       "    <tr>\n",
       "      <th>2</th>\n",
       "      <td>6.0</td>\n",
       "      <td>0.394043</td>\n",
       "      <td>0.615723</td>\n",
       "      <td>0.567871</td>\n",
       "      <td>-0.607910</td>\n",
       "      <td>0.068909</td>\n",
       "      <td>-1.083008</td>\n",
       "      <td>0.979492</td>\n",
       "      <td>-1.125977</td>\n",
       "      <td>0.114807</td>\n",
       "      <td>...</td>\n",
       "      <td>-0.138062</td>\n",
       "      <td>0.912598</td>\n",
       "      <td>-0.551758</td>\n",
       "      <td>-1.220703</td>\n",
       "      <td>-1.060547</td>\n",
       "      <td>-0.219116</td>\n",
       "      <td>-1.086914</td>\n",
       "      <td>-0.612305</td>\n",
       "      <td>-0.113953</td>\n",
       "      <td>0.243652</td>\n",
       "    </tr>\n",
       "    <tr>\n",
       "      <th>3</th>\n",
       "      <td>7.0</td>\n",
       "      <td>-2.343750</td>\n",
       "      <td>-0.011871</td>\n",
       "      <td>1.875000</td>\n",
       "      <td>-0.606445</td>\n",
       "      <td>-0.586914</td>\n",
       "      <td>-0.815918</td>\n",
       "      <td>0.778320</td>\n",
       "      <td>0.299072</td>\n",
       "      <td>0.114807</td>\n",
       "      <td>...</td>\n",
       "      <td>0.382080</td>\n",
       "      <td>0.912598</td>\n",
       "      <td>-0.266357</td>\n",
       "      <td>-1.220703</td>\n",
       "      <td>0.941406</td>\n",
       "      <td>-0.608887</td>\n",
       "      <td>0.104919</td>\n",
       "      <td>-0.783203</td>\n",
       "      <td>1.151367</td>\n",
       "      <td>-0.773438</td>\n",
       "    </tr>\n",
       "    <tr>\n",
       "      <th>4</th>\n",
       "      <td>8.0</td>\n",
       "      <td>0.842285</td>\n",
       "      <td>-0.262939</td>\n",
       "      <td>2.330078</td>\n",
       "      <td>-0.583496</td>\n",
       "      <td>-0.618164</td>\n",
       "      <td>-0.742676</td>\n",
       "      <td>-0.946777</td>\n",
       "      <td>1.230469</td>\n",
       "      <td>0.114807</td>\n",
       "      <td>...</td>\n",
       "      <td>-0.170410</td>\n",
       "      <td>0.912598</td>\n",
       "      <td>-0.741211</td>\n",
       "      <td>-1.220703</td>\n",
       "      <td>0.941406</td>\n",
       "      <td>-0.588379</td>\n",
       "      <td>0.104919</td>\n",
       "      <td>0.753418</td>\n",
       "      <td>1.345703</td>\n",
       "      <td>-0.737793</td>\n",
       "    </tr>\n",
       "    <tr>\n",
       "      <th>...</th>\n",
       "      <td>...</td>\n",
       "      <td>...</td>\n",
       "      <td>...</td>\n",
       "      <td>...</td>\n",
       "      <td>...</td>\n",
       "      <td>...</td>\n",
       "      <td>...</td>\n",
       "      <td>...</td>\n",
       "      <td>...</td>\n",
       "      <td>...</td>\n",
       "      <td>...</td>\n",
       "      <td>...</td>\n",
       "      <td>...</td>\n",
       "      <td>...</td>\n",
       "      <td>...</td>\n",
       "      <td>...</td>\n",
       "      <td>...</td>\n",
       "      <td>...</td>\n",
       "      <td>...</td>\n",
       "      <td>...</td>\n",
       "      <td>...</td>\n",
       "    </tr>\n",
       "    <tr>\n",
       "      <th>3141405</th>\n",
       "      <td>3768.0</td>\n",
       "      <td>0.093506</td>\n",
       "      <td>-0.720215</td>\n",
       "      <td>-0.345459</td>\n",
       "      <td>-0.438721</td>\n",
       "      <td>-0.166992</td>\n",
       "      <td>-0.437256</td>\n",
       "      <td>1.475586</td>\n",
       "      <td>1.284180</td>\n",
       "      <td>0.056427</td>\n",
       "      <td>...</td>\n",
       "      <td>-0.285889</td>\n",
       "      <td>-1.232422</td>\n",
       "      <td>-0.660645</td>\n",
       "      <td>0.875488</td>\n",
       "      <td>0.421631</td>\n",
       "      <td>-0.427979</td>\n",
       "      <td>-0.075562</td>\n",
       "      <td>-0.533203</td>\n",
       "      <td>-0.193726</td>\n",
       "      <td>-0.581543</td>\n",
       "    </tr>\n",
       "    <tr>\n",
       "      <th>3141406</th>\n",
       "      <td>3768.0</td>\n",
       "      <td>-1.344727</td>\n",
       "      <td>-0.199951</td>\n",
       "      <td>-0.107727</td>\n",
       "      <td>-0.454590</td>\n",
       "      <td>-0.221924</td>\n",
       "      <td>-0.141113</td>\n",
       "      <td>-1.498047</td>\n",
       "      <td>1.374023</td>\n",
       "      <td>0.056427</td>\n",
       "      <td>...</td>\n",
       "      <td>0.184570</td>\n",
       "      <td>-1.232422</td>\n",
       "      <td>-0.670410</td>\n",
       "      <td>0.875488</td>\n",
       "      <td>0.421631</td>\n",
       "      <td>-0.729980</td>\n",
       "      <td>-1.514648</td>\n",
       "      <td>0.013145</td>\n",
       "      <td>-0.890137</td>\n",
       "      <td>-0.589844</td>\n",
       "    </tr>\n",
       "    <tr>\n",
       "      <th>3141407</th>\n",
       "      <td>3770.0</td>\n",
       "      <td>0.979492</td>\n",
       "      <td>-1.110352</td>\n",
       "      <td>1.006836</td>\n",
       "      <td>-0.467285</td>\n",
       "      <td>-0.159546</td>\n",
       "      <td>1.355469</td>\n",
       "      <td>0.150757</td>\n",
       "      <td>-0.088928</td>\n",
       "      <td>0.056427</td>\n",
       "      <td>...</td>\n",
       "      <td>-0.756348</td>\n",
       "      <td>-1.232422</td>\n",
       "      <td>0.820801</td>\n",
       "      <td>-1.142578</td>\n",
       "      <td>0.421631</td>\n",
       "      <td>-0.363281</td>\n",
       "      <td>1.363281</td>\n",
       "      <td>-0.079102</td>\n",
       "      <td>-1.580078</td>\n",
       "      <td>-0.297607</td>\n",
       "    </tr>\n",
       "    <tr>\n",
       "      <th>3141408</th>\n",
       "      <td>3772.0</td>\n",
       "      <td>-2.564453</td>\n",
       "      <td>0.320312</td>\n",
       "      <td>0.076599</td>\n",
       "      <td>1.379883</td>\n",
       "      <td>-0.155396</td>\n",
       "      <td>-0.688965</td>\n",
       "      <td>0.381104</td>\n",
       "      <td>-1.325195</td>\n",
       "      <td>0.056427</td>\n",
       "      <td>...</td>\n",
       "      <td>-0.756348</td>\n",
       "      <td>-1.232422</td>\n",
       "      <td>0.133057</td>\n",
       "      <td>-1.142578</td>\n",
       "      <td>0.421631</td>\n",
       "      <td>-0.375244</td>\n",
       "      <td>-1.514648</td>\n",
       "      <td>-0.973633</td>\n",
       "      <td>0.608887</td>\n",
       "      <td>-0.372070</td>\n",
       "    </tr>\n",
       "    <tr>\n",
       "      <th>3141409</th>\n",
       "      <td>3772.0</td>\n",
       "      <td>-0.089539</td>\n",
       "      <td>0.190186</td>\n",
       "      <td>-0.548340</td>\n",
       "      <td>0.151245</td>\n",
       "      <td>0.079773</td>\n",
       "      <td>0.447998</td>\n",
       "      <td>1.014648</td>\n",
       "      <td>-1.325195</td>\n",
       "      <td>0.056427</td>\n",
       "      <td>...</td>\n",
       "      <td>-0.317139</td>\n",
       "      <td>0.811523</td>\n",
       "      <td>3.271484</td>\n",
       "      <td>0.875488</td>\n",
       "      <td>0.421631</td>\n",
       "      <td>-0.170654</td>\n",
       "      <td>1.363281</td>\n",
       "      <td>-0.563477</td>\n",
       "      <td>0.669434</td>\n",
       "      <td>0.456299</td>\n",
       "    </tr>\n",
       "  </tbody>\n",
       "</table>\n",
       "<p>3141410 rows × 301 columns</p>\n",
       "</div>"
      ],
      "text/plain": [
       "         investment_id       f_0       f_1       f_2       f_3       f_4  \\\n",
       "0                  1.0  0.932617  0.113708 -0.402100  0.378418 -0.203979   \n",
       "1                  2.0  0.811035 -0.514160  0.742188 -0.616699 -0.194214   \n",
       "2                  6.0  0.394043  0.615723  0.567871 -0.607910  0.068909   \n",
       "3                  7.0 -2.343750 -0.011871  1.875000 -0.606445 -0.586914   \n",
       "4                  8.0  0.842285 -0.262939  2.330078 -0.583496 -0.618164   \n",
       "...                ...       ...       ...       ...       ...       ...   \n",
       "3141405         3768.0  0.093506 -0.720215 -0.345459 -0.438721 -0.166992   \n",
       "3141406         3768.0 -1.344727 -0.199951 -0.107727 -0.454590 -0.221924   \n",
       "3141407         3770.0  0.979492 -1.110352  1.006836 -0.467285 -0.159546   \n",
       "3141408         3772.0 -2.564453  0.320312  0.076599  1.379883 -0.155396   \n",
       "3141409         3772.0 -0.089539  0.190186 -0.548340  0.151245  0.079773   \n",
       "\n",
       "              f_5       f_6       f_7       f_8  ...     f_290     f_291  \\\n",
       "0       -0.413574  0.965820  1.230469  0.114807  ...  0.365967 -1.095703   \n",
       "1        1.771484  1.427734  1.133789  0.114807  ... -0.154175  0.912598   \n",
       "2       -1.083008  0.979492 -1.125977  0.114807  ... -0.138062  0.912598   \n",
       "3       -0.815918  0.778320  0.299072  0.114807  ...  0.382080  0.912598   \n",
       "4       -0.742676 -0.946777  1.230469  0.114807  ... -0.170410  0.912598   \n",
       "...           ...       ...       ...       ...  ...       ...       ...   \n",
       "3141405 -0.437256  1.475586  1.284180  0.056427  ... -0.285889 -1.232422   \n",
       "3141406 -0.141113 -1.498047  1.374023  0.056427  ...  0.184570 -1.232422   \n",
       "3141407  1.355469  0.150757 -0.088928  0.056427  ... -0.756348 -1.232422   \n",
       "3141408 -0.688965  0.381104 -1.325195  0.056427  ... -0.756348 -1.232422   \n",
       "3141409  0.447998  1.014648 -1.325195  0.056427  ... -0.317139  0.811523   \n",
       "\n",
       "            f_292     f_293     f_294     f_295     f_296     f_297     f_298  \\\n",
       "0        0.200073  0.819336  0.941406 -0.086792 -1.086914 -1.044922 -0.287598   \n",
       "1       -0.734375  0.819336  0.941406 -0.387695 -1.086914 -0.929688 -0.974121   \n",
       "2       -0.551758 -1.220703 -1.060547 -0.219116 -1.086914 -0.612305 -0.113953   \n",
       "3       -0.266357 -1.220703  0.941406 -0.608887  0.104919 -0.783203  1.151367   \n",
       "4       -0.741211 -1.220703  0.941406 -0.588379  0.104919  0.753418  1.345703   \n",
       "...           ...       ...       ...       ...       ...       ...       ...   \n",
       "3141405 -0.660645  0.875488  0.421631 -0.427979 -0.075562 -0.533203 -0.193726   \n",
       "3141406 -0.670410  0.875488  0.421631 -0.729980 -1.514648  0.013145 -0.890137   \n",
       "3141407  0.820801 -1.142578  0.421631 -0.363281  1.363281 -0.079102 -1.580078   \n",
       "3141408  0.133057 -1.142578  0.421631 -0.375244 -1.514648 -0.973633  0.608887   \n",
       "3141409  3.271484  0.875488  0.421631 -0.170654  1.363281 -0.563477  0.669434   \n",
       "\n",
       "            f_299  \n",
       "0        0.321533  \n",
       "1       -0.343506  \n",
       "2        0.243652  \n",
       "3       -0.773438  \n",
       "4       -0.737793  \n",
       "...           ...  \n",
       "3141405 -0.581543  \n",
       "3141406 -0.589844  \n",
       "3141407 -0.297607  \n",
       "3141408 -0.372070  \n",
       "3141409  0.456299  \n",
       "\n",
       "[3141410 rows x 301 columns]"
      ]
     },
     "execution_count": 32,
     "metadata": {},
     "output_type": "execute_result"
    }
   ],
   "source": [
    "X_train"
   ]
  },
  {
   "cell_type": "code",
   "execution_count": 33,
   "id": "82d5f849",
   "metadata": {
    "ExecuteTime": {
     "end_time": "2022-04-08T06:04:55.840910Z",
     "start_time": "2022-04-08T06:04:55.136223Z"
    }
   },
   "outputs": [
    {
     "data": {
      "text/html": [
       "<div>\n",
       "<style scoped>\n",
       "    .dataframe tbody tr th:only-of-type {\n",
       "        vertical-align: middle;\n",
       "    }\n",
       "\n",
       "    .dataframe tbody tr th {\n",
       "        vertical-align: top;\n",
       "    }\n",
       "\n",
       "    .dataframe thead th {\n",
       "        text-align: right;\n",
       "    }\n",
       "</style>\n",
       "<table border=\"1\" class=\"dataframe\">\n",
       "  <thead>\n",
       "    <tr style=\"text-align: right;\">\n",
       "      <th></th>\n",
       "      <th>row_id</th>\n",
       "      <th>time_id</th>\n",
       "      <th>investment_id</th>\n",
       "      <th>target</th>\n",
       "      <th>f_0</th>\n",
       "      <th>f_1</th>\n",
       "      <th>f_2</th>\n",
       "      <th>f_3</th>\n",
       "      <th>f_4</th>\n",
       "      <th>f_5</th>\n",
       "      <th>...</th>\n",
       "      <th>f_290</th>\n",
       "      <th>f_291</th>\n",
       "      <th>f_292</th>\n",
       "      <th>f_293</th>\n",
       "      <th>f_294</th>\n",
       "      <th>f_295</th>\n",
       "      <th>f_296</th>\n",
       "      <th>f_297</th>\n",
       "      <th>f_298</th>\n",
       "      <th>f_299</th>\n",
       "    </tr>\n",
       "  </thead>\n",
       "  <tbody>\n",
       "    <tr>\n",
       "      <th>0</th>\n",
       "      <td>0_1</td>\n",
       "      <td>0</td>\n",
       "      <td>1</td>\n",
       "      <td>-0.300875</td>\n",
       "      <td>0.932573</td>\n",
       "      <td>0.113691</td>\n",
       "      <td>-0.402206</td>\n",
       "      <td>0.378386</td>\n",
       "      <td>-0.203938</td>\n",
       "      <td>-0.413469</td>\n",
       "      <td>...</td>\n",
       "      <td>0.366028</td>\n",
       "      <td>-1.095620</td>\n",
       "      <td>0.200075</td>\n",
       "      <td>0.819155</td>\n",
       "      <td>0.941183</td>\n",
       "      <td>-0.086764</td>\n",
       "      <td>-1.087009</td>\n",
       "      <td>-1.044826</td>\n",
       "      <td>-0.287605</td>\n",
       "      <td>0.321566</td>\n",
       "    </tr>\n",
       "    <tr>\n",
       "      <th>1</th>\n",
       "      <td>0_2</td>\n",
       "      <td>0</td>\n",
       "      <td>2</td>\n",
       "      <td>-0.231040</td>\n",
       "      <td>0.810802</td>\n",
       "      <td>-0.514115</td>\n",
       "      <td>0.742368</td>\n",
       "      <td>-0.616673</td>\n",
       "      <td>-0.194255</td>\n",
       "      <td>1.771210</td>\n",
       "      <td>...</td>\n",
       "      <td>-0.154193</td>\n",
       "      <td>0.912726</td>\n",
       "      <td>-0.734579</td>\n",
       "      <td>0.819155</td>\n",
       "      <td>0.941183</td>\n",
       "      <td>-0.387617</td>\n",
       "      <td>-1.087009</td>\n",
       "      <td>-0.929529</td>\n",
       "      <td>-0.974060</td>\n",
       "      <td>-0.343624</td>\n",
       "    </tr>\n",
       "    <tr>\n",
       "      <th>2</th>\n",
       "      <td>0_6</td>\n",
       "      <td>0</td>\n",
       "      <td>6</td>\n",
       "      <td>0.568807</td>\n",
       "      <td>0.393974</td>\n",
       "      <td>0.615937</td>\n",
       "      <td>0.567806</td>\n",
       "      <td>-0.607963</td>\n",
       "      <td>0.068883</td>\n",
       "      <td>-1.083155</td>\n",
       "      <td>...</td>\n",
       "      <td>-0.138020</td>\n",
       "      <td>0.912726</td>\n",
       "      <td>-0.551904</td>\n",
       "      <td>-1.220772</td>\n",
       "      <td>-1.060166</td>\n",
       "      <td>-0.219097</td>\n",
       "      <td>-1.087009</td>\n",
       "      <td>-0.612428</td>\n",
       "      <td>-0.113944</td>\n",
       "      <td>0.243608</td>\n",
       "    </tr>\n",
       "    <tr>\n",
       "      <th>3</th>\n",
       "      <td>0_7</td>\n",
       "      <td>0</td>\n",
       "      <td>7</td>\n",
       "      <td>-1.064780</td>\n",
       "      <td>-2.343535</td>\n",
       "      <td>-0.011870</td>\n",
       "      <td>1.874606</td>\n",
       "      <td>-0.606346</td>\n",
       "      <td>-0.586827</td>\n",
       "      <td>-0.815737</td>\n",
       "      <td>...</td>\n",
       "      <td>0.382201</td>\n",
       "      <td>0.912726</td>\n",
       "      <td>-0.266359</td>\n",
       "      <td>-1.220772</td>\n",
       "      <td>0.941183</td>\n",
       "      <td>-0.609113</td>\n",
       "      <td>0.104928</td>\n",
       "      <td>-0.783423</td>\n",
       "      <td>1.151730</td>\n",
       "      <td>-0.773309</td>\n",
       "    </tr>\n",
       "    <tr>\n",
       "      <th>4</th>\n",
       "      <td>0_8</td>\n",
       "      <td>0</td>\n",
       "      <td>8</td>\n",
       "      <td>-0.531940</td>\n",
       "      <td>0.842057</td>\n",
       "      <td>-0.262993</td>\n",
       "      <td>2.330030</td>\n",
       "      <td>-0.583422</td>\n",
       "      <td>-0.618392</td>\n",
       "      <td>-0.742814</td>\n",
       "      <td>...</td>\n",
       "      <td>-0.170365</td>\n",
       "      <td>0.912726</td>\n",
       "      <td>-0.741355</td>\n",
       "      <td>-1.220772</td>\n",
       "      <td>0.941183</td>\n",
       "      <td>-0.588445</td>\n",
       "      <td>0.104928</td>\n",
       "      <td>0.753279</td>\n",
       "      <td>1.345611</td>\n",
       "      <td>-0.737624</td>\n",
       "    </tr>\n",
       "    <tr>\n",
       "      <th>...</th>\n",
       "      <td>...</td>\n",
       "      <td>...</td>\n",
       "      <td>...</td>\n",
       "      <td>...</td>\n",
       "      <td>...</td>\n",
       "      <td>...</td>\n",
       "      <td>...</td>\n",
       "      <td>...</td>\n",
       "      <td>...</td>\n",
       "      <td>...</td>\n",
       "      <td>...</td>\n",
       "      <td>...</td>\n",
       "      <td>...</td>\n",
       "      <td>...</td>\n",
       "      <td>...</td>\n",
       "      <td>...</td>\n",
       "      <td>...</td>\n",
       "      <td>...</td>\n",
       "      <td>...</td>\n",
       "      <td>...</td>\n",
       "      <td>...</td>\n",
       "    </tr>\n",
       "    <tr>\n",
       "      <th>3141405</th>\n",
       "      <td>1219_3768</td>\n",
       "      <td>1219</td>\n",
       "      <td>3768</td>\n",
       "      <td>0.033600</td>\n",
       "      <td>0.093530</td>\n",
       "      <td>-0.720275</td>\n",
       "      <td>-0.345497</td>\n",
       "      <td>-0.438781</td>\n",
       "      <td>-0.166972</td>\n",
       "      <td>-0.437182</td>\n",
       "      <td>...</td>\n",
       "      <td>-0.285908</td>\n",
       "      <td>-1.232434</td>\n",
       "      <td>-0.660579</td>\n",
       "      <td>0.875537</td>\n",
       "      <td>0.421628</td>\n",
       "      <td>-0.428097</td>\n",
       "      <td>-0.075548</td>\n",
       "      <td>-0.533092</td>\n",
       "      <td>-0.193732</td>\n",
       "      <td>-0.581394</td>\n",
       "    </tr>\n",
       "    <tr>\n",
       "      <th>3141406</th>\n",
       "      <td>1219_3769</td>\n",
       "      <td>1219</td>\n",
       "      <td>3769</td>\n",
       "      <td>-0.223264</td>\n",
       "      <td>-1.344935</td>\n",
       "      <td>-0.199987</td>\n",
       "      <td>-0.107702</td>\n",
       "      <td>-0.454677</td>\n",
       "      <td>-0.221914</td>\n",
       "      <td>-0.141174</td>\n",
       "      <td>...</td>\n",
       "      <td>0.184517</td>\n",
       "      <td>-1.232434</td>\n",
       "      <td>-0.670493</td>\n",
       "      <td>0.875537</td>\n",
       "      <td>0.421628</td>\n",
       "      <td>-0.729949</td>\n",
       "      <td>-1.514277</td>\n",
       "      <td>0.013145</td>\n",
       "      <td>-0.890270</td>\n",
       "      <td>-0.589705</td>\n",
       "    </tr>\n",
       "    <tr>\n",
       "      <th>3141407</th>\n",
       "      <td>1219_3770</td>\n",
       "      <td>1219</td>\n",
       "      <td>3770</td>\n",
       "      <td>-0.559415</td>\n",
       "      <td>0.979489</td>\n",
       "      <td>-1.110491</td>\n",
       "      <td>1.006980</td>\n",
       "      <td>-0.467307</td>\n",
       "      <td>-0.159549</td>\n",
       "      <td>1.355671</td>\n",
       "      <td>...</td>\n",
       "      <td>-0.756332</td>\n",
       "      <td>-1.232434</td>\n",
       "      <td>0.820784</td>\n",
       "      <td>-1.142157</td>\n",
       "      <td>0.421628</td>\n",
       "      <td>-0.363329</td>\n",
       "      <td>1.363181</td>\n",
       "      <td>-0.079106</td>\n",
       "      <td>-1.580124</td>\n",
       "      <td>-0.297625</td>\n",
       "    </tr>\n",
       "    <tr>\n",
       "      <th>3141408</th>\n",
       "      <td>1219_3772</td>\n",
       "      <td>1219</td>\n",
       "      <td>3772</td>\n",
       "      <td>0.009599</td>\n",
       "      <td>-2.565332</td>\n",
       "      <td>0.320301</td>\n",
       "      <td>0.076600</td>\n",
       "      <td>1.380182</td>\n",
       "      <td>-0.155366</td>\n",
       "      <td>-0.689000</td>\n",
       "      <td>...</td>\n",
       "      <td>-0.756332</td>\n",
       "      <td>-1.232434</td>\n",
       "      <td>0.133074</td>\n",
       "      <td>-1.142157</td>\n",
       "      <td>0.421628</td>\n",
       "      <td>-0.375288</td>\n",
       "      <td>-1.514277</td>\n",
       "      <td>-0.973762</td>\n",
       "      <td>0.608647</td>\n",
       "      <td>-0.372040</td>\n",
       "    </tr>\n",
       "    <tr>\n",
       "      <th>3141409</th>\n",
       "      <td>1219_3773</td>\n",
       "      <td>1219</td>\n",
       "      <td>3773</td>\n",
       "      <td>1.212112</td>\n",
       "      <td>-0.089557</td>\n",
       "      <td>0.190229</td>\n",
       "      <td>-0.548256</td>\n",
       "      <td>0.151205</td>\n",
       "      <td>0.079773</td>\n",
       "      <td>0.447962</td>\n",
       "      <td>...</td>\n",
       "      <td>-0.317095</td>\n",
       "      <td>0.811402</td>\n",
       "      <td>3.271590</td>\n",
       "      <td>0.875537</td>\n",
       "      <td>0.421628</td>\n",
       "      <td>-0.170709</td>\n",
       "      <td>1.363181</td>\n",
       "      <td>-0.563314</td>\n",
       "      <td>0.669586</td>\n",
       "      <td>0.456400</td>\n",
       "    </tr>\n",
       "  </tbody>\n",
       "</table>\n",
       "<p>3141410 rows × 304 columns</p>\n",
       "</div>"
      ],
      "text/plain": [
       "            row_id  time_id  investment_id    target       f_0       f_1  \\\n",
       "0              0_1        0              1 -0.300875  0.932573  0.113691   \n",
       "1              0_2        0              2 -0.231040  0.810802 -0.514115   \n",
       "2              0_6        0              6  0.568807  0.393974  0.615937   \n",
       "3              0_7        0              7 -1.064780 -2.343535 -0.011870   \n",
       "4              0_8        0              8 -0.531940  0.842057 -0.262993   \n",
       "...            ...      ...            ...       ...       ...       ...   \n",
       "3141405  1219_3768     1219           3768  0.033600  0.093530 -0.720275   \n",
       "3141406  1219_3769     1219           3769 -0.223264 -1.344935 -0.199987   \n",
       "3141407  1219_3770     1219           3770 -0.559415  0.979489 -1.110491   \n",
       "3141408  1219_3772     1219           3772  0.009599 -2.565332  0.320301   \n",
       "3141409  1219_3773     1219           3773  1.212112 -0.089557  0.190229   \n",
       "\n",
       "              f_2       f_3       f_4       f_5  ...     f_290     f_291  \\\n",
       "0       -0.402206  0.378386 -0.203938 -0.413469  ...  0.366028 -1.095620   \n",
       "1        0.742368 -0.616673 -0.194255  1.771210  ... -0.154193  0.912726   \n",
       "2        0.567806 -0.607963  0.068883 -1.083155  ... -0.138020  0.912726   \n",
       "3        1.874606 -0.606346 -0.586827 -0.815737  ...  0.382201  0.912726   \n",
       "4        2.330030 -0.583422 -0.618392 -0.742814  ... -0.170365  0.912726   \n",
       "...           ...       ...       ...       ...  ...       ...       ...   \n",
       "3141405 -0.345497 -0.438781 -0.166972 -0.437182  ... -0.285908 -1.232434   \n",
       "3141406 -0.107702 -0.454677 -0.221914 -0.141174  ...  0.184517 -1.232434   \n",
       "3141407  1.006980 -0.467307 -0.159549  1.355671  ... -0.756332 -1.232434   \n",
       "3141408  0.076600  1.380182 -0.155366 -0.689000  ... -0.756332 -1.232434   \n",
       "3141409 -0.548256  0.151205  0.079773  0.447962  ... -0.317095  0.811402   \n",
       "\n",
       "            f_292     f_293     f_294     f_295     f_296     f_297     f_298  \\\n",
       "0        0.200075  0.819155  0.941183 -0.086764 -1.087009 -1.044826 -0.287605   \n",
       "1       -0.734579  0.819155  0.941183 -0.387617 -1.087009 -0.929529 -0.974060   \n",
       "2       -0.551904 -1.220772 -1.060166 -0.219097 -1.087009 -0.612428 -0.113944   \n",
       "3       -0.266359 -1.220772  0.941183 -0.609113  0.104928 -0.783423  1.151730   \n",
       "4       -0.741355 -1.220772  0.941183 -0.588445  0.104928  0.753279  1.345611   \n",
       "...           ...       ...       ...       ...       ...       ...       ...   \n",
       "3141405 -0.660579  0.875537  0.421628 -0.428097 -0.075548 -0.533092 -0.193732   \n",
       "3141406 -0.670493  0.875537  0.421628 -0.729949 -1.514277  0.013145 -0.890270   \n",
       "3141407  0.820784 -1.142157  0.421628 -0.363329  1.363181 -0.079106 -1.580124   \n",
       "3141408  0.133074 -1.142157  0.421628 -0.375288 -1.514277 -0.973762  0.608647   \n",
       "3141409  3.271590  0.875537  0.421628 -0.170709  1.363181 -0.563314  0.669586   \n",
       "\n",
       "            f_299  \n",
       "0        0.321566  \n",
       "1       -0.343624  \n",
       "2        0.243608  \n",
       "3       -0.773309  \n",
       "4       -0.737624  \n",
       "...           ...  \n",
       "3141405 -0.581394  \n",
       "3141406 -0.589705  \n",
       "3141407 -0.297625  \n",
       "3141408 -0.372040  \n",
       "3141409  0.456400  \n",
       "\n",
       "[3141410 rows x 304 columns]"
      ]
     },
     "execution_count": 33,
     "metadata": {},
     "output_type": "execute_result"
    }
   ],
   "source": [
    "df"
   ]
  },
  {
   "cell_type": "code",
   "execution_count": 5,
   "id": "739a67d4",
   "metadata": {
    "ExecuteTime": {
     "end_time": "2022-04-07T13:02:37.299278Z",
     "start_time": "2022-04-07T13:02:26.556084Z"
    }
   },
   "outputs": [],
   "source": [
    "X_valid, X_train, y_valid, y_train = train_test_split(X_train, y_train, test_size=0.1, shuffle=True)"
   ]
  },
  {
   "cell_type": "code",
   "execution_count": 6,
   "id": "904b86d9",
   "metadata": {
    "ExecuteTime": {
     "end_time": "2022-04-07T13:02:38.296155Z",
     "start_time": "2022-04-07T13:02:38.168825Z"
    }
   },
   "outputs": [],
   "source": [
    "scaler = StandardScaler()\n",
    "scaler.fit(pd.DataFrame(df[\"investment_id\"]))\n",
    "X_train[\"investment_id\"] = scaler.transform(pd.DataFrame(X_train[\"investment_id\"]))"
   ]
  },
  {
   "cell_type": "code",
   "execution_count": 12,
   "id": "1238c804",
   "metadata": {
    "ExecuteTime": {
     "end_time": "2022-04-07T13:04:33.877420Z",
     "start_time": "2022-04-07T13:04:33.772974Z"
    }
   },
   "outputs": [],
   "source": [
    "Input = keras.layers.Input(shape=X_train.shape[1])\n",
    "x = keras.layers.Dense(128, activation=\"swish\")(Input)\n",
    "x = keras.layers.BatchNormalization()(x)\n",
    "x = keras.layers.Dense(64, activation=\"swish\")(x)\n",
    "x = keras.layers.BatchNormalization()(x)\n",
    "x = keras.layers.Dense(32, activation=\"swish\")(x)\n",
    "x = keras.layers.BatchNormalization()(x)\n",
    "x = keras.layers.Dense(16, activation=\"swish\")(x)\n",
    "x = keras.layers.BatchNormalization()(x)\n",
    "Output = keras.layers.Dense(1, activation=\"linear\")(x)\n",
    "\n",
    "model = keras.models.Model(inputs = Input, outputs = Output)"
   ]
  },
  {
   "cell_type": "code",
   "execution_count": 13,
   "id": "f187f684",
   "metadata": {
    "ExecuteTime": {
     "end_time": "2022-04-07T13:10:49.742824Z",
     "start_time": "2022-04-07T13:04:34.719898Z"
    }
   },
   "outputs": [
    {
     "name": "stdout",
     "output_type": "stream",
     "text": [
      "Epoch 1/5\n",
      "7854/7854 [==============================] - 74s 9ms/step - loss: 0.8518 - mae: 0.6344 - val_loss: 0.8242 - val_mae: 0.6216\n",
      "Epoch 2/5\n",
      "7854/7854 [==============================] - 76s 10ms/step - loss: 0.8338 - mae: 0.6262 - val_loss: 0.8202 - val_mae: 0.6235\n",
      "Epoch 3/5\n",
      "7854/7854 [==============================] - 74s 9ms/step - loss: 0.8302 - mae: 0.6249 - val_loss: 0.8191 - val_mae: 0.6196\n",
      "Epoch 4/5\n",
      "7854/7854 [==============================] - 75s 10ms/step - loss: 0.8268 - mae: 0.6237 - val_loss: 0.8184 - val_mae: 0.6217\n",
      "Epoch 5/5\n",
      "7854/7854 [==============================] - 75s 10ms/step - loss: 0.8235 - mae: 0.6228 - val_loss: 0.8226 - val_mae: 0.6258\n"
     ]
    }
   ],
   "source": [
    "model.compile(loss=\"mse\", optimizer=\"adam\", metrics=[\"mae\"])\n",
    "history = model.fit(X_train, y_train, validation_split=0.2, epochs=5)"
   ]
  },
  {
   "cell_type": "code",
   "execution_count": 17,
   "id": "c3bf1bc0",
   "metadata": {
    "ExecuteTime": {
     "end_time": "2022-04-07T13:14:04.904675Z",
     "start_time": "2022-04-07T13:14:04.744220Z"
    }
   },
   "outputs": [],
   "source": [
    "Input = keras.layers.Input(shape=X_train.shape[1])\n",
    "x = keras.layers.Dense(64, activation=\"swish\")(x)\n",
    "x = keras.layers.BatchNormalization()(x)\n",
    "x = keras.layers.Dense(128, activation=\"swish\")(x)\n",
    "x = keras.layers.BatchNormalization()(x)\n",
    "x = keras.layers.Dense(256, activation=\"swish\")(x)\n",
    "x = keras.layers.BatchNormalization()(x)\n",
    "x = keras.layers.Dense(512, activation=\"swish\")(x)\n",
    "x = keras.layers.BatchNormalization()(x)\n",
    "x = keras.layers.Dense(256, activation=\"swish\")(Input)\n",
    "x = keras.layers.BatchNormalization()(x)\n",
    "x = keras.layers.Dense(128, activation=\"swish\")(x)\n",
    "x = keras.layers.BatchNormalization()(x)\n",
    "x = keras.layers.Dense(64, activation=\"swish\")(x)\n",
    "x = keras.layers.BatchNormalization()(x)\n",
    "x = keras.layers.Dense(32, activation=\"swish\")(x)\n",
    "x = keras.layers.BatchNormalization()(x)\n",
    "Output = keras.layers.Dense(1, activation=\"linear\")(x)\n",
    "\n",
    "model = keras.models.Model(inputs = Input, outputs = Output)"
   ]
  },
  {
   "cell_type": "code",
   "execution_count": 18,
   "id": "fec2ac90",
   "metadata": {
    "ExecuteTime": {
     "end_time": "2022-04-07T13:20:38.559645Z",
     "start_time": "2022-04-07T13:14:10.191568Z"
    }
   },
   "outputs": [
    {
     "name": "stdout",
     "output_type": "stream",
     "text": [
      "Epoch 1/5\n",
      "7854/7854 [==============================] - 77s 10ms/step - loss: 0.8496 - mae: 0.6337 - val_loss: 0.8265 - val_mae: 0.6276\n",
      "Epoch 2/5\n",
      "7854/7854 [==============================] - 76s 10ms/step - loss: 0.8341 - mae: 0.6267 - val_loss: 0.8225 - val_mae: 0.6198\n",
      "Epoch 3/5\n",
      "7854/7854 [==============================] - 78s 10ms/step - loss: 0.8309 - mae: 0.6253 - val_loss: 0.8232 - val_mae: 0.6283\n",
      "Epoch 4/5\n",
      "7854/7854 [==============================] - 77s 10ms/step - loss: 0.8270 - mae: 0.6242 - val_loss: 0.8240 - val_mae: 0.6243\n",
      "Epoch 5/5\n",
      "7854/7854 [==============================] - 80s 10ms/step - loss: 0.8236 - mae: 0.6230 - val_loss: 0.8194 - val_mae: 0.6221\n"
     ]
    }
   ],
   "source": [
    "model.compile(loss=\"mse\", optimizer=\"adam\", metrics=[\"mae\"])\n",
    "history = model.fit(X_train, y_train, validation_split=0.2, epochs=5)"
   ]
  },
  {
   "cell_type": "code",
   "execution_count": 22,
   "id": "afbb3f17",
   "metadata": {
    "ExecuteTime": {
     "end_time": "2022-04-07T13:37:55.016910Z",
     "start_time": "2022-04-07T13:37:54.818682Z"
    }
   },
   "outputs": [],
   "source": [
    "Input = keras.layers.Input(shape=X_train.shape[1])\n",
    "x = keras.layers.Dense(32, activation=\"swish\")(Input)\n",
    "x = keras.layers.BatchNormalization()(x)\n",
    "x = keras.layers.Dense(64, activation=\"swish\")(x)\n",
    "x = keras.layers.BatchNormalization()(x)\n",
    "x = keras.layers.Dense(128, activation=\"swish\")(x)\n",
    "x = keras.layers.BatchNormalization()(x)\n",
    "x = keras.layers.Dense(256, activation=\"swish\")(x)\n",
    "x = keras.layers.BatchNormalization()(x)\n",
    "x = keras.layers.Dense(512, activation=\"swish\")(x)\n",
    "x = keras.layers.BatchNormalization()(x)\n",
    "x = keras.layers.Dense(512, activation=\"swish\")(x)\n",
    "x = keras.layers.BatchNormalization()(x)\n",
    "x = keras.layers.Dense(256, activation=\"swish\")(Input)\n",
    "x = keras.layers.BatchNormalization()(x)\n",
    "x = keras.layers.Dense(128, activation=\"swish\")(x)\n",
    "x = keras.layers.BatchNormalization()(x)\n",
    "x = keras.layers.Dense(64, activation=\"swish\")(x)\n",
    "x = keras.layers.BatchNormalization()(x)\n",
    "x = keras.layers.Dense(32, activation=\"swish\")(x)\n",
    "x = keras.layers.BatchNormalization()(x)\n",
    "Output = keras.layers.Dense(1, activation=\"linear\")(x)\n",
    "\n",
    "model = keras.models.Model(inputs = Input, outputs = Output)"
   ]
  },
  {
   "cell_type": "code",
   "execution_count": 23,
   "id": "ff2916eb",
   "metadata": {
    "ExecuteTime": {
     "end_time": "2022-04-07T13:44:08.392818Z",
     "start_time": "2022-04-07T13:37:55.986812Z"
    }
   },
   "outputs": [
    {
     "name": "stdout",
     "output_type": "stream",
     "text": [
      "Epoch 1/5\n",
      "7854/7854 [==============================] - 75s 9ms/step - loss: 0.8524 - mae: 0.6356 - val_loss: 0.8469 - val_mae: 0.6361\n",
      "Epoch 2/5\n",
      "7854/7854 [==============================] - 73s 9ms/step - loss: 0.8355 - mae: 0.6274 - val_loss: 0.8278 - val_mae: 0.6239\n",
      "Epoch 3/5\n",
      "7854/7854 [==============================] - 74s 9ms/step - loss: 0.8319 - mae: 0.6259 - val_loss: 0.8279 - val_mae: 0.6255\n",
      "Epoch 4/5\n",
      "7854/7854 [==============================] - 74s 9ms/step - loss: 0.8280 - mae: 0.6245 - val_loss: 0.8254 - val_mae: 0.6209\n",
      "Epoch 5/5\n",
      "7854/7854 [==============================] - 76s 10ms/step - loss: 0.8247 - mae: 0.6235 - val_loss: 0.8185 - val_mae: 0.6202\n"
     ]
    }
   ],
   "source": [
    "model.compile(loss=\"mse\", optimizer=\"adam\", metrics=[\"mae\"])\n",
    "history = model.fit(X_train, y_train, validation_split=0.2, epochs=5)"
   ]
  },
  {
   "cell_type": "code",
   "execution_count": 29,
   "id": "6e6e449e",
   "metadata": {
    "ExecuteTime": {
     "end_time": "2022-04-07T14:36:22.714890Z",
     "start_time": "2022-04-07T14:36:22.452956Z"
    }
   },
   "outputs": [],
   "source": [
    "Input = keras.layers.Input(shape=X_train.shape[1])\n",
    "x = keras.layers.Dense(32, activation=\"swish\")(Input)\n",
    "x = keras.layers.BatchNormalization()(x)\n",
    "x = keras.layers.Dense(64, activation=\"swish\")(x)\n",
    "x = keras.layers.BatchNormalization()(x)\n",
    "x = keras.layers.Dense(128, activation=\"swish\")(x)\n",
    "x = keras.layers.BatchNormalization()(x)\n",
    "x = keras.layers.Dense(256, activation=\"swish\")(x)\n",
    "x = keras.layers.BatchNormalization()(x)\n",
    "x = keras.layers.Dense(512, activation=\"swish\")(x)\n",
    "x = keras.layers.BatchNormalization()(x)\n",
    "## convolution 1 ##\n",
    "feature_x = keras.layers.Reshape((-1,1))(x)\n",
    "feature_x = keras.layers.Conv1D(filters=16, kernel_size=2, strides=1, padding='same')(feature_x)\n",
    "feature_x = keras.layers.BatchNormalization()(feature_x)\n",
    "feature_x = keras.layers.LeakyReLU()(feature_x)\n",
    "## convolution 2 ##\n",
    "feature_x = keras.layers.Conv1D(filters=32, kernel_size=4, strides=1, padding='same')(feature_x)\n",
    "feature_x = keras.layers.BatchNormalization()(feature_x)\n",
    "feature_x = keras.layers.LeakyReLU()(feature_x)\n",
    "## convolution 3 ##\n",
    "feature_x = keras.layers.Conv1D(filters=64, kernel_size=8, strides=1, padding='same')(feature_x)\n",
    "feature_x = keras.layers.BatchNormalization()(feature_x)\n",
    "feature_x = keras.layers.LeakyReLU()(feature_x)\n",
    "## convolution 4 ##\n",
    "feature_x = keras.layers.Conv1D(filters=128, kernel_size=16, strides=1, padding='same')(feature_x)\n",
    "feature_x = keras.layers.BatchNormalization()(feature_x)\n",
    "feature_x = keras.layers.LeakyReLU()(feature_x)\n",
    "\n",
    "## flatten ##\n",
    "feature_x = keras.layers.Flatten()(feature_x)\n",
    "\n",
    "x = keras.layers.Dense(512, activation='swish', kernel_regularizer=\"l2\")(feature_x)\n",
    "\n",
    "x = keras.layers.Dropout(0.1)(x)\n",
    "x = keras.layers.Dense(128, activation='swish', kernel_regularizer=\"l2\")(x)\n",
    "x = keras.layers.Dropout(0.1)(x)\n",
    "x = keras.layers.Dense(32, activation='swish', kernel_regularizer=\"l2\")(x)\n",
    "x = keras.layers.Dropout(0.1)(x)\n",
    "Output = keras.layers.Dense(1)(x)\n",
    "model = keras.models.Model(inputs = Input, outputs = Output)"
   ]
  },
  {
   "cell_type": "code",
   "execution_count": 30,
   "id": "6dcec68e",
   "metadata": {
    "ExecuteTime": {
     "end_time": "2022-04-07T15:09:41.570268Z",
     "start_time": "2022-04-07T14:36:23.627613Z"
    }
   },
   "outputs": [
    {
     "name": "stdout",
     "output_type": "stream",
     "text": [
      "Epoch 1/5\n",
      "7854/7854 [==============================] - 407s 51ms/step - loss: 1.6737 - mae: 0.6419 - val_loss: 0.9072 - val_mae: 0.6281\n",
      "Epoch 2/5\n",
      "7854/7854 [==============================] - 398s 51ms/step - loss: 0.8698 - mae: 0.6298 - val_loss: 0.8455 - val_mae: 0.6293\n",
      "Epoch 3/5\n",
      "7854/7854 [==============================] - 399s 51ms/step - loss: 0.8488 - mae: 0.6290 - val_loss: 0.8339 - val_mae: 0.6255\n",
      "Epoch 4/5\n",
      "7854/7854 [==============================] - 398s 51ms/step - loss: 0.8446 - mae: 0.6289 - val_loss: 0.8339 - val_mae: 0.6255\n",
      "Epoch 5/5\n",
      "7854/7854 [==============================] - 395s 50ms/step - loss: 0.8441 - mae: 0.6288 - val_loss: 0.8338 - val_mae: 0.6275\n"
     ]
    }
   ],
   "source": [
    "model.compile(loss=\"mse\", optimizer=\"adam\", metrics=[\"mae\"])\n",
    "history = model.fit(X_train, y_train, validation_split=0.2, epochs=5)"
   ]
  },
  {
   "cell_type": "code",
   "execution_count": null,
   "id": "7a81ac1a",
   "metadata": {},
   "outputs": [],
   "source": []
  },
  {
   "cell_type": "code",
   "execution_count": null,
   "id": "918c1a31",
   "metadata": {},
   "outputs": [],
   "source": []
  },
  {
   "cell_type": "code",
   "execution_count": null,
   "id": "0cf6026b",
   "metadata": {},
   "outputs": [],
   "source": []
  }
 ],
 "metadata": {
  "kernelspec": {
   "display_name": "=python3.9.0",
   "language": "python",
   "name": "python3.9.0"
  },
  "language_info": {
   "codemirror_mode": {
    "name": "ipython",
    "version": 3
   },
   "file_extension": ".py",
   "mimetype": "text/x-python",
   "name": "python",
   "nbconvert_exporter": "python",
   "pygments_lexer": "ipython3",
   "version": "3.9.12"
  },
  "papermill": {
   "default_parameters": {},
   "duration": 2134.664216,
   "end_time": "2022-03-30T14:07:10.868727",
   "environment_variables": {},
   "exception": null,
   "input_path": "__notebook__.ipynb",
   "output_path": "__notebook__.ipynb",
   "parameters": {},
   "start_time": "2022-03-30T13:31:36.204511",
   "version": "2.3.3"
  },
  "toc": {
   "base_numbering": 1,
   "nav_menu": {},
   "number_sections": true,
   "sideBar": true,
   "skip_h1_title": false,
   "title_cell": "Table of Contents",
   "title_sidebar": "Contents",
   "toc_cell": false,
   "toc_position": {
    "height": "907.778px",
    "left": "68.9931px",
    "top": "180.002px",
    "width": "426.667px"
   },
   "toc_section_display": true,
   "toc_window_display": true
  },
  "varInspector": {
   "cols": {
    "lenName": 16,
    "lenType": 16,
    "lenVar": 40
   },
   "kernels_config": {
    "python": {
     "delete_cmd_postfix": "",
     "delete_cmd_prefix": "del ",
     "library": "var_list.py",
     "varRefreshCmd": "print(var_dic_list())"
    },
    "r": {
     "delete_cmd_postfix": ") ",
     "delete_cmd_prefix": "rm(",
     "library": "var_list.r",
     "varRefreshCmd": "cat(var_dic_list()) "
    }
   },
   "position": {
    "height": "595.851px",
    "left": "1764.33px",
    "right": "20px",
    "top": "121px",
    "width": "350px"
   },
   "types_to_exclude": [
    "module",
    "function",
    "builtin_function_or_method",
    "instance",
    "_Feature"
   ],
   "window_display": false
  }
 },
 "nbformat": 4,
 "nbformat_minor": 5
}
