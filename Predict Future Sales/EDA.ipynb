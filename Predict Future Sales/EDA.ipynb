{
 "cells": [
  {
   "cell_type": "markdown",
   "id": "2a8f4a02",
   "metadata": {
    "ExecuteTime": {
     "end_time": "2022-07-11T06:32:12.242100Z",
     "start_time": "2022-07-11T06:32:12.237113Z"
    }
   },
   "source": [
    "# Import libraries & data"
   ]
  },
  {
   "cell_type": "code",
   "execution_count": 168,
   "id": "b6388bd1",
   "metadata": {
    "ExecuteTime": {
     "end_time": "2022-07-11T08:09:50.066862Z",
     "start_time": "2022-07-11T08:09:49.196745Z"
    }
   },
   "outputs": [],
   "source": [
    "import pandas as pd\n",
    "import numpy as np\n",
    "import matplotlib.pyplot as plt\n",
    "import seaborn as sns\n",
    "import datetime\n",
    "import os"
   ]
  },
  {
   "cell_type": "code",
   "execution_count": 9,
   "id": "15ad2e12",
   "metadata": {
    "ExecuteTime": {
     "end_time": "2022-07-11T06:18:48.872574Z",
     "start_time": "2022-07-11T06:18:48.860735Z"
    }
   },
   "outputs": [],
   "source": [
    "path = \"D:\\Predict_Future_Sales\""
   ]
  },
  {
   "cell_type": "code",
   "execution_count": 28,
   "id": "46d007e2",
   "metadata": {
    "ExecuteTime": {
     "end_time": "2022-07-11T06:30:54.694862Z",
     "start_time": "2022-07-11T06:30:53.525197Z"
    }
   },
   "outputs": [],
   "source": [
    "item_categories = pd.read_csv(os.path.join(path, \"item_categories.csv\"))\n",
    "items = pd.read_csv(os.path.join(path, \"items.csv\"))\n",
    "shops = pd.read_csv(os.path.join(path, \"shops.csv\"))\n",
    "train = pd.read_csv(os.path.join(path, \"sales_train.csv\"))"
   ]
  },
  {
   "cell_type": "code",
   "execution_count": 30,
   "id": "68b86a2c",
   "metadata": {
    "ExecuteTime": {
     "end_time": "2022-07-11T06:31:05.830357Z",
     "start_time": "2022-07-11T06:31:05.820808Z"
    }
   },
   "outputs": [
    {
     "data": {
      "text/html": [
       "<div>\n",
       "<style scoped>\n",
       "    .dataframe tbody tr th:only-of-type {\n",
       "        vertical-align: middle;\n",
       "    }\n",
       "\n",
       "    .dataframe tbody tr th {\n",
       "        vertical-align: top;\n",
       "    }\n",
       "\n",
       "    .dataframe thead th {\n",
       "        text-align: right;\n",
       "    }\n",
       "</style>\n",
       "<table border=\"1\" class=\"dataframe\">\n",
       "  <thead>\n",
       "    <tr style=\"text-align: right;\">\n",
       "      <th></th>\n",
       "      <th>item_category_name</th>\n",
       "      <th>item_category_id</th>\n",
       "    </tr>\n",
       "  </thead>\n",
       "  <tbody>\n",
       "    <tr>\n",
       "      <th>0</th>\n",
       "      <td>PC - Гарнитуры/Наушники</td>\n",
       "      <td>0</td>\n",
       "    </tr>\n",
       "    <tr>\n",
       "      <th>1</th>\n",
       "      <td>Аксессуары - PS2</td>\n",
       "      <td>1</td>\n",
       "    </tr>\n",
       "    <tr>\n",
       "      <th>2</th>\n",
       "      <td>Аксессуары - PS3</td>\n",
       "      <td>2</td>\n",
       "    </tr>\n",
       "    <tr>\n",
       "      <th>3</th>\n",
       "      <td>Аксессуары - PS4</td>\n",
       "      <td>3</td>\n",
       "    </tr>\n",
       "    <tr>\n",
       "      <th>4</th>\n",
       "      <td>Аксессуары - PSP</td>\n",
       "      <td>4</td>\n",
       "    </tr>\n",
       "  </tbody>\n",
       "</table>\n",
       "</div>"
      ],
      "text/plain": [
       "        item_category_name  item_category_id\n",
       "0  PC - Гарнитуры/Наушники                 0\n",
       "1         Аксессуары - PS2                 1\n",
       "2         Аксессуары - PS3                 2\n",
       "3         Аксессуары - PS4                 3\n",
       "4         Аксессуары - PSP                 4"
      ]
     },
     "execution_count": 30,
     "metadata": {},
     "output_type": "execute_result"
    }
   ],
   "source": [
    "item_categories.head()"
   ]
  },
  {
   "cell_type": "code",
   "execution_count": 31,
   "id": "1fab23fd",
   "metadata": {
    "ExecuteTime": {
     "end_time": "2022-07-11T06:31:11.177960Z",
     "start_time": "2022-07-11T06:31:11.157184Z"
    }
   },
   "outputs": [
    {
     "data": {
      "text/html": [
       "<div>\n",
       "<style scoped>\n",
       "    .dataframe tbody tr th:only-of-type {\n",
       "        vertical-align: middle;\n",
       "    }\n",
       "\n",
       "    .dataframe tbody tr th {\n",
       "        vertical-align: top;\n",
       "    }\n",
       "\n",
       "    .dataframe thead th {\n",
       "        text-align: right;\n",
       "    }\n",
       "</style>\n",
       "<table border=\"1\" class=\"dataframe\">\n",
       "  <thead>\n",
       "    <tr style=\"text-align: right;\">\n",
       "      <th></th>\n",
       "      <th>item_name</th>\n",
       "      <th>item_id</th>\n",
       "      <th>item_category_id</th>\n",
       "    </tr>\n",
       "  </thead>\n",
       "  <tbody>\n",
       "    <tr>\n",
       "      <th>0</th>\n",
       "      <td>! ВО ВЛАСТИ НАВАЖДЕНИЯ (ПЛАСТ.)         D</td>\n",
       "      <td>0</td>\n",
       "      <td>40</td>\n",
       "    </tr>\n",
       "    <tr>\n",
       "      <th>1</th>\n",
       "      <td>!ABBYY FineReader 12 Professional Edition Full...</td>\n",
       "      <td>1</td>\n",
       "      <td>76</td>\n",
       "    </tr>\n",
       "    <tr>\n",
       "      <th>2</th>\n",
       "      <td>***В ЛУЧАХ СЛАВЫ   (UNV)                    D</td>\n",
       "      <td>2</td>\n",
       "      <td>40</td>\n",
       "    </tr>\n",
       "    <tr>\n",
       "      <th>3</th>\n",
       "      <td>***ГОЛУБАЯ ВОЛНА  (Univ)                      D</td>\n",
       "      <td>3</td>\n",
       "      <td>40</td>\n",
       "    </tr>\n",
       "    <tr>\n",
       "      <th>4</th>\n",
       "      <td>***КОРОБКА (СТЕКЛО)                       D</td>\n",
       "      <td>4</td>\n",
       "      <td>40</td>\n",
       "    </tr>\n",
       "  </tbody>\n",
       "</table>\n",
       "</div>"
      ],
      "text/plain": [
       "                                           item_name  item_id  \\\n",
       "0          ! ВО ВЛАСТИ НАВАЖДЕНИЯ (ПЛАСТ.)         D        0   \n",
       "1  !ABBYY FineReader 12 Professional Edition Full...        1   \n",
       "2      ***В ЛУЧАХ СЛАВЫ   (UNV)                    D        2   \n",
       "3    ***ГОЛУБАЯ ВОЛНА  (Univ)                      D        3   \n",
       "4        ***КОРОБКА (СТЕКЛО)                       D        4   \n",
       "\n",
       "   item_category_id  \n",
       "0                40  \n",
       "1                76  \n",
       "2                40  \n",
       "3                40  \n",
       "4                40  "
      ]
     },
     "execution_count": 31,
     "metadata": {},
     "output_type": "execute_result"
    }
   ],
   "source": [
    "items.head()"
   ]
  },
  {
   "cell_type": "code",
   "execution_count": 32,
   "id": "9c9583f7",
   "metadata": {
    "ExecuteTime": {
     "end_time": "2022-07-11T06:31:15.821854Z",
     "start_time": "2022-07-11T06:31:15.812879Z"
    }
   },
   "outputs": [
    {
     "data": {
      "text/html": [
       "<div>\n",
       "<style scoped>\n",
       "    .dataframe tbody tr th:only-of-type {\n",
       "        vertical-align: middle;\n",
       "    }\n",
       "\n",
       "    .dataframe tbody tr th {\n",
       "        vertical-align: top;\n",
       "    }\n",
       "\n",
       "    .dataframe thead th {\n",
       "        text-align: right;\n",
       "    }\n",
       "</style>\n",
       "<table border=\"1\" class=\"dataframe\">\n",
       "  <thead>\n",
       "    <tr style=\"text-align: right;\">\n",
       "      <th></th>\n",
       "      <th>shop_name</th>\n",
       "      <th>shop_id</th>\n",
       "    </tr>\n",
       "  </thead>\n",
       "  <tbody>\n",
       "    <tr>\n",
       "      <th>0</th>\n",
       "      <td>!Якутск Орджоникидзе, 56 фран</td>\n",
       "      <td>0</td>\n",
       "    </tr>\n",
       "    <tr>\n",
       "      <th>1</th>\n",
       "      <td>!Якутск ТЦ \"Центральный\" фран</td>\n",
       "      <td>1</td>\n",
       "    </tr>\n",
       "    <tr>\n",
       "      <th>2</th>\n",
       "      <td>Адыгея ТЦ \"Мега\"</td>\n",
       "      <td>2</td>\n",
       "    </tr>\n",
       "    <tr>\n",
       "      <th>3</th>\n",
       "      <td>Балашиха ТРК \"Октябрь-Киномир\"</td>\n",
       "      <td>3</td>\n",
       "    </tr>\n",
       "    <tr>\n",
       "      <th>4</th>\n",
       "      <td>Волжский ТЦ \"Волга Молл\"</td>\n",
       "      <td>4</td>\n",
       "    </tr>\n",
       "  </tbody>\n",
       "</table>\n",
       "</div>"
      ],
      "text/plain": [
       "                        shop_name  shop_id\n",
       "0   !Якутск Орджоникидзе, 56 фран        0\n",
       "1   !Якутск ТЦ \"Центральный\" фран        1\n",
       "2                Адыгея ТЦ \"Мега\"        2\n",
       "3  Балашиха ТРК \"Октябрь-Киномир\"        3\n",
       "4        Волжский ТЦ \"Волга Молл\"        4"
      ]
     },
     "execution_count": 32,
     "metadata": {},
     "output_type": "execute_result"
    }
   ],
   "source": [
    "shops.head()"
   ]
  },
  {
   "cell_type": "markdown",
   "id": "4b460037",
   "metadata": {},
   "source": [
    "Above three datas are good for training model? ...Well I don't know  \n",
    "I will preprocess about train data. See the score of model only using that and return to use them or not."
   ]
  },
  {
   "cell_type": "code",
   "execution_count": 35,
   "id": "c8ba0499",
   "metadata": {
    "ExecuteTime": {
     "end_time": "2022-07-11T06:35:55.941379Z",
     "start_time": "2022-07-11T06:35:55.928992Z"
    }
   },
   "outputs": [
    {
     "data": {
      "text/html": [
       "<div>\n",
       "<style scoped>\n",
       "    .dataframe tbody tr th:only-of-type {\n",
       "        vertical-align: middle;\n",
       "    }\n",
       "\n",
       "    .dataframe tbody tr th {\n",
       "        vertical-align: top;\n",
       "    }\n",
       "\n",
       "    .dataframe thead th {\n",
       "        text-align: right;\n",
       "    }\n",
       "</style>\n",
       "<table border=\"1\" class=\"dataframe\">\n",
       "  <thead>\n",
       "    <tr style=\"text-align: right;\">\n",
       "      <th></th>\n",
       "      <th>date</th>\n",
       "      <th>date_block_num</th>\n",
       "      <th>shop_id</th>\n",
       "      <th>item_id</th>\n",
       "      <th>item_price</th>\n",
       "      <th>item_cnt_day</th>\n",
       "    </tr>\n",
       "  </thead>\n",
       "  <tbody>\n",
       "    <tr>\n",
       "      <th>0</th>\n",
       "      <td>02.01.2013</td>\n",
       "      <td>0</td>\n",
       "      <td>59</td>\n",
       "      <td>22154</td>\n",
       "      <td>999.00</td>\n",
       "      <td>1.0</td>\n",
       "    </tr>\n",
       "    <tr>\n",
       "      <th>1</th>\n",
       "      <td>03.01.2013</td>\n",
       "      <td>0</td>\n",
       "      <td>25</td>\n",
       "      <td>2552</td>\n",
       "      <td>899.00</td>\n",
       "      <td>1.0</td>\n",
       "    </tr>\n",
       "    <tr>\n",
       "      <th>2</th>\n",
       "      <td>05.01.2013</td>\n",
       "      <td>0</td>\n",
       "      <td>25</td>\n",
       "      <td>2552</td>\n",
       "      <td>899.00</td>\n",
       "      <td>-1.0</td>\n",
       "    </tr>\n",
       "    <tr>\n",
       "      <th>3</th>\n",
       "      <td>06.01.2013</td>\n",
       "      <td>0</td>\n",
       "      <td>25</td>\n",
       "      <td>2554</td>\n",
       "      <td>1709.05</td>\n",
       "      <td>1.0</td>\n",
       "    </tr>\n",
       "    <tr>\n",
       "      <th>4</th>\n",
       "      <td>15.01.2013</td>\n",
       "      <td>0</td>\n",
       "      <td>25</td>\n",
       "      <td>2555</td>\n",
       "      <td>1099.00</td>\n",
       "      <td>1.0</td>\n",
       "    </tr>\n",
       "  </tbody>\n",
       "</table>\n",
       "</div>"
      ],
      "text/plain": [
       "         date  date_block_num  shop_id  item_id  item_price  item_cnt_day\n",
       "0  02.01.2013               0       59    22154      999.00           1.0\n",
       "1  03.01.2013               0       25     2552      899.00           1.0\n",
       "2  05.01.2013               0       25     2552      899.00          -1.0\n",
       "3  06.01.2013               0       25     2554     1709.05           1.0\n",
       "4  15.01.2013               0       25     2555     1099.00           1.0"
      ]
     },
     "execution_count": 35,
     "metadata": {},
     "output_type": "execute_result"
    }
   ],
   "source": [
    "train.head()"
   ]
  },
  {
   "cell_type": "code",
   "execution_count": 36,
   "id": "cc2a9a2f",
   "metadata": {
    "ExecuteTime": {
     "end_time": "2022-07-11T06:36:01.078042Z",
     "start_time": "2022-07-11T06:36:01.064020Z"
    }
   },
   "outputs": [
    {
     "data": {
      "text/html": [
       "<div>\n",
       "<style scoped>\n",
       "    .dataframe tbody tr th:only-of-type {\n",
       "        vertical-align: middle;\n",
       "    }\n",
       "\n",
       "    .dataframe tbody tr th {\n",
       "        vertical-align: top;\n",
       "    }\n",
       "\n",
       "    .dataframe thead th {\n",
       "        text-align: right;\n",
       "    }\n",
       "</style>\n",
       "<table border=\"1\" class=\"dataframe\">\n",
       "  <thead>\n",
       "    <tr style=\"text-align: right;\">\n",
       "      <th></th>\n",
       "      <th>date</th>\n",
       "      <th>date_block_num</th>\n",
       "      <th>shop_id</th>\n",
       "      <th>item_id</th>\n",
       "      <th>item_price</th>\n",
       "      <th>item_cnt_day</th>\n",
       "    </tr>\n",
       "  </thead>\n",
       "  <tbody>\n",
       "    <tr>\n",
       "      <th>0</th>\n",
       "      <td>02.01.2013</td>\n",
       "      <td>0</td>\n",
       "      <td>59</td>\n",
       "      <td>22154</td>\n",
       "      <td>999.00</td>\n",
       "      <td>1.0</td>\n",
       "    </tr>\n",
       "    <tr>\n",
       "      <th>1</th>\n",
       "      <td>03.01.2013</td>\n",
       "      <td>0</td>\n",
       "      <td>25</td>\n",
       "      <td>2552</td>\n",
       "      <td>899.00</td>\n",
       "      <td>1.0</td>\n",
       "    </tr>\n",
       "    <tr>\n",
       "      <th>2</th>\n",
       "      <td>05.01.2013</td>\n",
       "      <td>0</td>\n",
       "      <td>25</td>\n",
       "      <td>2552</td>\n",
       "      <td>899.00</td>\n",
       "      <td>-1.0</td>\n",
       "    </tr>\n",
       "    <tr>\n",
       "      <th>3</th>\n",
       "      <td>06.01.2013</td>\n",
       "      <td>0</td>\n",
       "      <td>25</td>\n",
       "      <td>2554</td>\n",
       "      <td>1709.05</td>\n",
       "      <td>1.0</td>\n",
       "    </tr>\n",
       "    <tr>\n",
       "      <th>4</th>\n",
       "      <td>15.01.2013</td>\n",
       "      <td>0</td>\n",
       "      <td>25</td>\n",
       "      <td>2555</td>\n",
       "      <td>1099.00</td>\n",
       "      <td>1.0</td>\n",
       "    </tr>\n",
       "  </tbody>\n",
       "</table>\n",
       "</div>"
      ],
      "text/plain": [
       "         date  date_block_num  shop_id  item_id  item_price  item_cnt_day\n",
       "0  02.01.2013               0       59    22154      999.00           1.0\n",
       "1  03.01.2013               0       25     2552      899.00           1.0\n",
       "2  05.01.2013               0       25     2552      899.00          -1.0\n",
       "3  06.01.2013               0       25     2554     1709.05           1.0\n",
       "4  15.01.2013               0       25     2555     1099.00           1.0"
      ]
     },
     "execution_count": 36,
     "metadata": {},
     "output_type": "execute_result"
    }
   ],
   "source": [
    "train.head()"
   ]
  },
  {
   "cell_type": "code",
   "execution_count": 39,
   "id": "730462f3",
   "metadata": {
    "ExecuteTime": {
     "end_time": "2022-07-11T06:36:33.045325Z",
     "start_time": "2022-07-11T06:36:33.024844Z"
    }
   },
   "outputs": [
    {
     "name": "stdout",
     "output_type": "stream",
     "text": [
      "<class 'pandas.core.frame.DataFrame'>\n",
      "RangeIndex: 2935849 entries, 0 to 2935848\n",
      "Data columns (total 6 columns):\n",
      " #   Column          Dtype  \n",
      "---  ------          -----  \n",
      " 0   date            object \n",
      " 1   date_block_num  int64  \n",
      " 2   shop_id         int64  \n",
      " 3   item_id         int64  \n",
      " 4   item_price      float64\n",
      " 5   item_cnt_day    float64\n",
      "dtypes: float64(2), int64(3), object(1)\n",
      "memory usage: 134.4+ MB\n"
     ]
    }
   ],
   "source": [
    "train.info()"
   ]
  },
  {
   "cell_type": "code",
   "execution_count": 41,
   "id": "572d8a9c",
   "metadata": {
    "ExecuteTime": {
     "end_time": "2022-07-11T06:36:47.140590Z",
     "start_time": "2022-07-11T06:36:46.888258Z"
    }
   },
   "outputs": [
    {
     "data": {
      "text/html": [
       "<div>\n",
       "<style scoped>\n",
       "    .dataframe tbody tr th:only-of-type {\n",
       "        vertical-align: middle;\n",
       "    }\n",
       "\n",
       "    .dataframe tbody tr th {\n",
       "        vertical-align: top;\n",
       "    }\n",
       "\n",
       "    .dataframe thead th {\n",
       "        text-align: right;\n",
       "    }\n",
       "</style>\n",
       "<table border=\"1\" class=\"dataframe\">\n",
       "  <thead>\n",
       "    <tr style=\"text-align: right;\">\n",
       "      <th></th>\n",
       "      <th>date_block_num</th>\n",
       "      <th>shop_id</th>\n",
       "      <th>item_id</th>\n",
       "      <th>item_price</th>\n",
       "      <th>item_cnt_day</th>\n",
       "    </tr>\n",
       "  </thead>\n",
       "  <tbody>\n",
       "    <tr>\n",
       "      <th>count</th>\n",
       "      <td>2.935849e+06</td>\n",
       "      <td>2.935849e+06</td>\n",
       "      <td>2.935849e+06</td>\n",
       "      <td>2.935849e+06</td>\n",
       "      <td>2.935849e+06</td>\n",
       "    </tr>\n",
       "    <tr>\n",
       "      <th>mean</th>\n",
       "      <td>1.456991e+01</td>\n",
       "      <td>3.300173e+01</td>\n",
       "      <td>1.019723e+04</td>\n",
       "      <td>8.908532e+02</td>\n",
       "      <td>1.242641e+00</td>\n",
       "    </tr>\n",
       "    <tr>\n",
       "      <th>std</th>\n",
       "      <td>9.422988e+00</td>\n",
       "      <td>1.622697e+01</td>\n",
       "      <td>6.324297e+03</td>\n",
       "      <td>1.729800e+03</td>\n",
       "      <td>2.618834e+00</td>\n",
       "    </tr>\n",
       "    <tr>\n",
       "      <th>min</th>\n",
       "      <td>0.000000e+00</td>\n",
       "      <td>0.000000e+00</td>\n",
       "      <td>0.000000e+00</td>\n",
       "      <td>-1.000000e+00</td>\n",
       "      <td>-2.200000e+01</td>\n",
       "    </tr>\n",
       "    <tr>\n",
       "      <th>25%</th>\n",
       "      <td>7.000000e+00</td>\n",
       "      <td>2.200000e+01</td>\n",
       "      <td>4.476000e+03</td>\n",
       "      <td>2.490000e+02</td>\n",
       "      <td>1.000000e+00</td>\n",
       "    </tr>\n",
       "    <tr>\n",
       "      <th>50%</th>\n",
       "      <td>1.400000e+01</td>\n",
       "      <td>3.100000e+01</td>\n",
       "      <td>9.343000e+03</td>\n",
       "      <td>3.990000e+02</td>\n",
       "      <td>1.000000e+00</td>\n",
       "    </tr>\n",
       "    <tr>\n",
       "      <th>75%</th>\n",
       "      <td>2.300000e+01</td>\n",
       "      <td>4.700000e+01</td>\n",
       "      <td>1.568400e+04</td>\n",
       "      <td>9.990000e+02</td>\n",
       "      <td>1.000000e+00</td>\n",
       "    </tr>\n",
       "    <tr>\n",
       "      <th>max</th>\n",
       "      <td>3.300000e+01</td>\n",
       "      <td>5.900000e+01</td>\n",
       "      <td>2.216900e+04</td>\n",
       "      <td>3.079800e+05</td>\n",
       "      <td>2.169000e+03</td>\n",
       "    </tr>\n",
       "  </tbody>\n",
       "</table>\n",
       "</div>"
      ],
      "text/plain": [
       "       date_block_num       shop_id       item_id    item_price  item_cnt_day\n",
       "count    2.935849e+06  2.935849e+06  2.935849e+06  2.935849e+06  2.935849e+06\n",
       "mean     1.456991e+01  3.300173e+01  1.019723e+04  8.908532e+02  1.242641e+00\n",
       "std      9.422988e+00  1.622697e+01  6.324297e+03  1.729800e+03  2.618834e+00\n",
       "min      0.000000e+00  0.000000e+00  0.000000e+00 -1.000000e+00 -2.200000e+01\n",
       "25%      7.000000e+00  2.200000e+01  4.476000e+03  2.490000e+02  1.000000e+00\n",
       "50%      1.400000e+01  3.100000e+01  9.343000e+03  3.990000e+02  1.000000e+00\n",
       "75%      2.300000e+01  4.700000e+01  1.568400e+04  9.990000e+02  1.000000e+00\n",
       "max      3.300000e+01  5.900000e+01  2.216900e+04  3.079800e+05  2.169000e+03"
      ]
     },
     "execution_count": 41,
     "metadata": {},
     "output_type": "execute_result"
    }
   ],
   "source": [
    "train.describe()"
   ]
  },
  {
   "cell_type": "code",
   "execution_count": 45,
   "id": "c4450f36",
   "metadata": {
    "ExecuteTime": {
     "end_time": "2022-07-11T06:37:29.698990Z",
     "start_time": "2022-07-11T06:37:29.376768Z"
    }
   },
   "outputs": [
    {
     "data": {
      "text/plain": [
       "date              0\n",
       "date_block_num    0\n",
       "shop_id           0\n",
       "item_id           0\n",
       "item_price        0\n",
       "item_cnt_day      0\n",
       "dtype: int64"
      ]
     },
     "execution_count": 45,
     "metadata": {},
     "output_type": "execute_result"
    }
   ],
   "source": [
    "train.isna().sum()"
   ]
  },
  {
   "cell_type": "markdown",
   "id": "31fd29e9",
   "metadata": {},
   "source": [
    "Looks like train data doesn't have Nan values"
   ]
  },
  {
   "cell_type": "code",
   "execution_count": 47,
   "id": "35880713",
   "metadata": {
    "ExecuteTime": {
     "end_time": "2022-07-11T06:44:03.135262Z",
     "start_time": "2022-07-11T06:44:03.125287Z"
    }
   },
   "outputs": [
    {
     "data": {
      "text/plain": [
       "0          02.01.2013\n",
       "1          03.01.2013\n",
       "2          05.01.2013\n",
       "3          06.01.2013\n",
       "4          15.01.2013\n",
       "              ...    \n",
       "2935844    10.10.2015\n",
       "2935845    09.10.2015\n",
       "2935846    14.10.2015\n",
       "2935847    22.10.2015\n",
       "2935848    03.10.2015\n",
       "Name: date, Length: 2935849, dtype: object"
      ]
     },
     "execution_count": 47,
     "metadata": {},
     "output_type": "execute_result"
    }
   ],
   "source": [
    "train[\"date\"]"
   ]
  },
  {
   "cell_type": "code",
   "execution_count": 53,
   "id": "8b609faa",
   "metadata": {
    "ExecuteTime": {
     "end_time": "2022-07-11T06:46:46.845972Z",
     "start_time": "2022-07-11T06:46:46.816775Z"
    }
   },
   "outputs": [
    {
     "data": {
      "text/plain": [
       "array(['02.01.2013', '03.01.2013', '05.01.2013', ..., '14.10.2015',\n",
       "       '22.10.2015', '03.10.2015'], dtype=object)"
      ]
     },
     "execution_count": 53,
     "metadata": {},
     "output_type": "execute_result"
    }
   ],
   "source": [
    "np.array(train[\"date\"])"
   ]
  },
  {
   "cell_type": "code",
   "execution_count": 62,
   "id": "8d7d6c73",
   "metadata": {
    "ExecuteTime": {
     "end_time": "2022-07-11T06:49:05.046458Z",
     "start_time": "2022-07-11T06:49:05.032471Z"
    }
   },
   "outputs": [
    {
     "data": {
      "text/plain": [
       "0          02.01.2013\n",
       "1          03.01.2013\n",
       "2          05.01.2013\n",
       "3          06.01.2013\n",
       "4          15.01.2013\n",
       "              ...    \n",
       "2935844    10.10.2015\n",
       "2935845    09.10.2015\n",
       "2935846    14.10.2015\n",
       "2935847    22.10.2015\n",
       "2935848    03.10.2015\n",
       "Name: date, Length: 2935849, dtype: object"
      ]
     },
     "execution_count": 62,
     "metadata": {},
     "output_type": "execute_result"
    }
   ],
   "source": [
    "train[\"date\"]"
   ]
  },
  {
   "cell_type": "code",
   "execution_count": 70,
   "id": "d8867e0a",
   "metadata": {
    "ExecuteTime": {
     "end_time": "2022-07-11T06:53:08.415579Z",
     "start_time": "2022-07-11T06:53:08.152253Z"
    }
   },
   "outputs": [],
   "source": [
    "format=\"%d.%m.%Y\"\n",
    "train[\"date\"] = pd.to_datetime(train[\"date\"], format=format)"
   ]
  },
  {
   "cell_type": "code",
   "execution_count": 82,
   "id": "8ec7462e",
   "metadata": {
    "ExecuteTime": {
     "end_time": "2022-07-11T06:56:52.572600Z",
     "start_time": "2022-07-11T06:56:52.552654Z"
    }
   },
   "outputs": [
    {
     "data": {
      "text/html": [
       "<div>\n",
       "<style scoped>\n",
       "    .dataframe tbody tr th:only-of-type {\n",
       "        vertical-align: middle;\n",
       "    }\n",
       "\n",
       "    .dataframe tbody tr th {\n",
       "        vertical-align: top;\n",
       "    }\n",
       "\n",
       "    .dataframe thead th {\n",
       "        text-align: right;\n",
       "    }\n",
       "</style>\n",
       "<table border=\"1\" class=\"dataframe\">\n",
       "  <thead>\n",
       "    <tr style=\"text-align: right;\">\n",
       "      <th></th>\n",
       "      <th>date</th>\n",
       "      <th>date_block_num</th>\n",
       "      <th>shop_id</th>\n",
       "      <th>item_id</th>\n",
       "      <th>item_price</th>\n",
       "      <th>item_cnt_day</th>\n",
       "    </tr>\n",
       "  </thead>\n",
       "  <tbody>\n",
       "    <tr>\n",
       "      <th>0</th>\n",
       "      <td>2013-01-02</td>\n",
       "      <td>0</td>\n",
       "      <td>59</td>\n",
       "      <td>22154</td>\n",
       "      <td>999.00</td>\n",
       "      <td>1.0</td>\n",
       "    </tr>\n",
       "    <tr>\n",
       "      <th>1</th>\n",
       "      <td>2013-01-03</td>\n",
       "      <td>0</td>\n",
       "      <td>25</td>\n",
       "      <td>2552</td>\n",
       "      <td>899.00</td>\n",
       "      <td>1.0</td>\n",
       "    </tr>\n",
       "    <tr>\n",
       "      <th>2</th>\n",
       "      <td>2013-01-05</td>\n",
       "      <td>0</td>\n",
       "      <td>25</td>\n",
       "      <td>2552</td>\n",
       "      <td>899.00</td>\n",
       "      <td>-1.0</td>\n",
       "    </tr>\n",
       "    <tr>\n",
       "      <th>3</th>\n",
       "      <td>2013-01-06</td>\n",
       "      <td>0</td>\n",
       "      <td>25</td>\n",
       "      <td>2554</td>\n",
       "      <td>1709.05</td>\n",
       "      <td>1.0</td>\n",
       "    </tr>\n",
       "    <tr>\n",
       "      <th>4</th>\n",
       "      <td>2013-01-15</td>\n",
       "      <td>0</td>\n",
       "      <td>25</td>\n",
       "      <td>2555</td>\n",
       "      <td>1099.00</td>\n",
       "      <td>1.0</td>\n",
       "    </tr>\n",
       "    <tr>\n",
       "      <th>...</th>\n",
       "      <td>...</td>\n",
       "      <td>...</td>\n",
       "      <td>...</td>\n",
       "      <td>...</td>\n",
       "      <td>...</td>\n",
       "      <td>...</td>\n",
       "    </tr>\n",
       "    <tr>\n",
       "      <th>2935844</th>\n",
       "      <td>2015-10-10</td>\n",
       "      <td>33</td>\n",
       "      <td>25</td>\n",
       "      <td>7409</td>\n",
       "      <td>299.00</td>\n",
       "      <td>1.0</td>\n",
       "    </tr>\n",
       "    <tr>\n",
       "      <th>2935845</th>\n",
       "      <td>2015-10-09</td>\n",
       "      <td>33</td>\n",
       "      <td>25</td>\n",
       "      <td>7460</td>\n",
       "      <td>299.00</td>\n",
       "      <td>1.0</td>\n",
       "    </tr>\n",
       "    <tr>\n",
       "      <th>2935846</th>\n",
       "      <td>2015-10-14</td>\n",
       "      <td>33</td>\n",
       "      <td>25</td>\n",
       "      <td>7459</td>\n",
       "      <td>349.00</td>\n",
       "      <td>1.0</td>\n",
       "    </tr>\n",
       "    <tr>\n",
       "      <th>2935847</th>\n",
       "      <td>2015-10-22</td>\n",
       "      <td>33</td>\n",
       "      <td>25</td>\n",
       "      <td>7440</td>\n",
       "      <td>299.00</td>\n",
       "      <td>1.0</td>\n",
       "    </tr>\n",
       "    <tr>\n",
       "      <th>2935848</th>\n",
       "      <td>2015-10-03</td>\n",
       "      <td>33</td>\n",
       "      <td>25</td>\n",
       "      <td>7460</td>\n",
       "      <td>299.00</td>\n",
       "      <td>1.0</td>\n",
       "    </tr>\n",
       "  </tbody>\n",
       "</table>\n",
       "<p>2935849 rows × 6 columns</p>\n",
       "</div>"
      ],
      "text/plain": [
       "              date  date_block_num  shop_id  item_id  item_price  item_cnt_day\n",
       "0       2013-01-02               0       59    22154      999.00           1.0\n",
       "1       2013-01-03               0       25     2552      899.00           1.0\n",
       "2       2013-01-05               0       25     2552      899.00          -1.0\n",
       "3       2013-01-06               0       25     2554     1709.05           1.0\n",
       "4       2013-01-15               0       25     2555     1099.00           1.0\n",
       "...            ...             ...      ...      ...         ...           ...\n",
       "2935844 2015-10-10              33       25     7409      299.00           1.0\n",
       "2935845 2015-10-09              33       25     7460      299.00           1.0\n",
       "2935846 2015-10-14              33       25     7459      349.00           1.0\n",
       "2935847 2015-10-22              33       25     7440      299.00           1.0\n",
       "2935848 2015-10-03              33       25     7460      299.00           1.0\n",
       "\n",
       "[2935849 rows x 6 columns]"
      ]
     },
     "execution_count": 82,
     "metadata": {},
     "output_type": "execute_result"
    }
   ],
   "source": [
    "train"
   ]
  },
  {
   "cell_type": "markdown",
   "id": "0fcb1efd",
   "metadata": {},
   "source": [
    "# Radin data EDA"
   ]
  },
  {
   "cell_type": "code",
   "execution_count": 80,
   "id": "9518df14",
   "metadata": {
    "ExecuteTime": {
     "end_time": "2022-07-11T06:56:28.845511Z",
     "start_time": "2022-07-11T06:56:28.752660Z"
    }
   },
   "outputs": [
    {
     "data": {
      "text/plain": [
       "array([-2.200e+01, -1.600e+01, -9.000e+00, -6.000e+00, -5.000e+00,\n",
       "       -4.000e+00, -3.000e+00, -2.000e+00, -1.000e+00,  1.000e+00,\n",
       "        2.000e+00,  3.000e+00,  4.000e+00,  5.000e+00,  6.000e+00,\n",
       "        7.000e+00,  8.000e+00,  9.000e+00,  1.000e+01,  1.100e+01,\n",
       "        1.200e+01,  1.300e+01,  1.400e+01,  1.500e+01,  1.600e+01,\n",
       "        1.700e+01,  1.800e+01,  1.900e+01,  2.000e+01,  2.100e+01,\n",
       "        2.200e+01,  2.300e+01,  2.400e+01,  2.500e+01,  2.600e+01,\n",
       "        2.700e+01,  2.800e+01,  2.900e+01,  3.000e+01,  3.100e+01,\n",
       "        3.200e+01,  3.300e+01,  3.400e+01,  3.500e+01,  3.600e+01,\n",
       "        3.700e+01,  3.800e+01,  3.900e+01,  4.000e+01,  4.100e+01,\n",
       "        4.200e+01,  4.300e+01,  4.400e+01,  4.500e+01,  4.600e+01,\n",
       "        4.700e+01,  4.800e+01,  4.900e+01,  5.000e+01,  5.100e+01,\n",
       "        5.200e+01,  5.300e+01,  5.400e+01,  5.500e+01,  5.600e+01,\n",
       "        5.700e+01,  5.800e+01,  5.900e+01,  6.000e+01,  6.100e+01,\n",
       "        6.200e+01,  6.300e+01,  6.400e+01,  6.500e+01,  6.600e+01,\n",
       "        6.700e+01,  6.800e+01,  6.900e+01,  7.000e+01,  7.100e+01,\n",
       "        7.200e+01,  7.300e+01,  7.400e+01,  7.500e+01,  7.600e+01,\n",
       "        7.700e+01,  7.800e+01,  7.900e+01,  8.000e+01,  8.100e+01,\n",
       "        8.200e+01,  8.300e+01,  8.400e+01,  8.500e+01,  8.600e+01,\n",
       "        8.700e+01,  8.800e+01,  8.900e+01,  9.000e+01,  9.100e+01,\n",
       "        9.200e+01,  9.300e+01,  9.500e+01,  9.600e+01,  9.700e+01,\n",
       "        9.800e+01,  9.900e+01,  1.000e+02,  1.010e+02,  1.020e+02,\n",
       "        1.030e+02,  1.040e+02,  1.050e+02,  1.060e+02,  1.070e+02,\n",
       "        1.080e+02,  1.090e+02,  1.100e+02,  1.110e+02,  1.120e+02,\n",
       "        1.130e+02,  1.140e+02,  1.150e+02,  1.160e+02,  1.170e+02,\n",
       "        1.180e+02,  1.210e+02,  1.240e+02,  1.260e+02,  1.270e+02,\n",
       "        1.280e+02,  1.290e+02,  1.300e+02,  1.310e+02,  1.320e+02,\n",
       "        1.330e+02,  1.340e+02,  1.350e+02,  1.380e+02,  1.390e+02,\n",
       "        1.400e+02,  1.420e+02,  1.450e+02,  1.460e+02,  1.470e+02,\n",
       "        1.480e+02,  1.490e+02,  1.500e+02,  1.510e+02,  1.530e+02,\n",
       "        1.540e+02,  1.560e+02,  1.570e+02,  1.610e+02,  1.630e+02,\n",
       "        1.640e+02,  1.670e+02,  1.680e+02,  1.710e+02,  1.790e+02,\n",
       "        1.870e+02,  1.940e+02,  1.950e+02,  2.000e+02,  2.050e+02,\n",
       "        2.070e+02,  2.170e+02,  2.220e+02,  2.300e+02,  2.310e+02,\n",
       "        2.400e+02,  2.420e+02,  2.510e+02,  2.550e+02,  2.640e+02,\n",
       "        2.880e+02,  2.990e+02,  3.000e+02,  3.130e+02,  3.250e+02,\n",
       "        3.430e+02,  4.010e+02,  4.050e+02,  4.120e+02,  4.800e+02,\n",
       "        5.000e+02,  5.010e+02,  5.020e+02,  5.040e+02,  5.080e+02,\n",
       "        5.120e+02,  5.330e+02,  5.390e+02,  6.240e+02,  6.370e+02,\n",
       "        6.690e+02,  1.000e+03,  2.169e+03])"
      ]
     },
     "execution_count": 80,
     "metadata": {},
     "output_type": "execute_result"
    }
   ],
   "source": [
    "np.unique(train[\"item_cnt_day\"].values)"
   ]
  },
  {
   "cell_type": "markdown",
   "id": "a8c5a1d0",
   "metadata": {},
   "source": [
    "?! I thought *item_cnt_day* values are almost 1  \n",
    "Visualize this feature to check it"
   ]
  },
  {
   "cell_type": "code",
   "execution_count": 136,
   "id": "4d3d2df2",
   "metadata": {
    "ExecuteTime": {
     "end_time": "2022-07-11T07:13:38.215347Z",
     "start_time": "2022-07-11T07:13:38.060633Z"
    }
   },
   "outputs": [
    {
     "data": {
      "text/plain": [
       "(array([2.93581e+06, 2.40000e+01, 1.10000e+01, 2.00000e+00, 1.00000e+00,\n",
       "        0.00000e+00, 0.00000e+00, 0.00000e+00, 0.00000e+00, 1.00000e+00]),\n",
       " array([ -22. ,  197.1,  416.2,  635.3,  854.4, 1073.5, 1292.6, 1511.7,\n",
       "        1730.8, 1949.9, 2169. ]),\n",
       " <BarContainer object of 10 artists>)"
      ]
     },
     "execution_count": 136,
     "metadata": {},
     "output_type": "execute_result"
    },
    {
     "data": {
      "image/png": "[encoded data removed]",
      "text/plain": [
       "<Figure size 1152x288 with 1 Axes>"
      ]
     },
     "metadata": {
      "needs_background": "light"
     },
     "output_type": "display_data"
    }
   ],
   "source": [
    "plt.figure(figsize=(16,4))\n",
    "plt.title(\"All item_cnt_day histogram\")\n",
    "plt.hist(train[\"item_cnt_day\"])"
   ]
  },
  {
   "cell_type": "code",
   "execution_count": 147,
   "id": "e1140ba9",
   "metadata": {
    "ExecuteTime": {
     "end_time": "2022-07-11T07:55:08.430555Z",
     "start_time": "2022-07-11T07:55:08.305578Z"
    }
   },
   "outputs": [
    {
     "data": {
      "text/plain": [
       "(array([1.0083e+04, 1.8000e+01, 1.2000e+01, 1.0000e+00, 1.0000e+00,\n",
       "        0.0000e+00, 0.0000e+00, 0.0000e+00, 0.0000e+00, 1.0000e+00]),\n",
       " array([  11. ,  226.8,  442.6,  658.4,  874.2, 1090. , 1305.8, 1521.6,\n",
       "        1737.4, 1953.2, 2169. ]),\n",
       " <BarContainer object of 10 artists>)"
      ]
     },
     "execution_count": 147,
     "metadata": {},
     "output_type": "execute_result"
    },
    {
     "data": {
      "image/png": "[encoded data removed]",
      "text/plain": [
       "<Figure size 1152x288 with 1 Axes>"
      ]
     },
     "metadata": {
      "needs_background": "light"
     },
     "output_type": "display_data"
    }
   ],
   "source": [
    "plt.figure(figsize=(16,4))\n",
    "plt.title(\"Over 10 item_cnt_day histogram, Ratio: \" +str(len(train[\"item_cnt_day\"][train[\"item_cnt_day\"]>10])/len(train[\"item_cnt_day\"])*100))\n",
    "plt.hist(train[\"item_cnt_day\"][train[\"item_cnt_day\"]>10])"
   ]
  },
  {
   "cell_type": "code",
   "execution_count": 148,
   "id": "851c6257",
   "metadata": {
    "ExecuteTime": {
     "end_time": "2022-07-11T07:55:21.767556Z",
     "start_time": "2022-07-11T07:55:21.640559Z"
    }
   },
   "outputs": [
    {
     "data": {
      "text/plain": [
       "(array([1.0083e+04, 1.8000e+01, 1.2000e+01, 1.0000e+00, 1.0000e+00,\n",
       "        0.0000e+00, 0.0000e+00, 0.0000e+00, 0.0000e+00, 1.0000e+00]),\n",
       " array([  11. ,  226.8,  442.6,  658.4,  874.2, 1090. , 1305.8, 1521.6,\n",
       "        1737.4, 1953.2, 2169. ]),\n",
       " <BarContainer object of 10 artists>)"
      ]
     },
     "execution_count": 148,
     "metadata": {},
     "output_type": "execute_result"
    },
    {
     "data": {
      "image/png": "[encoded data removed]",
      "text/plain": [
       "<Figure size 1152x288 with 1 Axes>"
      ]
     },
     "metadata": {
      "needs_background": "light"
     },
     "output_type": "display_data"
    }
   ],
   "source": [
    "plt.figure(figsize=(16,4))\n",
    "plt.title(\"Over 100 item_cnt_day histogram, Ratio: \" +str(len(train[\"item_cnt_day\"][train[\"item_cnt_day\"]>100])/len(train[\"item_cnt_day\"])*100))\n",
    "plt.hist(train[\"item_cnt_day\"][train[\"item_cnt_day\"]>10])"
   ]
  },
  {
   "cell_type": "code",
   "execution_count": 162,
   "id": "57ebf1eb",
   "metadata": {
    "ExecuteTime": {
     "end_time": "2022-07-11T08:00:43.900541Z",
     "start_time": "2022-07-11T08:00:43.708961Z"
    }
   },
   "outputs": [
    {
     "data": {
      "text/plain": [
       "(array([1.000000e+00, 0.000000e+00, 1.000000e+00, 0.000000e+00,\n",
       "        0.000000e+00, 1.000000e+00, 2.000000e+00, 7.000000e+00,\n",
       "        9.200000e+01, 2.636624e+06]),\n",
       " array([-22. , -19.7, -17.4, -15.1, -12.8, -10.5,  -8.2,  -5.9,  -3.6,\n",
       "         -1.3,   1. ]),\n",
       " <BarContainer object of 10 artists>)"
      ]
     },
     "execution_count": 162,
     "metadata": {},
     "output_type": "execute_result"
    },
    {
     "data": {
      "image/png": "[encoded data removed]",
      "text/plain": [
       "<Figure size 1152x288 with 1 Axes>"
      ]
     },
     "metadata": {
      "needs_background": "light"
     },
     "output_type": "display_data"
    }
   ],
   "source": [
    "plt.figure(figsize=(16,4))\n",
    "plt.title(\"Under 2 item_cnt_day histogram, Ratio: \" +str(len(train[\"item_cnt_day\"][train[\"item_cnt_day\"]<=1])/len(train[\"item_cnt_day\"])*100))\n",
    "plt.hist(train[\"item_cnt_day\"][train[\"item_cnt_day\"]<=1])"
   ]
  },
  {
   "cell_type": "code",
   "execution_count": 165,
   "id": "198763a1",
   "metadata": {
    "ExecuteTime": {
     "end_time": "2022-07-11T08:02:01.062606Z",
     "start_time": "2022-07-11T08:02:01.017063Z"
    }
   },
   "outputs": [
    {
     "name": "stdout",
     "output_type": "stream",
     "text": [
      "1's Ratio to all data:  89.56087319204768\n"
     ]
    }
   ],
   "source": [
    "print(\"1's Ratio to all data: \", len(train[\"item_cnt_day\"][train[\"item_cnt_day\"]==1])/len(train[\"item_cnt_day\"])*100)"
   ]
  },
  {
   "cell_type": "markdown",
   "id": "8f5773df",
   "metadata": {},
   "source": [
    "Almost 90% of labels are *1*!!"
   ]
  },
  {
   "cell_type": "code",
   "execution_count": 184,
   "id": "d98fe4ee",
   "metadata": {
    "ExecuteTime": {
     "end_time": "2022-07-11T08:22:56.754741Z",
     "start_time": "2022-07-11T08:22:56.305754Z"
    }
   },
   "outputs": [
    {
     "data": {
      "text/plain": [
       "<AxesSubplot:>"
      ]
     },
     "execution_count": 184,
     "metadata": {},
     "output_type": "execute_result"
    },
    {
     "data": {
      "image/png": "[encoded data removed]",
      "text/plain": [
       "<Figure size 1008x864 with 2 Axes>"
      ]
     },
     "metadata": {
      "needs_background": "light"
     },
     "output_type": "display_data"
    }
   ],
   "source": [
    "plt.figure(figsize=(14, 12))\n",
    "sns.heatmap(train.corr(), annot=True, cmap=plt.cm.Blues)"
   ]
  },
  {
   "cell_type": "markdown",
   "id": "2b3ab622",
   "metadata": {},
   "source": [
    "Looks all values have small correlation"
   ]
  },
  {
   "cell_type": "code",
   "execution_count": 190,
   "id": "0892306d",
   "metadata": {
    "ExecuteTime": {
     "end_time": "2022-07-11T08:24:06.029421Z",
     "start_time": "2022-07-11T08:24:05.796504Z"
    }
   },
   "outputs": [
    {
     "data": {
      "text/plain": [
       "(array([  9857.,   5678.,  25991.,  25532.,  38242.,  38179.,  82663.,\n",
       "         58076.,   3412.,   3751.,  21397.,    499.,  34694.,  17824.,\n",
       "         36979.,  59511.,  52734.,  22950.,  53227.,  63911.,   1792.,\n",
       "         58133.,  45434.,   6963.,  53032., 186104.,  53910., 105366.,\n",
       "        142234.,  49225.,  50860., 235636.,   7947.,   5027.,   5752.,\n",
       "         58445.,    306.,  39638.,  46013.,  13440.,   4257.,  41967.,\n",
       "        109253.,  39282.,  39530.,  35891.,  66321.,  56695.,  21612.,\n",
       "         15849.,  65173.,  44433.,  43502.,  52921., 143480.,  34769.,\n",
       "         69573., 117428., 113549.]),\n",
       " array([ 0,  1,  2,  3,  4,  5,  6,  7,  8,  9, 10, 11, 12, 13, 14, 15, 16,\n",
       "        17, 18, 19, 20, 21, 22, 23, 24, 25, 26, 27, 28, 29, 30, 31, 32, 33,\n",
       "        34, 35, 36, 37, 38, 39, 40, 41, 42, 43, 44, 45, 46, 47, 48, 49, 50,\n",
       "        51, 52, 53, 54, 55, 56, 57, 58, 59], dtype=int64),\n",
       " <BarContainer object of 59 artists>)"
      ]
     },
     "execution_count": 190,
     "metadata": {},
     "output_type": "execute_result"
    },
    {
     "data": {
      "image/png": "[encoded data removed]",
      "text/plain": [
       "<Figure size 1008x720 with 1 Axes>"
      ]
     },
     "metadata": {
      "needs_background": "light"
     },
     "output_type": "display_data"
    }
   ],
   "source": [
    "plt.figure(figsize=(14, 10))\n",
    "plt.hist(train[\"shop_id\"], bins=np.unique(train[\"shop_id\"]), edgecolor=\"white\", linewidth=0.5)"
   ]
  },
  {
   "cell_type": "code",
   "execution_count": 235,
   "id": "eb6130e5",
   "metadata": {
    "ExecuteTime": {
     "end_time": "2022-07-11T08:50:54.138932Z",
     "start_time": "2022-07-11T08:50:53.390955Z"
    }
   },
   "outputs": [
    {
     "data": {
      "text/plain": [
       "Text(0, 0.5, 'Item price mean per shop id')"
      ]
     },
     "execution_count": 235,
     "metadata": {},
     "output_type": "execute_result"
    },
    {
     "data": {
      "image/png": "[encoded data removed]",
      "text/plain": [
       "<Figure size 1008x360 with 2 Axes>"
      ]
     },
     "metadata": {
      "needs_background": "light"
     },
     "output_type": "display_data"
    }
   ],
   "source": [
    "fig, ax = plt.subplots(figsize=(14,5))\n",
    "ax.set_title(\"Median item_cnt_day, item_price per shop_id\")\n",
    "ax.plot(np.unique(train[\"shop_id\"]), train.groupby(\"shop_id\").median()[\"item_cnt_day\"])\n",
    "ax.set_ylabel(\"Item cnt day per shop id\")\n",
    "ax2 = ax.twinx()\n",
    "ax2.plot(np.unique(train[\"shop_id\"]), train.groupby(\"shop_id\").median()[\"item_price\"], color=\"orange\")\n",
    "ax2.set_ylabel(\"Item price mean per shop id\")"
   ]
  },
  {
   "cell_type": "code",
   "execution_count": 242,
   "id": "20a55888",
   "metadata": {
    "ExecuteTime": {
     "end_time": "2022-07-11T08:54:42.604609Z",
     "start_time": "2022-07-11T08:54:42.190429Z"
    }
   },
   "outputs": [
    {
     "data": {
      "text/html": [
       "<div>\n",
       "<style scoped>\n",
       "    .dataframe tbody tr th:only-of-type {\n",
       "        vertical-align: middle;\n",
       "    }\n",
       "\n",
       "    .dataframe tbody tr th {\n",
       "        vertical-align: top;\n",
       "    }\n",
       "\n",
       "    .dataframe thead th {\n",
       "        text-align: right;\n",
       "    }\n",
       "</style>\n",
       "<table border=\"1\" class=\"dataframe\">\n",
       "  <thead>\n",
       "    <tr style=\"text-align: right;\">\n",
       "      <th></th>\n",
       "      <th>item_price</th>\n",
       "      <th>item_cnt_day</th>\n",
       "    </tr>\n",
       "    <tr>\n",
       "      <th>shop_id</th>\n",
       "      <th></th>\n",
       "      <th></th>\n",
       "    </tr>\n",
       "  </thead>\n",
       "  <tbody>\n",
       "    <tr>\n",
       "      <th>9</th>\n",
       "      <td>974.125</td>\n",
       "      <td>2.0</td>\n",
       "    </tr>\n",
       "    <tr>\n",
       "      <th>20</th>\n",
       "      <td>1249.000</td>\n",
       "      <td>2.0</td>\n",
       "    </tr>\n",
       "  </tbody>\n",
       "</table>\n",
       "</div>"
      ],
      "text/plain": [
       "         item_price  item_cnt_day\n",
       "shop_id                          \n",
       "9           974.125           2.0\n",
       "20         1249.000           2.0"
      ]
     },
     "execution_count": 242,
     "metadata": {},
     "output_type": "execute_result"
    }
   ],
   "source": [
    "train.groupby(\"shop_id\").median()[train.groupby(\"shop_id\").median()[\"item_cnt_day\"]>1.5][[\"item_price\", \"item_cnt_day\"]]"
   ]
  },
  {
   "cell_type": "code",
   "execution_count": 260,
   "id": "1ecd112e",
   "metadata": {
    "ExecuteTime": {
     "end_time": "2022-07-11T08:59:09.003924Z",
     "start_time": "2022-07-11T08:59:08.730030Z"
    }
   },
   "outputs": [
    {
     "data": {
      "text/plain": [
       "(array([189278., 141498.,  91430.,  96194.,  56451.,  20896.,  17561.,\n",
       "          9491.,   5459.,   4049.]),\n",
       " array([1000., 1400., 1800., 2200., 2600., 3000., 3400., 3800., 4200.,\n",
       "        4600., 5000.]),\n",
       " <BarContainer object of 10 artists>)"
      ]
     },
     "execution_count": 260,
     "metadata": {},
     "output_type": "execute_result"
    },
    {
     "data": {
      "image/png": "[encoded data removed]",
      "text/plain": [
       "<Figure size 1008x360 with 2 Axes>"
      ]
     },
     "metadata": {
      "needs_background": "light"
     },
     "output_type": "display_data"
    }
   ],
   "source": [
    "fig, ax = plt.subplots(1, 2, figsize=(14, 5))\n",
    "ax[0].hist(train[\"item_price\"][train[\"item_price\"]<1000])\n",
    "ax[1].hist(train[\"item_price\"][train[\"item_price\"].between(1000, 5000)])"
   ]
  },
  {
   "cell_type": "code",
   "execution_count": null,
   "id": "20d1080e",
   "metadata": {},
   "outputs": [],
   "source": []
  }
 ],
 "metadata": {
  "kernelspec": {
   "display_name": "=python3.9.0",
   "language": "python",
   "name": "python3.9.0"
  },
  "language_info": {
   "codemirror_mode": {
    "name": "ipython",
    "version": 3
   },
   "file_extension": ".py",
   "mimetype": "text/x-python",
   "name": "python",
   "nbconvert_exporter": "python",
   "pygments_lexer": "ipython3",
   "version": "3.9.12"
  },
  "toc": {
   "base_numbering": 1,
   "nav_menu": {},
   "number_sections": true,
   "sideBar": true,
   "skip_h1_title": false,
   "title_cell": "Table of Contents",
   "title_sidebar": "Contents",
   "toc_cell": false,
   "toc_position": {},
   "toc_section_display": true,
   "toc_window_display": false
  },
  "varInspector": {
   "cols": {
    "lenName": 16,
    "lenType": 16,
    "lenVar": 40
   },
   "kernels_config": {
    "python": {
     "delete_cmd_postfix": "",
     "delete_cmd_prefix": "del ",
     "library": "var_list.py",
     "varRefreshCmd": "print(var_dic_list())"
    },
    "r": {
     "delete_cmd_postfix": ") ",
     "delete_cmd_prefix": "rm(",
     "library": "var_list.r",
     "varRefreshCmd": "cat(var_dic_list()) "
    }
   },
   "types_to_exclude": [
    "module",
    "function",
    "builtin_function_or_method",
    "instance",
    "_Feature"
   ],
   "window_display": false
  }
 },
 "nbformat": 4,
 "nbformat_minor": 5
}
