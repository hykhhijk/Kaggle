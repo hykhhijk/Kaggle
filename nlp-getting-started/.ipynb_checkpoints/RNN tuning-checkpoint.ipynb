{
 "cells": [
  {
   "cell_type": "markdown",
   "id": "a77fa062",
   "metadata": {
    "ExecuteTime": {
     "end_time": "2022-06-06T05:29:34.230670Z",
     "start_time": "2022-06-06T05:29:34.213076Z"
    }
   },
   "source": [
    "# Import libraries & data  \n",
    "Fist import libraries and data for train model."
   ]
  },
  {
   "cell_type": "code",
   "execution_count": 2,
   "id": "85b2d672",
   "metadata": {
    "ExecuteTime": {
     "end_time": "2022-06-06T05:29:46.515211Z",
     "start_time": "2022-06-06T05:29:37.829827Z"
    }
   },
   "outputs": [],
   "source": [
    "import pandas as pd\n",
    "import numpy as np\n",
    "import matplotlib.pyplot as plt\n",
    "import re\n",
    "from tensorflow import keras\n",
    "from sklearn.model_selection import train_test_split\n",
    "from sklearn.preprocessing import LabelEncoder\n",
    "from sklearn.ensemble import RandomForestClassifier\n",
    "import nltk\n",
    "import string\n",
    "import tensorflow_hub as hub\n",
    "import tensorflow as tf\n",
    "import sklearn"
   ]
  },
  {
   "cell_type": "code",
   "execution_count": 3,
   "id": "206f41a6",
   "metadata": {
    "ExecuteTime": {
     "end_time": "2022-06-06T05:29:46.687625Z",
     "start_time": "2022-06-06T05:29:46.547530Z"
    }
   },
   "outputs": [],
   "source": [
    "data = pd.read_csv(\"D:/kaggle_datasets/nlp-getting-started/train.csv\")\n",
    "X_test = pd.read_csv(\"D:/kaggle_datasets/nlp-getting-started/test.csv\")\n",
    "submission = pd.read_csv(\"D:/kaggle_datasets/nlp-getting-started/sample_submission.csv\")\n",
    "y = data[\"target\"]"
   ]
  },
  {
   "cell_type": "code",
   "execution_count": 7,
   "id": "0248a745",
   "metadata": {
    "ExecuteTime": {
     "end_time": "2022-06-06T05:33:20.187905Z",
     "start_time": "2022-06-06T05:33:20.166018Z"
    }
   },
   "outputs": [
    {
     "data": {
      "text/html": [
       "<div>\n",
       "<style scoped>\n",
       "    .dataframe tbody tr th:only-of-type {\n",
       "        vertical-align: middle;\n",
       "    }\n",
       "\n",
       "    .dataframe tbody tr th {\n",
       "        vertical-align: top;\n",
       "    }\n",
       "\n",
       "    .dataframe thead th {\n",
       "        text-align: right;\n",
       "    }\n",
       "</style>\n",
       "<table border=\"1\" class=\"dataframe\">\n",
       "  <thead>\n",
       "    <tr style=\"text-align: right;\">\n",
       "      <th></th>\n",
       "      <th>id</th>\n",
       "      <th>keyword</th>\n",
       "      <th>location</th>\n",
       "      <th>text</th>\n",
       "      <th>target</th>\n",
       "    </tr>\n",
       "  </thead>\n",
       "  <tbody>\n",
       "    <tr>\n",
       "      <th>0</th>\n",
       "      <td>1</td>\n",
       "      <td>NaN</td>\n",
       "      <td>NaN</td>\n",
       "      <td>Our Deeds are the Reason of this #earthquake M...</td>\n",
       "      <td>1</td>\n",
       "    </tr>\n",
       "    <tr>\n",
       "      <th>1</th>\n",
       "      <td>4</td>\n",
       "      <td>NaN</td>\n",
       "      <td>NaN</td>\n",
       "      <td>Forest fire near La Ronge Sask. Canada</td>\n",
       "      <td>1</td>\n",
       "    </tr>\n",
       "    <tr>\n",
       "      <th>2</th>\n",
       "      <td>5</td>\n",
       "      <td>NaN</td>\n",
       "      <td>NaN</td>\n",
       "      <td>All residents asked to 'shelter in place' are ...</td>\n",
       "      <td>1</td>\n",
       "    </tr>\n",
       "    <tr>\n",
       "      <th>3</th>\n",
       "      <td>6</td>\n",
       "      <td>NaN</td>\n",
       "      <td>NaN</td>\n",
       "      <td>13,000 people receive #wildfires evacuation or...</td>\n",
       "      <td>1</td>\n",
       "    </tr>\n",
       "    <tr>\n",
       "      <th>4</th>\n",
       "      <td>7</td>\n",
       "      <td>NaN</td>\n",
       "      <td>NaN</td>\n",
       "      <td>Just got sent this photo from Ruby #Alaska as ...</td>\n",
       "      <td>1</td>\n",
       "    </tr>\n",
       "    <tr>\n",
       "      <th>...</th>\n",
       "      <td>...</td>\n",
       "      <td>...</td>\n",
       "      <td>...</td>\n",
       "      <td>...</td>\n",
       "      <td>...</td>\n",
       "    </tr>\n",
       "    <tr>\n",
       "      <th>7608</th>\n",
       "      <td>10869</td>\n",
       "      <td>NaN</td>\n",
       "      <td>NaN</td>\n",
       "      <td>Two giant cranes holding a bridge collapse int...</td>\n",
       "      <td>1</td>\n",
       "    </tr>\n",
       "    <tr>\n",
       "      <th>7609</th>\n",
       "      <td>10870</td>\n",
       "      <td>NaN</td>\n",
       "      <td>NaN</td>\n",
       "      <td>@aria_ahrary @TheTawniest The out of control w...</td>\n",
       "      <td>1</td>\n",
       "    </tr>\n",
       "    <tr>\n",
       "      <th>7610</th>\n",
       "      <td>10871</td>\n",
       "      <td>NaN</td>\n",
       "      <td>NaN</td>\n",
       "      <td>M1.94 [01:04 UTC]?5km S of Volcano Hawaii. htt...</td>\n",
       "      <td>1</td>\n",
       "    </tr>\n",
       "    <tr>\n",
       "      <th>7611</th>\n",
       "      <td>10872</td>\n",
       "      <td>NaN</td>\n",
       "      <td>NaN</td>\n",
       "      <td>Police investigating after an e-bike collided ...</td>\n",
       "      <td>1</td>\n",
       "    </tr>\n",
       "    <tr>\n",
       "      <th>7612</th>\n",
       "      <td>10873</td>\n",
       "      <td>NaN</td>\n",
       "      <td>NaN</td>\n",
       "      <td>The Latest: More Homes Razed by Northern Calif...</td>\n",
       "      <td>1</td>\n",
       "    </tr>\n",
       "  </tbody>\n",
       "</table>\n",
       "<p>7613 rows × 5 columns</p>\n",
       "</div>"
      ],
      "text/plain": [
       "         id keyword location  \\\n",
       "0         1     NaN      NaN   \n",
       "1         4     NaN      NaN   \n",
       "2         5     NaN      NaN   \n",
       "3         6     NaN      NaN   \n",
       "4         7     NaN      NaN   \n",
       "...     ...     ...      ...   \n",
       "7608  10869     NaN      NaN   \n",
       "7609  10870     NaN      NaN   \n",
       "7610  10871     NaN      NaN   \n",
       "7611  10872     NaN      NaN   \n",
       "7612  10873     NaN      NaN   \n",
       "\n",
       "                                                   text  target  \n",
       "0     Our Deeds are the Reason of this #earthquake M...       1  \n",
       "1                Forest fire near La Ronge Sask. Canada       1  \n",
       "2     All residents asked to 'shelter in place' are ...       1  \n",
       "3     13,000 people receive #wildfires evacuation or...       1  \n",
       "4     Just got sent this photo from Ruby #Alaska as ...       1  \n",
       "...                                                 ...     ...  \n",
       "7608  Two giant cranes holding a bridge collapse int...       1  \n",
       "7609  @aria_ahrary @TheTawniest The out of control w...       1  \n",
       "7610  M1.94 [01:04 UTC]?5km S of Volcano Hawaii. htt...       1  \n",
       "7611  Police investigating after an e-bike collided ...       1  \n",
       "7612  The Latest: More Homes Razed by Northern Calif...       1  \n",
       "\n",
       "[7613 rows x 5 columns]"
      ]
     },
     "execution_count": 7,
     "metadata": {},
     "output_type": "execute_result"
    }
   ],
   "source": [
    "data"
   ]
  },
  {
   "cell_type": "code",
   "execution_count": 8,
   "id": "c255a87b",
   "metadata": {
    "ExecuteTime": {
     "end_time": "2022-06-06T05:33:20.467527Z",
     "start_time": "2022-06-06T05:33:20.457528Z"
    }
   },
   "outputs": [],
   "source": [
    "X = data[\"text\"]"
   ]
  },
  {
   "cell_type": "code",
   "execution_count": 9,
   "id": "e0cfe4f6",
   "metadata": {
    "ExecuteTime": {
     "end_time": "2022-06-06T05:33:23.035717Z",
     "start_time": "2022-06-06T05:33:23.029761Z"
    }
   },
   "outputs": [],
   "source": [
    "X_for_tree = data[[\"keyword\", \"location\"]]"
   ]
  },
  {
   "cell_type": "markdown",
   "id": "daa68e52",
   "metadata": {},
   "source": [
    "I will train two model seperately. So need to split data.  \n",
    "__X__ for LSTM model using text data, __X_for_tree__ for RandomForest model using tabular data."
   ]
  },
  {
   "cell_type": "markdown",
   "id": "2b65b6a7",
   "metadata": {},
   "source": [
    "# Delete noise  \n",
    "Text data has lots of noise, So we need to delete noise in the data."
   ]
  },
  {
   "cell_type": "code",
   "execution_count": 17,
   "id": "c83545ca",
   "metadata": {
    "ExecuteTime": {
     "end_time": "2022-06-06T05:34:28.971768Z",
     "start_time": "2022-06-06T05:34:28.961797Z"
    }
   },
   "outputs": [
    {
     "data": {
      "text/plain": [
       "0    our deeds are the reason of this earthquake ma...\n",
       "1                forest fire near la ronge sask canada\n",
       "2    all residents asked to shelter in place are be...\n",
       "3     people receive wildfires evacuation orders in...\n",
       "4    just got sent this photo from ruby alaska as s...\n",
       "5    rockyfire update  california hwy  closed in bo...\n",
       "6    flood disaster heavy rain causes flash floodin...\n",
       "7    im on top of the hill and i can see a fire in ...\n",
       "8    theres an emergency evacuation happening now i...\n",
       "9     im afraid that the tornado is coming to our area\n",
       "dtype: object"
      ]
     },
     "execution_count": 17,
     "metadata": {},
     "output_type": "execute_result"
    }
   ],
   "source": [
    "X[:10]"
   ]
  },
  {
   "cell_type": "code",
   "execution_count": 18,
   "id": "611599a5",
   "metadata": {
    "ExecuteTime": {
     "end_time": "2022-06-06T05:34:32.500738Z",
     "start_time": "2022-06-06T05:34:32.353297Z"
    }
   },
   "outputs": [],
   "source": [
    "def clean_text(text):\n",
    "    '''Make text lowercase, remove text in square brackets,remove links,remove punctuation\n",
    "    and remove words containing numbers.'''\n",
    "    text = text.lower()\n",
    "    text = re.sub('\\[.*?\\]', '', text) \n",
    "    text = re.sub('https?://\\S+|www\\.\\S+', '', text)\n",
    "    text = re.sub('<.*?>+', '', text)\n",
    "    text = re.sub('[%s]' % re.escape(string.punctuation), '', text)\n",
    "    text = re.sub('\\n', '', text)\n",
    "    text = re.sub('\\w*\\d\\w*', '', text)\n",
    "    return text\n",
    "X = pd.Series(map(clean_text, X))"
   ]
  },
  {
   "cell_type": "code",
   "execution_count": 19,
   "id": "58c99d3a",
   "metadata": {
    "ExecuteTime": {
     "end_time": "2022-06-06T05:34:32.655912Z",
     "start_time": "2022-06-06T05:34:32.649927Z"
    }
   },
   "outputs": [
    {
     "data": {
      "text/plain": [
       "0    our deeds are the reason of this earthquake ma...\n",
       "1                forest fire near la ronge sask canada\n",
       "2    all residents asked to shelter in place are be...\n",
       "3     people receive wildfires evacuation orders in...\n",
       "4    just got sent this photo from ruby alaska as s...\n",
       "5    rockyfire update  california hwy  closed in bo...\n",
       "6    flood disaster heavy rain causes flash floodin...\n",
       "7    im on top of the hill and i can see a fire in ...\n",
       "8    theres an emergency evacuation happening now i...\n",
       "9     im afraid that the tornado is coming to our area\n",
       "dtype: object"
      ]
     },
     "execution_count": 19,
     "metadata": {},
     "output_type": "execute_result"
    }
   ],
   "source": [
    "X[:10]"
   ]
  },
  {
   "cell_type": "markdown",
   "id": "3bbb4dd9",
   "metadata": {},
   "source": [
    "# Tokenize  \n",
    "We need to tokenize data for model can trained by words not one sentence."
   ]
  },
  {
   "cell_type": "code",
   "execution_count": 20,
   "id": "ae55a0f8",
   "metadata": {
    "ExecuteTime": {
     "end_time": "2022-06-06T05:36:30.693848Z",
     "start_time": "2022-06-06T05:36:30.005259Z"
    }
   },
   "outputs": [],
   "source": [
    "X = [nltk.word_tokenize(sentence) for sentence in X]"
   ]
  },
  {
   "cell_type": "code",
   "execution_count": 21,
   "id": "7645eb00",
   "metadata": {
    "ExecuteTime": {
     "end_time": "2022-06-06T05:36:31.377705Z",
     "start_time": "2022-06-06T05:36:31.346324Z"
    }
   },
   "outputs": [
    {
     "data": {
      "text/html": [
       "<div>\n",
       "<style scoped>\n",
       "    .dataframe tbody tr th:only-of-type {\n",
       "        vertical-align: middle;\n",
       "    }\n",
       "\n",
       "    .dataframe tbody tr th {\n",
       "        vertical-align: top;\n",
       "    }\n",
       "\n",
       "    .dataframe thead th {\n",
       "        text-align: right;\n",
       "    }\n",
       "</style>\n",
       "<table border=\"1\" class=\"dataframe\">\n",
       "  <thead>\n",
       "    <tr style=\"text-align: right;\">\n",
       "      <th></th>\n",
       "      <th>0</th>\n",
       "      <th>1</th>\n",
       "      <th>2</th>\n",
       "      <th>3</th>\n",
       "      <th>4</th>\n",
       "      <th>5</th>\n",
       "      <th>6</th>\n",
       "      <th>7</th>\n",
       "      <th>8</th>\n",
       "      <th>9</th>\n",
       "      <th>...</th>\n",
       "      <th>12</th>\n",
       "      <th>13</th>\n",
       "      <th>14</th>\n",
       "      <th>15</th>\n",
       "      <th>16</th>\n",
       "      <th>17</th>\n",
       "      <th>18</th>\n",
       "      <th>19</th>\n",
       "      <th>20</th>\n",
       "      <th>21</th>\n",
       "    </tr>\n",
       "  </thead>\n",
       "  <tbody>\n",
       "    <tr>\n",
       "      <th>0</th>\n",
       "      <td>our</td>\n",
       "      <td>deeds</td>\n",
       "      <td>are</td>\n",
       "      <td>the</td>\n",
       "      <td>reason</td>\n",
       "      <td>of</td>\n",
       "      <td>this</td>\n",
       "      <td>earthquake</td>\n",
       "      <td>may</td>\n",
       "      <td>allah</td>\n",
       "      <td>...</td>\n",
       "      <td>all</td>\n",
       "      <td>None</td>\n",
       "      <td>None</td>\n",
       "      <td>None</td>\n",
       "      <td>None</td>\n",
       "      <td>None</td>\n",
       "      <td>None</td>\n",
       "      <td>None</td>\n",
       "      <td>None</td>\n",
       "      <td>None</td>\n",
       "    </tr>\n",
       "    <tr>\n",
       "      <th>1</th>\n",
       "      <td>forest</td>\n",
       "      <td>fire</td>\n",
       "      <td>near</td>\n",
       "      <td>la</td>\n",
       "      <td>ronge</td>\n",
       "      <td>sask</td>\n",
       "      <td>canada</td>\n",
       "      <td>None</td>\n",
       "      <td>None</td>\n",
       "      <td>None</td>\n",
       "      <td>...</td>\n",
       "      <td>None</td>\n",
       "      <td>None</td>\n",
       "      <td>None</td>\n",
       "      <td>None</td>\n",
       "      <td>None</td>\n",
       "      <td>None</td>\n",
       "      <td>None</td>\n",
       "      <td>None</td>\n",
       "      <td>None</td>\n",
       "      <td>None</td>\n",
       "    </tr>\n",
       "    <tr>\n",
       "      <th>2</th>\n",
       "      <td>all</td>\n",
       "      <td>residents</td>\n",
       "      <td>asked</td>\n",
       "      <td>to</td>\n",
       "      <td>shelter</td>\n",
       "      <td>in</td>\n",
       "      <td>place</td>\n",
       "      <td>are</td>\n",
       "      <td>being</td>\n",
       "      <td>notified</td>\n",
       "      <td>...</td>\n",
       "      <td>no</td>\n",
       "      <td>other</td>\n",
       "      <td>evacuation</td>\n",
       "      <td>or</td>\n",
       "      <td>shelter</td>\n",
       "      <td>in</td>\n",
       "      <td>place</td>\n",
       "      <td>orders</td>\n",
       "      <td>are</td>\n",
       "      <td>expected</td>\n",
       "    </tr>\n",
       "    <tr>\n",
       "      <th>3</th>\n",
       "      <td>people</td>\n",
       "      <td>receive</td>\n",
       "      <td>wildfires</td>\n",
       "      <td>evacuation</td>\n",
       "      <td>orders</td>\n",
       "      <td>in</td>\n",
       "      <td>california</td>\n",
       "      <td>None</td>\n",
       "      <td>None</td>\n",
       "      <td>None</td>\n",
       "      <td>...</td>\n",
       "      <td>None</td>\n",
       "      <td>None</td>\n",
       "      <td>None</td>\n",
       "      <td>None</td>\n",
       "      <td>None</td>\n",
       "      <td>None</td>\n",
       "      <td>None</td>\n",
       "      <td>None</td>\n",
       "      <td>None</td>\n",
       "      <td>None</td>\n",
       "    </tr>\n",
       "    <tr>\n",
       "      <th>4</th>\n",
       "      <td>just</td>\n",
       "      <td>got</td>\n",
       "      <td>sent</td>\n",
       "      <td>this</td>\n",
       "      <td>photo</td>\n",
       "      <td>from</td>\n",
       "      <td>ruby</td>\n",
       "      <td>alaska</td>\n",
       "      <td>as</td>\n",
       "      <td>smoke</td>\n",
       "      <td>...</td>\n",
       "      <td>pours</td>\n",
       "      <td>into</td>\n",
       "      <td>a</td>\n",
       "      <td>school</td>\n",
       "      <td>None</td>\n",
       "      <td>None</td>\n",
       "      <td>None</td>\n",
       "      <td>None</td>\n",
       "      <td>None</td>\n",
       "      <td>None</td>\n",
       "    </tr>\n",
       "  </tbody>\n",
       "</table>\n",
       "<p>5 rows × 22 columns</p>\n",
       "</div>"
      ],
      "text/plain": [
       "       0          1          2           3        4     5           6   \\\n",
       "0     our      deeds        are         the   reason    of        this   \n",
       "1  forest       fire       near          la    ronge  sask      canada   \n",
       "2     all  residents      asked          to  shelter    in       place   \n",
       "3  people    receive  wildfires  evacuation   orders    in  california   \n",
       "4    just        got       sent        this    photo  from        ruby   \n",
       "\n",
       "           7      8         9   ...     12     13          14      15  \\\n",
       "0  earthquake    may     allah  ...    all   None        None    None   \n",
       "1        None   None      None  ...   None   None        None    None   \n",
       "2         are  being  notified  ...     no  other  evacuation      or   \n",
       "3        None   None      None  ...   None   None        None    None   \n",
       "4      alaska     as     smoke  ...  pours   into           a  school   \n",
       "\n",
       "        16    17     18      19    20        21  \n",
       "0     None  None   None    None  None      None  \n",
       "1     None  None   None    None  None      None  \n",
       "2  shelter    in  place  orders   are  expected  \n",
       "3     None  None   None    None  None      None  \n",
       "4     None  None   None    None  None      None  \n",
       "\n",
       "[5 rows x 22 columns]"
      ]
     },
     "execution_count": 21,
     "metadata": {},
     "output_type": "execute_result"
    }
   ],
   "source": [
    "pd.DataFrame(X[:5])"
   ]
  },
  {
   "cell_type": "markdown",
   "id": "b2b173fe",
   "metadata": {},
   "source": [
    "# Delete stopwords  \n",
    "There's lot if meaningless data in text data.  \n",
    "like [I see fire at the mountain] -> [see fire mountain]  \n",
    "It looks quite difficult but we can do it just few line of code using nltk library.  "
   ]
  },
  {
   "cell_type": "code",
   "execution_count": 24,
   "id": "fe603850",
   "metadata": {
    "ExecuteTime": {
     "end_time": "2022-06-06T05:40:28.692963Z",
     "start_time": "2022-06-06T05:40:28.673189Z"
    }
   },
   "outputs": [
    {
     "data": {
      "text/plain": [
       "['i', 'me', 'my', 'myself', 'we']"
      ]
     },
     "execution_count": 24,
     "metadata": {},
     "output_type": "execute_result"
    }
   ],
   "source": [
    "nltk.corpus.stopwords.words('english')[:5]"
   ]
  },
  {
   "cell_type": "markdown",
   "id": "7e5d4919",
   "metadata": {},
   "source": [
    "nltk has stopwords data meaningless for training model."
   ]
  },
  {
   "cell_type": "code",
   "execution_count": 25,
   "id": "2aa7a5fb",
   "metadata": {
    "ExecuteTime": {
     "end_time": "2022-06-06T05:40:36.294560Z",
     "start_time": "2022-06-06T05:40:36.265639Z"
    }
   },
   "outputs": [
    {
     "data": {
      "text/html": [
       "<div>\n",
       "<style scoped>\n",
       "    .dataframe tbody tr th:only-of-type {\n",
       "        vertical-align: middle;\n",
       "    }\n",
       "\n",
       "    .dataframe tbody tr th {\n",
       "        vertical-align: top;\n",
       "    }\n",
       "\n",
       "    .dataframe thead th {\n",
       "        text-align: right;\n",
       "    }\n",
       "</style>\n",
       "<table border=\"1\" class=\"dataframe\">\n",
       "  <thead>\n",
       "    <tr style=\"text-align: right;\">\n",
       "      <th></th>\n",
       "      <th>0</th>\n",
       "      <th>1</th>\n",
       "      <th>2</th>\n",
       "      <th>3</th>\n",
       "      <th>4</th>\n",
       "      <th>5</th>\n",
       "      <th>6</th>\n",
       "      <th>7</th>\n",
       "      <th>8</th>\n",
       "      <th>9</th>\n",
       "      <th>...</th>\n",
       "      <th>12</th>\n",
       "      <th>13</th>\n",
       "      <th>14</th>\n",
       "      <th>15</th>\n",
       "      <th>16</th>\n",
       "      <th>17</th>\n",
       "      <th>18</th>\n",
       "      <th>19</th>\n",
       "      <th>20</th>\n",
       "      <th>21</th>\n",
       "    </tr>\n",
       "  </thead>\n",
       "  <tbody>\n",
       "    <tr>\n",
       "      <th>0</th>\n",
       "      <td>our</td>\n",
       "      <td>deeds</td>\n",
       "      <td>are</td>\n",
       "      <td>the</td>\n",
       "      <td>reason</td>\n",
       "      <td>of</td>\n",
       "      <td>this</td>\n",
       "      <td>earthquake</td>\n",
       "      <td>may</td>\n",
       "      <td>allah</td>\n",
       "      <td>...</td>\n",
       "      <td>all</td>\n",
       "      <td>None</td>\n",
       "      <td>None</td>\n",
       "      <td>None</td>\n",
       "      <td>None</td>\n",
       "      <td>None</td>\n",
       "      <td>None</td>\n",
       "      <td>None</td>\n",
       "      <td>None</td>\n",
       "      <td>None</td>\n",
       "    </tr>\n",
       "    <tr>\n",
       "      <th>1</th>\n",
       "      <td>forest</td>\n",
       "      <td>fire</td>\n",
       "      <td>near</td>\n",
       "      <td>la</td>\n",
       "      <td>ronge</td>\n",
       "      <td>sask</td>\n",
       "      <td>canada</td>\n",
       "      <td>None</td>\n",
       "      <td>None</td>\n",
       "      <td>None</td>\n",
       "      <td>...</td>\n",
       "      <td>None</td>\n",
       "      <td>None</td>\n",
       "      <td>None</td>\n",
       "      <td>None</td>\n",
       "      <td>None</td>\n",
       "      <td>None</td>\n",
       "      <td>None</td>\n",
       "      <td>None</td>\n",
       "      <td>None</td>\n",
       "      <td>None</td>\n",
       "    </tr>\n",
       "    <tr>\n",
       "      <th>2</th>\n",
       "      <td>all</td>\n",
       "      <td>residents</td>\n",
       "      <td>asked</td>\n",
       "      <td>to</td>\n",
       "      <td>shelter</td>\n",
       "      <td>in</td>\n",
       "      <td>place</td>\n",
       "      <td>are</td>\n",
       "      <td>being</td>\n",
       "      <td>notified</td>\n",
       "      <td>...</td>\n",
       "      <td>no</td>\n",
       "      <td>other</td>\n",
       "      <td>evacuation</td>\n",
       "      <td>or</td>\n",
       "      <td>shelter</td>\n",
       "      <td>in</td>\n",
       "      <td>place</td>\n",
       "      <td>orders</td>\n",
       "      <td>are</td>\n",
       "      <td>expected</td>\n",
       "    </tr>\n",
       "    <tr>\n",
       "      <th>3</th>\n",
       "      <td>people</td>\n",
       "      <td>receive</td>\n",
       "      <td>wildfires</td>\n",
       "      <td>evacuation</td>\n",
       "      <td>orders</td>\n",
       "      <td>in</td>\n",
       "      <td>california</td>\n",
       "      <td>None</td>\n",
       "      <td>None</td>\n",
       "      <td>None</td>\n",
       "      <td>...</td>\n",
       "      <td>None</td>\n",
       "      <td>None</td>\n",
       "      <td>None</td>\n",
       "      <td>None</td>\n",
       "      <td>None</td>\n",
       "      <td>None</td>\n",
       "      <td>None</td>\n",
       "      <td>None</td>\n",
       "      <td>None</td>\n",
       "      <td>None</td>\n",
       "    </tr>\n",
       "    <tr>\n",
       "      <th>4</th>\n",
       "      <td>just</td>\n",
       "      <td>got</td>\n",
       "      <td>sent</td>\n",
       "      <td>this</td>\n",
       "      <td>photo</td>\n",
       "      <td>from</td>\n",
       "      <td>ruby</td>\n",
       "      <td>alaska</td>\n",
       "      <td>as</td>\n",
       "      <td>smoke</td>\n",
       "      <td>...</td>\n",
       "      <td>pours</td>\n",
       "      <td>into</td>\n",
       "      <td>a</td>\n",
       "      <td>school</td>\n",
       "      <td>None</td>\n",
       "      <td>None</td>\n",
       "      <td>None</td>\n",
       "      <td>None</td>\n",
       "      <td>None</td>\n",
       "      <td>None</td>\n",
       "    </tr>\n",
       "  </tbody>\n",
       "</table>\n",
       "<p>5 rows × 22 columns</p>\n",
       "</div>"
      ],
      "text/plain": [
       "       0          1          2           3        4     5           6   \\\n",
       "0     our      deeds        are         the   reason    of        this   \n",
       "1  forest       fire       near          la    ronge  sask      canada   \n",
       "2     all  residents      asked          to  shelter    in       place   \n",
       "3  people    receive  wildfires  evacuation   orders    in  california   \n",
       "4    just        got       sent        this    photo  from        ruby   \n",
       "\n",
       "           7      8         9   ...     12     13          14      15  \\\n",
       "0  earthquake    may     allah  ...    all   None        None    None   \n",
       "1        None   None      None  ...   None   None        None    None   \n",
       "2         are  being  notified  ...     no  other  evacuation      or   \n",
       "3        None   None      None  ...   None   None        None    None   \n",
       "4      alaska     as     smoke  ...  pours   into           a  school   \n",
       "\n",
       "        16    17     18      19    20        21  \n",
       "0     None  None   None    None  None      None  \n",
       "1     None  None   None    None  None      None  \n",
       "2  shelter    in  place  orders   are  expected  \n",
       "3     None  None   None    None  None      None  \n",
       "4     None  None   None    None  None      None  \n",
       "\n",
       "[5 rows x 22 columns]"
      ]
     },
     "execution_count": 25,
     "metadata": {},
     "output_type": "execute_result"
    }
   ],
   "source": [
    "pd.DataFrame(X[:5])"
   ]
  },
  {
   "cell_type": "code",
   "execution_count": 26,
   "id": "130e2b4b",
   "metadata": {
    "ExecuteTime": {
     "end_time": "2022-06-06T05:40:56.015467Z",
     "start_time": "2022-06-06T05:40:37.130585Z"
    }
   },
   "outputs": [],
   "source": [
    "def remove_stopwords(text):\n",
    "    words = [w for w in text if w not in nltk.corpus.stopwords.words('english')]\n",
    "    return words\n",
    "\n",
    "X = list(map(remove_stopwords, X))"
   ]
  },
  {
   "cell_type": "code",
   "execution_count": 27,
   "id": "1e749714",
   "metadata": {
    "ExecuteTime": {
     "end_time": "2022-06-06T05:40:56.093450Z",
     "start_time": "2022-06-06T05:40:56.081490Z"
    }
   },
   "outputs": [
    {
     "data": {
      "text/html": [
       "<div>\n",
       "<style scoped>\n",
       "    .dataframe tbody tr th:only-of-type {\n",
       "        vertical-align: middle;\n",
       "    }\n",
       "\n",
       "    .dataframe tbody tr th {\n",
       "        vertical-align: top;\n",
       "    }\n",
       "\n",
       "    .dataframe thead th {\n",
       "        text-align: right;\n",
       "    }\n",
       "</style>\n",
       "<table border=\"1\" class=\"dataframe\">\n",
       "  <thead>\n",
       "    <tr style=\"text-align: right;\">\n",
       "      <th></th>\n",
       "      <th>0</th>\n",
       "      <th>1</th>\n",
       "      <th>2</th>\n",
       "      <th>3</th>\n",
       "      <th>4</th>\n",
       "      <th>5</th>\n",
       "      <th>6</th>\n",
       "      <th>7</th>\n",
       "      <th>8</th>\n",
       "      <th>9</th>\n",
       "      <th>10</th>\n",
       "    </tr>\n",
       "  </thead>\n",
       "  <tbody>\n",
       "    <tr>\n",
       "      <th>0</th>\n",
       "      <td>deeds</td>\n",
       "      <td>reason</td>\n",
       "      <td>earthquake</td>\n",
       "      <td>may</td>\n",
       "      <td>allah</td>\n",
       "      <td>forgive</td>\n",
       "      <td>us</td>\n",
       "      <td>None</td>\n",
       "      <td>None</td>\n",
       "      <td>None</td>\n",
       "      <td>None</td>\n",
       "    </tr>\n",
       "    <tr>\n",
       "      <th>1</th>\n",
       "      <td>forest</td>\n",
       "      <td>fire</td>\n",
       "      <td>near</td>\n",
       "      <td>la</td>\n",
       "      <td>ronge</td>\n",
       "      <td>sask</td>\n",
       "      <td>canada</td>\n",
       "      <td>None</td>\n",
       "      <td>None</td>\n",
       "      <td>None</td>\n",
       "      <td>None</td>\n",
       "    </tr>\n",
       "    <tr>\n",
       "      <th>2</th>\n",
       "      <td>residents</td>\n",
       "      <td>asked</td>\n",
       "      <td>shelter</td>\n",
       "      <td>place</td>\n",
       "      <td>notified</td>\n",
       "      <td>officers</td>\n",
       "      <td>evacuation</td>\n",
       "      <td>shelter</td>\n",
       "      <td>place</td>\n",
       "      <td>orders</td>\n",
       "      <td>expected</td>\n",
       "    </tr>\n",
       "    <tr>\n",
       "      <th>3</th>\n",
       "      <td>people</td>\n",
       "      <td>receive</td>\n",
       "      <td>wildfires</td>\n",
       "      <td>evacuation</td>\n",
       "      <td>orders</td>\n",
       "      <td>california</td>\n",
       "      <td>None</td>\n",
       "      <td>None</td>\n",
       "      <td>None</td>\n",
       "      <td>None</td>\n",
       "      <td>None</td>\n",
       "    </tr>\n",
       "    <tr>\n",
       "      <th>4</th>\n",
       "      <td>got</td>\n",
       "      <td>sent</td>\n",
       "      <td>photo</td>\n",
       "      <td>ruby</td>\n",
       "      <td>alaska</td>\n",
       "      <td>smoke</td>\n",
       "      <td>wildfires</td>\n",
       "      <td>pours</td>\n",
       "      <td>school</td>\n",
       "      <td>None</td>\n",
       "      <td>None</td>\n",
       "    </tr>\n",
       "  </tbody>\n",
       "</table>\n",
       "</div>"
      ],
      "text/plain": [
       "          0        1           2           3         4           5   \\\n",
       "0      deeds   reason  earthquake         may     allah     forgive   \n",
       "1     forest     fire        near          la     ronge        sask   \n",
       "2  residents    asked     shelter       place  notified    officers   \n",
       "3     people  receive   wildfires  evacuation    orders  california   \n",
       "4        got     sent       photo        ruby    alaska       smoke   \n",
       "\n",
       "           6        7       8       9         10  \n",
       "0          us     None    None    None      None  \n",
       "1      canada     None    None    None      None  \n",
       "2  evacuation  shelter   place  orders  expected  \n",
       "3        None     None    None    None      None  \n",
       "4   wildfires    pours  school    None      None  "
      ]
     },
     "execution_count": 27,
     "metadata": {},
     "output_type": "execute_result"
    }
   ],
   "source": [
    "pd.DataFrame(X[:5])"
   ]
  },
  {
   "cell_type": "markdown",
   "id": "141abe0f",
   "metadata": {},
   "source": [
    "# Integer encoding  \n",
    "Model can't trained by sentence data, So we need to make it integer."
   ]
  },
  {
   "cell_type": "code",
   "execution_count": 28,
   "id": "6b68a03e",
   "metadata": {
    "ExecuteTime": {
     "end_time": "2022-06-06T05:41:51.912228Z",
     "start_time": "2022-06-06T05:41:51.902301Z"
    }
   },
   "outputs": [
    {
     "data": {
      "text/html": [
       "<div>\n",
       "<style scoped>\n",
       "    .dataframe tbody tr th:only-of-type {\n",
       "        vertical-align: middle;\n",
       "    }\n",
       "\n",
       "    .dataframe tbody tr th {\n",
       "        vertical-align: top;\n",
       "    }\n",
       "\n",
       "    .dataframe thead th {\n",
       "        text-align: right;\n",
       "    }\n",
       "</style>\n",
       "<table border=\"1\" class=\"dataframe\">\n",
       "  <thead>\n",
       "    <tr style=\"text-align: right;\">\n",
       "      <th></th>\n",
       "      <th>0</th>\n",
       "      <th>1</th>\n",
       "      <th>2</th>\n",
       "      <th>3</th>\n",
       "      <th>4</th>\n",
       "      <th>5</th>\n",
       "      <th>6</th>\n",
       "      <th>7</th>\n",
       "      <th>8</th>\n",
       "      <th>9</th>\n",
       "      <th>10</th>\n",
       "    </tr>\n",
       "  </thead>\n",
       "  <tbody>\n",
       "    <tr>\n",
       "      <th>0</th>\n",
       "      <td>deeds</td>\n",
       "      <td>reason</td>\n",
       "      <td>earthquake</td>\n",
       "      <td>may</td>\n",
       "      <td>allah</td>\n",
       "      <td>forgive</td>\n",
       "      <td>us</td>\n",
       "      <td>None</td>\n",
       "      <td>None</td>\n",
       "      <td>None</td>\n",
       "      <td>None</td>\n",
       "    </tr>\n",
       "    <tr>\n",
       "      <th>1</th>\n",
       "      <td>forest</td>\n",
       "      <td>fire</td>\n",
       "      <td>near</td>\n",
       "      <td>la</td>\n",
       "      <td>ronge</td>\n",
       "      <td>sask</td>\n",
       "      <td>canada</td>\n",
       "      <td>None</td>\n",
       "      <td>None</td>\n",
       "      <td>None</td>\n",
       "      <td>None</td>\n",
       "    </tr>\n",
       "    <tr>\n",
       "      <th>2</th>\n",
       "      <td>residents</td>\n",
       "      <td>asked</td>\n",
       "      <td>shelter</td>\n",
       "      <td>place</td>\n",
       "      <td>notified</td>\n",
       "      <td>officers</td>\n",
       "      <td>evacuation</td>\n",
       "      <td>shelter</td>\n",
       "      <td>place</td>\n",
       "      <td>orders</td>\n",
       "      <td>expected</td>\n",
       "    </tr>\n",
       "    <tr>\n",
       "      <th>3</th>\n",
       "      <td>people</td>\n",
       "      <td>receive</td>\n",
       "      <td>wildfires</td>\n",
       "      <td>evacuation</td>\n",
       "      <td>orders</td>\n",
       "      <td>california</td>\n",
       "      <td>None</td>\n",
       "      <td>None</td>\n",
       "      <td>None</td>\n",
       "      <td>None</td>\n",
       "      <td>None</td>\n",
       "    </tr>\n",
       "    <tr>\n",
       "      <th>4</th>\n",
       "      <td>got</td>\n",
       "      <td>sent</td>\n",
       "      <td>photo</td>\n",
       "      <td>ruby</td>\n",
       "      <td>alaska</td>\n",
       "      <td>smoke</td>\n",
       "      <td>wildfires</td>\n",
       "      <td>pours</td>\n",
       "      <td>school</td>\n",
       "      <td>None</td>\n",
       "      <td>None</td>\n",
       "    </tr>\n",
       "  </tbody>\n",
       "</table>\n",
       "</div>"
      ],
      "text/plain": [
       "          0        1           2           3         4           5   \\\n",
       "0      deeds   reason  earthquake         may     allah     forgive   \n",
       "1     forest     fire        near          la     ronge        sask   \n",
       "2  residents    asked     shelter       place  notified    officers   \n",
       "3     people  receive   wildfires  evacuation    orders  california   \n",
       "4        got     sent       photo        ruby    alaska       smoke   \n",
       "\n",
       "           6        7       8       9         10  \n",
       "0          us     None    None    None      None  \n",
       "1      canada     None    None    None      None  \n",
       "2  evacuation  shelter   place  orders  expected  \n",
       "3        None     None    None    None      None  \n",
       "4   wildfires    pours  school    None      None  "
      ]
     },
     "execution_count": 28,
     "metadata": {},
     "output_type": "execute_result"
    }
   ],
   "source": [
    "pd.DataFrame(X[:5])"
   ]
  },
  {
   "cell_type": "code",
   "execution_count": 29,
   "id": "add175cc",
   "metadata": {
    "ExecuteTime": {
     "end_time": "2022-06-06T05:41:52.781627Z",
     "start_time": "2022-06-06T05:41:52.681502Z"
    }
   },
   "outputs": [],
   "source": [
    "tokenizer = keras.preprocessing.text.Tokenizer()\n",
    "tokenizer.fit_on_texts(X)\n",
    "X = tokenizer.texts_to_sequences(X)"
   ]
  },
  {
   "cell_type": "code",
   "execution_count": 30,
   "id": "fbfbc1fe",
   "metadata": {
    "ExecuteTime": {
     "end_time": "2022-06-06T05:41:53.698294Z",
     "start_time": "2022-06-06T05:41:53.681821Z"
    }
   },
   "outputs": [
    {
     "data": {
      "text/html": [
       "<div>\n",
       "<style scoped>\n",
       "    .dataframe tbody tr th:only-of-type {\n",
       "        vertical-align: middle;\n",
       "    }\n",
       "\n",
       "    .dataframe tbody tr th {\n",
       "        vertical-align: top;\n",
       "    }\n",
       "\n",
       "    .dataframe thead th {\n",
       "        text-align: right;\n",
       "    }\n",
       "</style>\n",
       "<table border=\"1\" class=\"dataframe\">\n",
       "  <thead>\n",
       "    <tr style=\"text-align: right;\">\n",
       "      <th></th>\n",
       "      <th>0</th>\n",
       "      <th>1</th>\n",
       "      <th>2</th>\n",
       "      <th>3</th>\n",
       "      <th>4</th>\n",
       "      <th>5</th>\n",
       "      <th>6</th>\n",
       "      <th>7</th>\n",
       "      <th>8</th>\n",
       "      <th>9</th>\n",
       "      <th>10</th>\n",
       "    </tr>\n",
       "  </thead>\n",
       "  <tbody>\n",
       "    <tr>\n",
       "      <th>0</th>\n",
       "      <td>4164</td>\n",
       "      <td>724</td>\n",
       "      <td>143</td>\n",
       "      <td>53</td>\n",
       "      <td>1512</td>\n",
       "      <td>4165</td>\n",
       "      <td>12.0</td>\n",
       "      <td>NaN</td>\n",
       "      <td>NaN</td>\n",
       "      <td>NaN</td>\n",
       "      <td>NaN</td>\n",
       "    </tr>\n",
       "    <tr>\n",
       "      <th>1</th>\n",
       "      <td>95</td>\n",
       "      <td>4</td>\n",
       "      <td>125</td>\n",
       "      <td>579</td>\n",
       "      <td>6288</td>\n",
       "      <td>6289</td>\n",
       "      <td>1188.0</td>\n",
       "      <td>NaN</td>\n",
       "      <td>NaN</td>\n",
       "      <td>NaN</td>\n",
       "      <td>NaN</td>\n",
       "    </tr>\n",
       "    <tr>\n",
       "      <th>2</th>\n",
       "      <td>1513</td>\n",
       "      <td>1391</td>\n",
       "      <td>1881</td>\n",
       "      <td>530</td>\n",
       "      <td>6290</td>\n",
       "      <td>1514</td>\n",
       "      <td>149.0</td>\n",
       "      <td>1881.0</td>\n",
       "      <td>530.0</td>\n",
       "      <td>1189.0</td>\n",
       "      <td>911.0</td>\n",
       "    </tr>\n",
       "    <tr>\n",
       "      <th>3</th>\n",
       "      <td>8</td>\n",
       "      <td>4166</td>\n",
       "      <td>1190</td>\n",
       "      <td>149</td>\n",
       "      <td>1189</td>\n",
       "      <td>23</td>\n",
       "      <td>NaN</td>\n",
       "      <td>NaN</td>\n",
       "      <td>NaN</td>\n",
       "      <td>NaN</td>\n",
       "      <td>NaN</td>\n",
       "    </tr>\n",
       "    <tr>\n",
       "      <th>4</th>\n",
       "      <td>20</td>\n",
       "      <td>1021</td>\n",
       "      <td>228</td>\n",
       "      <td>6291</td>\n",
       "      <td>1882</td>\n",
       "      <td>156</td>\n",
       "      <td>1190.0</td>\n",
       "      <td>6292.0</td>\n",
       "      <td>96.0</td>\n",
       "      <td>NaN</td>\n",
       "      <td>NaN</td>\n",
       "    </tr>\n",
       "  </tbody>\n",
       "</table>\n",
       "</div>"
      ],
      "text/plain": [
       "     0     1     2     3     4     5       6       7      8       9      10\n",
       "0  4164   724   143    53  1512  4165    12.0     NaN    NaN     NaN    NaN\n",
       "1    95     4   125   579  6288  6289  1188.0     NaN    NaN     NaN    NaN\n",
       "2  1513  1391  1881   530  6290  1514   149.0  1881.0  530.0  1189.0  911.0\n",
       "3     8  4166  1190   149  1189    23     NaN     NaN    NaN     NaN    NaN\n",
       "4    20  1021   228  6291  1882   156  1190.0  6292.0   96.0     NaN    NaN"
      ]
     },
     "execution_count": 30,
     "metadata": {},
     "output_type": "execute_result"
    }
   ],
   "source": [
    "pd.DataFrame(X[:5])"
   ]
  },
  {
   "cell_type": "markdown",
   "id": "ba10201b",
   "metadata": {},
   "source": [
    "# Padding\n",
    "We use LSTM model for text data.  \n",
    "RNN model can't train well for long sequence but at now all data's length has longest length of data.  \n",
    "We need to pad data for RNN model can trained well."
   ]
  },
  {
   "cell_type": "code",
   "execution_count": 32,
   "id": "ee54557e",
   "metadata": {
    "ExecuteTime": {
     "end_time": "2022-06-06T05:47:00.775755Z",
     "start_time": "2022-06-06T05:47:00.580625Z"
    }
   },
   "outputs": [
    {
     "name": "stdout",
     "output_type": "stream",
     "text": [
      "Average langth of tweet: 8.932221200577958\n"
     ]
    },
    {
     "data": {
      "text/plain": [
       "(array([2.160e+02, 6.370e+02, 1.172e+03, 2.213e+03, 1.472e+03, 1.160e+03,\n",
       "        6.730e+02, 6.200e+01, 6.000e+00, 2.000e+00]),\n",
       " array([ 0. ,  2.3,  4.6,  6.9,  9.2, 11.5, 13.8, 16.1, 18.4, 20.7, 23. ]),\n",
       " <BarContainer object of 10 artists>)"
      ]
     },
     "execution_count": 32,
     "metadata": {},
     "output_type": "execute_result"
    },
    {
     "data": {
      "image/png": "[encoded data removed]",
      "text/plain": [
       "<Figure size 432x288 with 1 Axes>"
      ]
     },
     "metadata": {
      "needs_background": "light"
     },
     "output_type": "display_data"
    }
   ],
   "source": [
    "print(\"Average langth of tweet:\", sum(map(len, X))/len(X))\n",
    "plt.hist([len(tweet) for tweet in X])"
   ]
  },
  {
   "cell_type": "code",
   "execution_count": 33,
   "id": "59a817d3",
   "metadata": {
    "ExecuteTime": {
     "end_time": "2022-06-06T05:47:01.870586Z",
     "start_time": "2022-06-06T05:47:01.605774Z"
    }
   },
   "outputs": [
    {
     "data": {
      "text/plain": [
       "Text(0.5, 1.0, 'Fake')"
      ]
     },
     "execution_count": 33,
     "metadata": {},
     "output_type": "execute_result"
    },
    {
     "data": {
      "image/png": "[encoded data removed]",
      "text/plain": [
       "<Figure size 720x360 with 2 Axes>"
      ]
     },
     "metadata": {
      "needs_background": "light"
     },
     "output_type": "display_data"
    }
   ],
   "source": [
    "fig,(ax1,ax2) = plt.subplots(1,2,figsize=(10,5))\n",
    "ax1.hist([len(X[i]) for i in range(len(X)) if y[i]==1])\n",
    "ax1.set_title(\"Real\")\n",
    "ax2.hist([len(X[i]) for i in range(len(X)) if y[i]==0], color=\"orange\")\n",
    "ax2.set_title(\"Fake\")"
   ]
  },
  {
   "cell_type": "code",
   "execution_count": 177,
   "id": "25040265",
   "metadata": {
    "ExecuteTime": {
     "end_time": "2022-06-03T06:23:00.019219Z",
     "start_time": "2022-06-03T06:23:00.005846Z"
    }
   },
   "outputs": [
    {
     "name": "stdout",
     "output_type": "stream",
     "text": [
      "0.9997372914751084\n"
     ]
    }
   ],
   "source": [
    "count=0\n",
    "for tweet in X:\n",
    "    if len(tweet) > 20:\n",
    "        count+=1\n",
    "print((len(X)-count) / len(X))"
   ]
  },
  {
   "cell_type": "markdown",
   "id": "fd2dd34f",
   "metadata": {},
   "source": [
    "Looks like we can pad data by length 20. \n",
    "We will not lose too much information by this process."
   ]
  },
  {
   "cell_type": "code",
   "execution_count": 34,
   "id": "4ea2c106",
   "metadata": {
    "ExecuteTime": {
     "end_time": "2022-06-06T05:48:05.127166Z",
     "start_time": "2022-06-06T05:48:05.100514Z"
    }
   },
   "outputs": [],
   "source": [
    "X = keras.preprocessing.sequence.pad_sequences(X, maxlen=20, padding=\"post\")"
   ]
  },
  {
   "cell_type": "markdown",
   "id": "4fd7d290",
   "metadata": {},
   "source": [
    "Below is set of preprocess for test data"
   ]
  },
  {
   "cell_type": "code",
   "execution_count": 35,
   "id": "ca927481",
   "metadata": {
    "ExecuteTime": {
     "end_time": "2022-06-06T05:48:40.549914Z",
     "start_time": "2022-06-06T05:48:40.544958Z"
    }
   },
   "outputs": [],
   "source": [
    "def preprocess(text_sequence):\n",
    "    text_sequence = pd.Series(map(clean_text, text_sequence))    \n",
    "    text_sequence = [nltk.word_tokenize(sentence) for sentence in text_sequence]\n",
    "    text_sequence = list(map(remove_stopwords, text_sequence))    \n",
    "    text_sequence =  tokenizer.texts_to_sequences(text_sequence)\n",
    "    text_sequence = keras.preprocessing.sequence.pad_sequences(text_sequence, maxlen=20, padding=\"post\") \n",
    "    return text_sequence"
   ]
  },
  {
   "cell_type": "markdown",
   "id": "a3a5445f",
   "metadata": {},
   "source": [
    "# Split data and preprocess tabular column  \n",
    "We need to make __keyword, location__ column make integer too.  \n",
    "Label encoder can't preprocess unseen data so I make all unsenn data to nan."
   ]
  },
  {
   "cell_type": "code",
   "execution_count": 36,
   "id": "255391d7",
   "metadata": {
    "ExecuteTime": {
     "end_time": "2022-06-06T05:49:12.389769Z",
     "start_time": "2022-06-06T05:49:12.372814Z"
    }
   },
   "outputs": [],
   "source": [
    "X_train, X_valid, y_train, y_valid = train_test_split(X, y, stratify=y, random_state=42)\n",
    "X_train_tree, X_valid_tree, y_train, y_valid = train_test_split(X_for_tree, y, stratify=y, random_state=42)"
   ]
  },
  {
   "cell_type": "code",
   "execution_count": 37,
   "id": "11b79bf7",
   "metadata": {
    "ExecuteTime": {
     "end_time": "2022-06-06T05:49:44.004842Z",
     "start_time": "2022-06-06T05:49:43.984461Z"
    }
   },
   "outputs": [],
   "source": [
    "k_encoder = LabelEncoder()\n",
    "X_train_tree[\"keyword\"] = k_encoder.fit_transform(X_train_tree[\"keyword\"])\n",
    "X_valid_tree[\"keyword\"] = k_encoder.transform(X_valid_tree[\"keyword\"])\n",
    "\n",
    "l_encoder = LabelEncoder()\n",
    "X_train_tree[\"location\"] = l_encoder.fit_transform(X_train_tree[\"location\"])"
   ]
  },
  {
   "cell_type": "code",
   "execution_count": 53,
   "id": "28c306c0",
   "metadata": {
    "ExecuteTime": {
     "end_time": "2022-06-06T05:57:53.653331Z",
     "start_time": "2022-06-06T05:57:53.553285Z"
    }
   },
   "outputs": [],
   "source": [
    "temp = np.array(X_valid_tree[\"location\"])\n",
    "\n",
    "for index in range(len(temp)):\n",
    "    if temp[index] not in l_encoder.classes_:\n",
    "        temp[index] = np.nan\n",
    "        \n",
    "X_valid_tree[\"location\"] = temp\n",
    "X_valid_tree[\"location\"] = l_encoder.transform(X_valid_tree[\"location\"])"
   ]
  },
  {
   "cell_type": "markdown",
   "id": "5405cb7e",
   "metadata": {},
   "source": [
    "# Train model"
   ]
  },
  {
   "cell_type": "code",
   "execution_count": 39,
   "id": "4a37489e",
   "metadata": {
    "ExecuteTime": {
     "end_time": "2022-06-06T05:53:50.085255Z",
     "start_time": "2022-06-06T05:53:50.077251Z"
    }
   },
   "outputs": [],
   "source": [
    "def make_model(iter = 1, hidden=100):\n",
    "    Input = keras.Input(shape=[20])\n",
    "\n",
    "    x = keras.layers.Reshape((20, 1))(Input)\n",
    "    \n",
    "    for _ in range(iter):\n",
    "        x = keras.layers.Bidirectional(keras.layers.LSTM(hidden, return_sequences=True))(x)\n",
    "        \n",
    "    x = keras.layers.Bidirectional(keras.layers.LSTM(hidden))(x)\n",
    "    x = keras.layers.Dense((hidden+40)/2, activation=\"relu\")(x)\n",
    "    output = keras.layers.Dense(1, activation=\"sigmoid\")(x)\n",
    "\n",
    "    model = keras.Model(inputs=Input, outputs=output)\n",
    "    model.compile(loss=\"binary_crossentropy\", metrics=\"accuracy\", optimizer=\"adam\")\n",
    "    return model"
   ]
  },
  {
   "cell_type": "code",
   "execution_count": 40,
   "id": "f38ad4e9",
   "metadata": {
    "ExecuteTime": {
     "end_time": "2022-06-06T05:55:20.234443Z",
     "start_time": "2022-06-06T05:53:51.397121Z"
    }
   },
   "outputs": [
    {
     "name": "stdout",
     "output_type": "stream",
     "text": [
      "Epoch 1/30\n",
      "179/179 [==============================] - 13s 22ms/step - loss: 0.6727 - accuracy: 0.5787 - val_loss: 0.6894 - val_accuracy: 0.5867\n",
      "Epoch 2/30\n",
      "179/179 [==============================] - 2s 14ms/step - loss: 0.6656 - accuracy: 0.5952 - val_loss: 0.6598 - val_accuracy: 0.6008\n",
      "Epoch 3/30\n",
      "179/179 [==============================] - 2s 14ms/step - loss: 0.6637 - accuracy: 0.6012 - val_loss: 0.6582 - val_accuracy: 0.6071\n",
      "Epoch 4/30\n",
      "179/179 [==============================] - 2s 14ms/step - loss: 0.6640 - accuracy: 0.5915 - val_loss: 0.6572 - val_accuracy: 0.6035\n",
      "Epoch 5/30\n",
      "179/179 [==============================] - 2s 14ms/step - loss: 0.6616 - accuracy: 0.5978 - val_loss: 0.6717 - val_accuracy: 0.5830\n",
      "Epoch 6/30\n",
      "179/179 [==============================] - 2s 14ms/step - loss: 0.6594 - accuracy: 0.6029 - val_loss: 0.6512 - val_accuracy: 0.6155\n",
      "Epoch 7/30\n",
      "179/179 [==============================] - 2s 14ms/step - loss: 0.6611 - accuracy: 0.6001 - val_loss: 0.6536 - val_accuracy: 0.6056\n",
      "Epoch 8/30\n",
      "179/179 [==============================] - 2s 14ms/step - loss: 0.6598 - accuracy: 0.5998 - val_loss: 0.6543 - val_accuracy: 0.6014\n",
      "Epoch 9/30\n",
      "179/179 [==============================] - 2s 14ms/step - loss: 0.6596 - accuracy: 0.6043 - val_loss: 0.6679 - val_accuracy: 0.5809\n",
      "Epoch 10/30\n",
      "179/179 [==============================] - 3s 14ms/step - loss: 0.6606 - accuracy: 0.5926 - val_loss: 0.6527 - val_accuracy: 0.6077\n",
      "Epoch 11/30\n",
      "179/179 [==============================] - 2s 14ms/step - loss: 0.6585 - accuracy: 0.5977 - val_loss: 0.6506 - val_accuracy: 0.6155\n",
      "Epoch 12/30\n",
      "179/179 [==============================] - 2s 14ms/step - loss: 0.6595 - accuracy: 0.6075 - val_loss: 0.6544 - val_accuracy: 0.6113\n",
      "Epoch 13/30\n",
      "179/179 [==============================] - 2s 14ms/step - loss: 0.6560 - accuracy: 0.6064 - val_loss: 0.6502 - val_accuracy: 0.6134\n",
      "Epoch 14/30\n",
      "179/179 [==============================] - 2s 14ms/step - loss: 0.6553 - accuracy: 0.6045 - val_loss: 0.6473 - val_accuracy: 0.6192\n",
      "Epoch 15/30\n",
      "179/179 [==============================] - 2s 14ms/step - loss: 0.6543 - accuracy: 0.6075 - val_loss: 0.6444 - val_accuracy: 0.6192\n",
      "Epoch 16/30\n",
      "179/179 [==============================] - 3s 14ms/step - loss: 0.6495 - accuracy: 0.6159 - val_loss: 0.6414 - val_accuracy: 0.6229\n",
      "Epoch 17/30\n",
      "179/179 [==============================] - 2s 14ms/step - loss: 0.6530 - accuracy: 0.6129 - val_loss: 0.6476 - val_accuracy: 0.6145\n",
      "Epoch 18/30\n",
      "179/179 [==============================] - 2s 14ms/step - loss: 0.6493 - accuracy: 0.6124 - val_loss: 0.6452 - val_accuracy: 0.6203\n",
      "Epoch 19/30\n",
      "179/179 [==============================] - 2s 14ms/step - loss: 0.6455 - accuracy: 0.6174 - val_loss: 0.6449 - val_accuracy: 0.6119\n",
      "Epoch 20/30\n",
      "179/179 [==============================] - 3s 14ms/step - loss: 0.6471 - accuracy: 0.6146 - val_loss: 0.6465 - val_accuracy: 0.6224\n",
      "Epoch 21/30\n",
      "179/179 [==============================] - 2s 14ms/step - loss: 0.6453 - accuracy: 0.6167 - val_loss: 0.6439 - val_accuracy: 0.6261\n",
      "Epoch 22/30\n",
      "179/179 [==============================] - 2s 14ms/step - loss: 0.6410 - accuracy: 0.6234 - val_loss: 0.6445 - val_accuracy: 0.6245\n",
      "Epoch 23/30\n",
      "179/179 [==============================] - 2s 14ms/step - loss: 0.6393 - accuracy: 0.6260 - val_loss: 0.6417 - val_accuracy: 0.6224\n",
      "Epoch 24/30\n",
      "179/179 [==============================] - 2s 14ms/step - loss: 0.6359 - accuracy: 0.6290 - val_loss: 0.6386 - val_accuracy: 0.6245\n",
      "Epoch 25/30\n",
      "179/179 [==============================] - 2s 14ms/step - loss: 0.6338 - accuracy: 0.6252 - val_loss: 0.6381 - val_accuracy: 0.6345\n",
      "Epoch 26/30\n",
      "179/179 [==============================] - 3s 15ms/step - loss: 0.6307 - accuracy: 0.6264 - val_loss: 0.6438 - val_accuracy: 0.6313\n",
      "Epoch 27/30\n",
      "179/179 [==============================] - 2s 14ms/step - loss: 0.6289 - accuracy: 0.6301 - val_loss: 0.6379 - val_accuracy: 0.6350\n",
      "Epoch 28/30\n",
      "179/179 [==============================] - 3s 14ms/step - loss: 0.6276 - accuracy: 0.6355 - val_loss: 0.6411 - val_accuracy: 0.6308\n",
      "Epoch 29/30\n",
      "179/179 [==============================] - 3s 14ms/step - loss: 0.6203 - accuracy: 0.6453 - val_loss: 0.6402 - val_accuracy: 0.6381\n",
      "Epoch 30/30\n",
      "179/179 [==============================] - 2s 14ms/step - loss: 0.6198 - accuracy: 0.6367 - val_loss: 0.6492 - val_accuracy: 0.6387\n"
     ]
    }
   ],
   "source": [
    "model = make_model(1, 100)\n",
    "history = model.fit(X_train, y_train, validation_data=(X_valid, y_valid), epochs=30)"
   ]
  },
  {
   "cell_type": "markdown",
   "id": "2fe04e73",
   "metadata": {},
   "source": [
    "I grid search model shape by iter and hidden and I use parameteres above to train text data."
   ]
  },
  {
   "cell_type": "code",
   "execution_count": 42,
   "id": "6dbe0434",
   "metadata": {
    "ExecuteTime": {
     "end_time": "2022-06-06T05:56:17.923164Z",
     "start_time": "2022-06-06T05:56:17.788361Z"
    }
   },
   "outputs": [
    {
     "data": {
      "text/plain": [
       "<matplotlib.legend.Legend at 0x24d4b13ab20>"
      ]
     },
     "execution_count": 42,
     "metadata": {},
     "output_type": "execute_result"
    },
    {
     "data": {
      "image/png": "[encoded data removed]",
      "text/plain": [
       "<Figure size 1008x720 with 1 Axes>"
      ]
     },
     "metadata": {
      "needs_background": "light"
     },
     "output_type": "display_data"
    }
   ],
   "source": [
    "plt.figure(figsize=(14, 10))\n",
    "plt.plot(history.history[\"accuracy\"], label=\"Train\")\n",
    "plt.plot(history.history[\"val_accuracy\"], label=\"Valid\")\n",
    "plt.legend()"
   ]
  },
  {
   "cell_type": "code",
   "execution_count": 43,
   "id": "d128fec2",
   "metadata": {
    "ExecuteTime": {
     "end_time": "2022-06-06T05:56:23.448481Z",
     "start_time": "2022-06-06T05:56:22.896244Z"
    }
   },
   "outputs": [
    {
     "name": "stdout",
     "output_type": "stream",
     "text": [
      "60/60 [==============================] - 1s 8ms/step - loss: 0.6492 - accuracy: 0.6387\n"
     ]
    },
    {
     "data": {
      "text/plain": [
       "[0.6491609811782837, 0.6386554837226868]"
      ]
     },
     "execution_count": 43,
     "metadata": {},
     "output_type": "execute_result"
    }
   ],
   "source": [
    "model.evaluate(X_valid, y_valid)"
   ]
  },
  {
   "cell_type": "code",
   "execution_count": 44,
   "id": "33cd0f14",
   "metadata": {
    "ExecuteTime": {
     "end_time": "2022-06-06T05:56:31.945528Z",
     "start_time": "2022-06-06T05:56:31.392747Z"
    }
   },
   "outputs": [
    {
     "data": {
      "text/plain": [
       "RandomForestClassifier()"
      ]
     },
     "execution_count": 44,
     "metadata": {},
     "output_type": "execute_result"
    }
   ],
   "source": [
    "tree_model = RandomForestClassifier()\n",
    "tree_model.fit(X_train_tree, y_train)"
   ]
  },
  {
   "cell_type": "code",
   "execution_count": 51,
   "id": "01648e85",
   "metadata": {
    "ExecuteTime": {
     "end_time": "2022-06-06T05:57:16.914631Z",
     "start_time": "2022-06-06T05:57:16.896802Z"
    }
   },
   "outputs": [
    {
     "data": {
      "text/html": [
       "<div>\n",
       "<style scoped>\n",
       "    .dataframe tbody tr th:only-of-type {\n",
       "        vertical-align: middle;\n",
       "    }\n",
       "\n",
       "    .dataframe tbody tr th {\n",
       "        vertical-align: top;\n",
       "    }\n",
       "\n",
       "    .dataframe thead th {\n",
       "        text-align: right;\n",
       "    }\n",
       "</style>\n",
       "<table border=\"1\" class=\"dataframe\">\n",
       "  <thead>\n",
       "    <tr style=\"text-align: right;\">\n",
       "      <th></th>\n",
       "      <th>keyword</th>\n",
       "      <th>location</th>\n",
       "    </tr>\n",
       "  </thead>\n",
       "  <tbody>\n",
       "    <tr>\n",
       "      <th>6509</th>\n",
       "      <td>189</td>\n",
       "      <td>NaN</td>\n",
       "    </tr>\n",
       "    <tr>\n",
       "      <th>3768</th>\n",
       "      <td>107</td>\n",
       "      <td>NaN</td>\n",
       "    </tr>\n",
       "    <tr>\n",
       "      <th>5507</th>\n",
       "      <td>159</td>\n",
       "      <td>NaN</td>\n",
       "    </tr>\n",
       "    <tr>\n",
       "      <th>5116</th>\n",
       "      <td>148</td>\n",
       "      <td>NaN</td>\n",
       "    </tr>\n",
       "    <tr>\n",
       "      <th>18</th>\n",
       "      <td>221</td>\n",
       "      <td>NaN</td>\n",
       "    </tr>\n",
       "    <tr>\n",
       "      <th>...</th>\n",
       "      <td>...</td>\n",
       "      <td>...</td>\n",
       "    </tr>\n",
       "    <tr>\n",
       "      <th>1280</th>\n",
       "      <td>36</td>\n",
       "      <td>NaN</td>\n",
       "    </tr>\n",
       "    <tr>\n",
       "      <th>7206</th>\n",
       "      <td>210</td>\n",
       "      <td>NaN</td>\n",
       "    </tr>\n",
       "    <tr>\n",
       "      <th>12</th>\n",
       "      <td>221</td>\n",
       "      <td>NaN</td>\n",
       "    </tr>\n",
       "    <tr>\n",
       "      <th>4078</th>\n",
       "      <td>117</td>\n",
       "      <td>United States</td>\n",
       "    </tr>\n",
       "    <tr>\n",
       "      <th>1654</th>\n",
       "      <td>47</td>\n",
       "      <td>NaN</td>\n",
       "    </tr>\n",
       "  </tbody>\n",
       "</table>\n",
       "<p>1904 rows × 2 columns</p>\n",
       "</div>"
      ],
      "text/plain": [
       "      keyword       location\n",
       "6509      189            NaN\n",
       "3768      107            NaN\n",
       "5507      159            NaN\n",
       "5116      148            NaN\n",
       "18        221            NaN\n",
       "...       ...            ...\n",
       "1280       36            NaN\n",
       "7206      210            NaN\n",
       "12        221            NaN\n",
       "4078      117  United States\n",
       "1654       47            NaN\n",
       "\n",
       "[1904 rows x 2 columns]"
      ]
     },
     "execution_count": 51,
     "metadata": {},
     "output_type": "execute_result"
    }
   ],
   "source": [
    "X_valid_tree"
   ]
  },
  {
   "cell_type": "code",
   "execution_count": 54,
   "id": "7ee7e4e1",
   "metadata": {
    "ExecuteTime": {
     "end_time": "2022-06-06T05:57:56.057641Z",
     "start_time": "2022-06-06T05:57:55.997976Z"
    }
   },
   "outputs": [
    {
     "data": {
      "text/plain": [
       "0.717436974789916"
      ]
     },
     "execution_count": 54,
     "metadata": {},
     "output_type": "execute_result"
    }
   ],
   "source": [
    "tree_model.score(X_valid_tree, y_valid)"
   ]
  },
  {
   "cell_type": "markdown",
   "id": "6d1017a6",
   "metadata": {},
   "source": [
    "Looks like tree model is better than LSTM model.  \n",
    "Because I don't preprocess data fine and don't make complex RNNmodel for train text.  "
   ]
  },
  {
   "cell_type": "code",
   "execution_count": 55,
   "id": "169df2f2",
   "metadata": {
    "ExecuteTime": {
     "end_time": "2022-06-06T06:00:28.617962Z",
     "start_time": "2022-06-06T06:00:28.557138Z"
    }
   },
   "outputs": [],
   "source": [
    "tree_score = tree_model.predict_proba(X_valid_tree)"
   ]
  },
  {
   "cell_type": "code",
   "execution_count": 56,
   "id": "7a2838c3",
   "metadata": {
    "ExecuteTime": {
     "end_time": "2022-06-06T06:00:33.836760Z",
     "start_time": "2022-06-06T06:00:31.556670Z"
    }
   },
   "outputs": [],
   "source": [
    "ann_score = np.concatenate((1-model.predict(X_valid), model.predict(X_valid)), axis=1)"
   ]
  },
  {
   "cell_type": "code",
   "execution_count": 57,
   "id": "a47e9771",
   "metadata": {
    "ExecuteTime": {
     "end_time": "2022-06-06T06:00:38.365414Z",
     "start_time": "2022-06-06T06:00:38.356409Z"
    }
   },
   "outputs": [
    {
     "data": {
      "text/plain": [
       "array([[0.65883849, 0.34116151],\n",
       "       [0.69167114, 0.30832886],\n",
       "       [0.5269497 , 0.4730503 ],\n",
       "       ...,\n",
       "       [0.31059442, 0.68940558],\n",
       "       [0.        , 1.        ],\n",
       "       [0.49417857, 0.50582143]])"
      ]
     },
     "execution_count": 57,
     "metadata": {},
     "output_type": "execute_result"
    }
   ],
   "source": [
    "tree_score"
   ]
  },
  {
   "cell_type": "code",
   "execution_count": 58,
   "id": "cd2ca7cb",
   "metadata": {
    "ExecuteTime": {
     "end_time": "2022-06-06T06:00:41.333658Z",
     "start_time": "2022-06-06T06:00:41.328671Z"
    }
   },
   "outputs": [
    {
     "data": {
      "text/plain": [
       "array([[0.57062364, 0.4293764 ],\n",
       "       [0.38166547, 0.61833453],\n",
       "       [0.7892802 , 0.21071981],\n",
       "       ...,\n",
       "       [0.49951833, 0.50048167],\n",
       "       [0.5015851 , 0.4984149 ],\n",
       "       [0.35483283, 0.6451672 ]], dtype=float32)"
      ]
     },
     "execution_count": 58,
     "metadata": {},
     "output_type": "execute_result"
    }
   ],
   "source": [
    "ann_score"
   ]
  },
  {
   "cell_type": "code",
   "execution_count": 64,
   "id": "a8310434",
   "metadata": {
    "ExecuteTime": {
     "end_time": "2022-06-06T06:01:42.588566Z",
     "start_time": "2022-06-06T06:01:42.577010Z"
    }
   },
   "outputs": [
    {
     "data": {
      "text/plain": [
       "0.7363445378151261"
      ]
     },
     "execution_count": 64,
     "metadata": {},
     "output_type": "execute_result"
    }
   ],
   "source": [
    "sklearn.metrics.accuracy_score(np.argmax(tree_score + ann_score, axis=1), y_valid)"
   ]
  },
  {
   "cell_type": "markdown",
   "id": "6218e82b",
   "metadata": {},
   "source": [
    "I use soft voting method for ensemble two model, and ensemble model's result is better than others."
   ]
  },
  {
   "cell_type": "markdown",
   "id": "3755eb2e",
   "metadata": {},
   "source": [
    "# Submission \n",
    "For submission it is good to train model again using all data."
   ]
  },
  {
   "cell_type": "code",
   "execution_count": 65,
   "id": "f9a8930a",
   "metadata": {
    "ExecuteTime": {
     "end_time": "2022-06-06T06:04:44.394070Z",
     "start_time": "2022-06-06T06:03:08.948228Z"
    }
   },
   "outputs": [
    {
     "name": "stdout",
     "output_type": "stream",
     "text": [
      "Epoch 1/30\n",
      "238/238 [==============================] - 9s 13ms/step - loss: 0.6678 - accuracy: 0.5851\n",
      "Epoch 2/30\n",
      "238/238 [==============================] - 3s 12ms/step - loss: 0.6617 - accuracy: 0.5983\n",
      "Epoch 3/30\n",
      "238/238 [==============================] - 3s 13ms/step - loss: 0.6610 - accuracy: 0.6011\n",
      "Epoch 4/30\n",
      "238/238 [==============================] - 3s 13ms/step - loss: 0.6606 - accuracy: 0.5998\n",
      "Epoch 5/30\n",
      "238/238 [==============================] - 3s 13ms/step - loss: 0.6589 - accuracy: 0.5996\n",
      "Epoch 6/30\n",
      "238/238 [==============================] - 3s 12ms/step - loss: 0.6579 - accuracy: 0.6019\n",
      "Epoch 7/30\n",
      "238/238 [==============================] - 3s 12ms/step - loss: 0.6554 - accuracy: 0.6069\n",
      "Epoch 8/30\n",
      "238/238 [==============================] - 3s 12ms/step - loss: 0.6556 - accuracy: 0.6057\n",
      "Epoch 9/30\n",
      "238/238 [==============================] - 3s 13ms/step - loss: 0.6508 - accuracy: 0.6154\n",
      "Epoch 10/30\n",
      "238/238 [==============================] - 3s 13ms/step - loss: 0.6505 - accuracy: 0.6153\n",
      "Epoch 11/30\n",
      "238/238 [==============================] - 3s 12ms/step - loss: 0.6480 - accuracy: 0.6168\n",
      "Epoch 12/30\n",
      "238/238 [==============================] - 3s 12ms/step - loss: 0.6492 - accuracy: 0.6180\n",
      "Epoch 13/30\n",
      "238/238 [==============================] - 3s 12ms/step - loss: 0.6448 - accuracy: 0.6162\n",
      "Epoch 14/30\n",
      "238/238 [==============================] - 3s 12ms/step - loss: 0.6459 - accuracy: 0.6220\n",
      "Epoch 15/30\n",
      "238/238 [==============================] - 3s 12ms/step - loss: 0.6439 - accuracy: 0.6203\n",
      "Epoch 16/30\n",
      "238/238 [==============================] - 3s 12ms/step - loss: 0.6392 - accuracy: 0.6285\n",
      "Epoch 17/30\n",
      "238/238 [==============================] - 3s 12ms/step - loss: 0.6387 - accuracy: 0.6300\n",
      "Epoch 18/30\n",
      "238/238 [==============================] - 3s 12ms/step - loss: 0.6349 - accuracy: 0.6312\n",
      "Epoch 19/30\n",
      "238/238 [==============================] - 3s 12ms/step - loss: 0.6317 - accuracy: 0.6322\n",
      "Epoch 20/30\n",
      "238/238 [==============================] - 3s 12ms/step - loss: 0.6301 - accuracy: 0.6365\n",
      "Epoch 21/30\n",
      "238/238 [==============================] - 3s 12ms/step - loss: 0.6294 - accuracy: 0.6377\n",
      "Epoch 22/30\n",
      "238/238 [==============================] - 3s 12ms/step - loss: 0.6256 - accuracy: 0.6371\n",
      "Epoch 23/30\n",
      "238/238 [==============================] - 3s 12ms/step - loss: 0.6226 - accuracy: 0.6434\n",
      "Epoch 24/30\n",
      "238/238 [==============================] - 3s 12ms/step - loss: 0.6185 - accuracy: 0.6409\n",
      "Epoch 25/30\n",
      "238/238 [==============================] - 3s 12ms/step - loss: 0.6160 - accuracy: 0.6448\n",
      "Epoch 26/30\n",
      "238/238 [==============================] - 3s 12ms/step - loss: 0.6097 - accuracy: 0.6489\n",
      "Epoch 27/30\n",
      "238/238 [==============================] - 3s 13ms/step - loss: 0.6053 - accuracy: 0.6530\n",
      "Epoch 28/30\n",
      "238/238 [==============================] - 3s 12ms/step - loss: 0.6024 - accuracy: 0.6603\n",
      "Epoch 29/30\n",
      "238/238 [==============================] - 3s 12ms/step - loss: 0.5993 - accuracy: 0.6540\n",
      "Epoch 30/30\n",
      "238/238 [==============================] - 3s 12ms/step - loss: 0.5909 - accuracy: 0.6649\n"
     ]
    },
    {
     "data": {
      "text/plain": [
       "<keras.callbacks.History at 0x24ea6885b50>"
      ]
     },
     "execution_count": 65,
     "metadata": {},
     "output_type": "execute_result"
    }
   ],
   "source": [
    "model = make_model(1, 100)\n",
    "model.fit(X,y, epochs=30)"
   ]
  },
  {
   "cell_type": "code",
   "execution_count": 81,
   "id": "de067682",
   "metadata": {
    "ExecuteTime": {
     "end_time": "2022-06-06T06:11:08.206877Z",
     "start_time": "2022-06-06T06:11:08.172929Z"
    }
   },
   "outputs": [],
   "source": [
    "k_encoder = LabelEncoder()\n",
    "data[\"keyword\"] = k_encoder.fit_transform(data[\"keyword\"])\n",
    "l_encoder = LabelEncoder()\n",
    "data[\"location\"] = l_encoder.fit_transform(data[\"location\"])"
   ]
  },
  {
   "cell_type": "code",
   "execution_count": 84,
   "id": "90dd80c4",
   "metadata": {
    "ExecuteTime": {
     "end_time": "2022-06-06T06:11:26.097451Z",
     "start_time": "2022-06-06T06:11:25.378595Z"
    }
   },
   "outputs": [
    {
     "data": {
      "text/plain": [
       "RandomForestClassifier()"
      ]
     },
     "execution_count": 84,
     "metadata": {},
     "output_type": "execute_result"
    }
   ],
   "source": [
    "tree_model = RandomForestClassifier()\n",
    "tree_model.fit(data[[\"keyword\", \"location\"]], y)"
   ]
  },
  {
   "cell_type": "markdown",
   "id": "ba1956c4",
   "metadata": {},
   "source": [
    "Have to prerpocess X_test data."
   ]
  },
  {
   "cell_type": "code",
   "execution_count": 68,
   "id": "3a355f0b",
   "metadata": {
    "ExecuteTime": {
     "end_time": "2022-06-06T06:07:42.331026Z",
     "start_time": "2022-06-06T06:07:34.288425Z"
    }
   },
   "outputs": [],
   "source": [
    "X_test_text = preprocess(X_test[\"text\"])"
   ]
  },
  {
   "cell_type": "code",
   "execution_count": 69,
   "id": "ba41fbff",
   "metadata": {
    "ExecuteTime": {
     "end_time": "2022-06-06T06:07:42.583466Z",
     "start_time": "2022-06-06T06:07:42.395948Z"
    }
   },
   "outputs": [],
   "source": [
    "temp = np.array(X_test[\"location\"])\n",
    "\n",
    "for index in range(len(temp)):\n",
    "    if temp[index] not in l_encoder.classes_:\n",
    "        temp[index] = np.nan\n",
    "        \n",
    "X_test[\"location\"] = temp"
   ]
  },
  {
   "cell_type": "code",
   "execution_count": 70,
   "id": "e43345e9",
   "metadata": {
    "ExecuteTime": {
     "end_time": "2022-06-06T06:07:42.661593Z",
     "start_time": "2022-06-06T06:07:42.647018Z"
    }
   },
   "outputs": [],
   "source": [
    "X_test[\"keyword\"] = k_encoder.transform(X_test[\"keyword\"])\n",
    "X_test[\"location\"] = l_encoder.transform(X_test[\"location\"])"
   ]
  },
  {
   "cell_type": "code",
   "execution_count": 71,
   "id": "8c3b99d0",
   "metadata": {
    "ExecuteTime": {
     "end_time": "2022-06-06T06:08:21.833930Z",
     "start_time": "2022-06-06T06:08:19.604366Z"
    }
   },
   "outputs": [],
   "source": [
    "ann_score = np.concatenate((1-model.predict(X_test_text), model.predict(X_test_text)), axis=1)"
   ]
  },
  {
   "cell_type": "code",
   "execution_count": 85,
   "id": "94f33051",
   "metadata": {
    "ExecuteTime": {
     "end_time": "2022-06-06T06:11:33.327591Z",
     "start_time": "2022-06-06T06:11:33.260869Z"
    }
   },
   "outputs": [],
   "source": [
    "tree_score = tree_model.predict_proba(X_test[[\"keyword\", \"location\"]])"
   ]
  },
  {
   "cell_type": "code",
   "execution_count": 87,
   "id": "754ae95d",
   "metadata": {
    "ExecuteTime": {
     "end_time": "2022-06-06T06:11:47.075346Z",
     "start_time": "2022-06-06T06:11:47.064346Z"
    }
   },
   "outputs": [],
   "source": [
    "Final_score = np.argmax(tree_score+ann_score, axis=1)"
   ]
  },
  {
   "cell_type": "code",
   "execution_count": 88,
   "id": "d5786271",
   "metadata": {
    "ExecuteTime": {
     "end_time": "2022-06-06T06:11:49.929035Z",
     "start_time": "2022-06-06T06:11:49.917067Z"
    }
   },
   "outputs": [],
   "source": [
    "submission[\"target\"] = Final_score"
   ]
  },
  {
   "cell_type": "code",
   "execution_count": 89,
   "id": "a6451827",
   "metadata": {
    "ExecuteTime": {
     "end_time": "2022-06-06T06:11:52.817272Z",
     "start_time": "2022-06-06T06:11:52.796241Z"
    }
   },
   "outputs": [],
   "source": [
    "submission.to_csv(\"./Ensemble_rnn_tree.csv\", index=None)"
   ]
  }
 ],
 "metadata": {
  "kernelspec": {
   "display_name": "=python3.9.0",
   "language": "python",
   "name": "python3.9.0"
  },
  "language_info": {
   "codemirror_mode": {
    "name": "ipython",
    "version": 3
   },
   "file_extension": ".py",
   "mimetype": "text/x-python",
   "name": "python",
   "nbconvert_exporter": "python",
   "pygments_lexer": "ipython3",
   "version": "3.9.12"
  },
  "toc": {
   "base_numbering": 1,
   "nav_menu": {},
   "number_sections": true,
   "sideBar": true,
   "skip_h1_title": false,
   "title_cell": "Table of Contents",
   "title_sidebar": "Contents",
   "toc_cell": false,
   "toc_position": {
    "height": "calc(100% - 180px)",
    "left": "10px",
    "top": "150px",
    "width": "426.667px"
   },
   "toc_section_display": true,
   "toc_window_display": true
  },
  "varInspector": {
   "cols": {
    "lenName": 16,
    "lenType": 16,
    "lenVar": 40
   },
   "kernels_config": {
    "python": {
     "delete_cmd_postfix": "",
     "delete_cmd_prefix": "del ",
     "library": "var_list.py",
     "varRefreshCmd": "print(var_dic_list())"
    },
    "r": {
     "delete_cmd_postfix": ") ",
     "delete_cmd_prefix": "rm(",
     "library": "var_list.r",
     "varRefreshCmd": "cat(var_dic_list()) "
    }
   },
   "types_to_exclude": [
    "module",
    "function",
    "builtin_function_or_method",
    "instance",
    "_Feature"
   ],
   "window_display": false
  }
 },
 "nbformat": 4,
 "nbformat_minor": 5
}
