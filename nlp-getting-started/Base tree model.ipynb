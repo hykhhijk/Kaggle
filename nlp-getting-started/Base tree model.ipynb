{
 "cells": [
  {
   "cell_type": "markdown",
   "id": "2ed0a49e",
   "metadata": {},
   "source": [
    "# Baseline model only use \"keyword\", \"location\" column by RF\n",
    "This notebook contains simple EDA and preprocess procedure.  \n",
    "It's not a fine tuned model, so just look this notebook as insight and fun."
   ]
  },
  {
   "cell_type": "markdown",
   "id": "3bdf99ec",
   "metadata": {},
   "source": [
    "# First import library and data"
   ]
  },
  {
   "cell_type": "code",
   "execution_count": 1,
   "id": "b37e4025",
   "metadata": {
    "ExecuteTime": {
     "end_time": "2022-06-03T05:31:30.143726Z",
     "start_time": "2022-06-03T05:31:25.631085Z"
    }
   },
   "outputs": [],
   "source": [
    "import pandas as pd\n",
    "import numpy as np\n",
    "import matplotlib.pyplot as plt\n",
    "import re\n",
    "from tensorflow.keras.preprocessing.text import Tokenizer\n",
    "from tensorflow.keras.preprocessing.sequence import pad_sequences\n",
    "from tensorflow import keras\n",
    "from sklearn.model_selection import train_test_split\n",
    "from sklearn.preprocessing import LabelEncoder\n",
    "from sklearn.ensemble import RandomForestClassifier"
   ]
  },
  {
   "cell_type": "code",
   "execution_count": 2,
   "id": "6c750285",
   "metadata": {
    "ExecuteTime": {
     "end_time": "2022-06-03T05:31:30.190360Z",
     "start_time": "2022-06-03T05:31:30.144726Z"
    }
   },
   "outputs": [],
   "source": [
    "X = pd.read_csv(\"D:/kaggle_datasets/nlp-getting-started/train.csv\")\n",
    "X_test = pd.read_csv(\"D:/kaggle_datasets/nlp-getting-started/test.csv\")"
   ]
  },
  {
   "cell_type": "code",
   "execution_count": 3,
   "id": "61a8e9c5",
   "metadata": {
    "ExecuteTime": {
     "end_time": "2022-06-03T05:31:30.206187Z",
     "start_time": "2022-06-03T05:31:30.191320Z"
    }
   },
   "outputs": [
    {
     "data": {
      "text/html": [
       "<div>\n",
       "<style scoped>\n",
       "    .dataframe tbody tr th:only-of-type {\n",
       "        vertical-align: middle;\n",
       "    }\n",
       "\n",
       "    .dataframe tbody tr th {\n",
       "        vertical-align: top;\n",
       "    }\n",
       "\n",
       "    .dataframe thead th {\n",
       "        text-align: right;\n",
       "    }\n",
       "</style>\n",
       "<table border=\"1\" class=\"dataframe\">\n",
       "  <thead>\n",
       "    <tr style=\"text-align: right;\">\n",
       "      <th></th>\n",
       "      <th>id</th>\n",
       "      <th>keyword</th>\n",
       "      <th>location</th>\n",
       "      <th>text</th>\n",
       "      <th>target</th>\n",
       "    </tr>\n",
       "  </thead>\n",
       "  <tbody>\n",
       "    <tr>\n",
       "      <th>0</th>\n",
       "      <td>1</td>\n",
       "      <td>NaN</td>\n",
       "      <td>NaN</td>\n",
       "      <td>Our Deeds are the Reason of this #earthquake M...</td>\n",
       "      <td>1</td>\n",
       "    </tr>\n",
       "    <tr>\n",
       "      <th>1</th>\n",
       "      <td>4</td>\n",
       "      <td>NaN</td>\n",
       "      <td>NaN</td>\n",
       "      <td>Forest fire near La Ronge Sask. Canada</td>\n",
       "      <td>1</td>\n",
       "    </tr>\n",
       "    <tr>\n",
       "      <th>2</th>\n",
       "      <td>5</td>\n",
       "      <td>NaN</td>\n",
       "      <td>NaN</td>\n",
       "      <td>All residents asked to 'shelter in place' are ...</td>\n",
       "      <td>1</td>\n",
       "    </tr>\n",
       "    <tr>\n",
       "      <th>3</th>\n",
       "      <td>6</td>\n",
       "      <td>NaN</td>\n",
       "      <td>NaN</td>\n",
       "      <td>13,000 people receive #wildfires evacuation or...</td>\n",
       "      <td>1</td>\n",
       "    </tr>\n",
       "    <tr>\n",
       "      <th>4</th>\n",
       "      <td>7</td>\n",
       "      <td>NaN</td>\n",
       "      <td>NaN</td>\n",
       "      <td>Just got sent this photo from Ruby #Alaska as ...</td>\n",
       "      <td>1</td>\n",
       "    </tr>\n",
       "    <tr>\n",
       "      <th>...</th>\n",
       "      <td>...</td>\n",
       "      <td>...</td>\n",
       "      <td>...</td>\n",
       "      <td>...</td>\n",
       "      <td>...</td>\n",
       "    </tr>\n",
       "    <tr>\n",
       "      <th>7608</th>\n",
       "      <td>10869</td>\n",
       "      <td>NaN</td>\n",
       "      <td>NaN</td>\n",
       "      <td>Two giant cranes holding a bridge collapse int...</td>\n",
       "      <td>1</td>\n",
       "    </tr>\n",
       "    <tr>\n",
       "      <th>7609</th>\n",
       "      <td>10870</td>\n",
       "      <td>NaN</td>\n",
       "      <td>NaN</td>\n",
       "      <td>@aria_ahrary @TheTawniest The out of control w...</td>\n",
       "      <td>1</td>\n",
       "    </tr>\n",
       "    <tr>\n",
       "      <th>7610</th>\n",
       "      <td>10871</td>\n",
       "      <td>NaN</td>\n",
       "      <td>NaN</td>\n",
       "      <td>M1.94 [01:04 UTC]?5km S of Volcano Hawaii. htt...</td>\n",
       "      <td>1</td>\n",
       "    </tr>\n",
       "    <tr>\n",
       "      <th>7611</th>\n",
       "      <td>10872</td>\n",
       "      <td>NaN</td>\n",
       "      <td>NaN</td>\n",
       "      <td>Police investigating after an e-bike collided ...</td>\n",
       "      <td>1</td>\n",
       "    </tr>\n",
       "    <tr>\n",
       "      <th>7612</th>\n",
       "      <td>10873</td>\n",
       "      <td>NaN</td>\n",
       "      <td>NaN</td>\n",
       "      <td>The Latest: More Homes Razed by Northern Calif...</td>\n",
       "      <td>1</td>\n",
       "    </tr>\n",
       "  </tbody>\n",
       "</table>\n",
       "<p>7613 rows × 5 columns</p>\n",
       "</div>"
      ],
      "text/plain": [
       "         id keyword location  \\\n",
       "0         1     NaN      NaN   \n",
       "1         4     NaN      NaN   \n",
       "2         5     NaN      NaN   \n",
       "3         6     NaN      NaN   \n",
       "4         7     NaN      NaN   \n",
       "...     ...     ...      ...   \n",
       "7608  10869     NaN      NaN   \n",
       "7609  10870     NaN      NaN   \n",
       "7610  10871     NaN      NaN   \n",
       "7611  10872     NaN      NaN   \n",
       "7612  10873     NaN      NaN   \n",
       "\n",
       "                                                   text  target  \n",
       "0     Our Deeds are the Reason of this #earthquake M...       1  \n",
       "1                Forest fire near La Ronge Sask. Canada       1  \n",
       "2     All residents asked to 'shelter in place' are ...       1  \n",
       "3     13,000 people receive #wildfires evacuation or...       1  \n",
       "4     Just got sent this photo from Ruby #Alaska as ...       1  \n",
       "...                                                 ...     ...  \n",
       "7608  Two giant cranes holding a bridge collapse int...       1  \n",
       "7609  @aria_ahrary @TheTawniest The out of control w...       1  \n",
       "7610  M1.94 [01:04 UTC]?5km S of Volcano Hawaii. htt...       1  \n",
       "7611  Police investigating after an e-bike collided ...       1  \n",
       "7612  The Latest: More Homes Razed by Northern Calif...       1  \n",
       "\n",
       "[7613 rows x 5 columns]"
      ]
     },
     "execution_count": 3,
     "metadata": {},
     "output_type": "execute_result"
    }
   ],
   "source": [
    "X"
   ]
  },
  {
   "cell_type": "code",
   "execution_count": 4,
   "id": "f8eba54b",
   "metadata": {
    "ExecuteTime": {
     "end_time": "2022-06-03T05:31:30.222234Z",
     "start_time": "2022-06-03T05:31:30.207156Z"
    }
   },
   "outputs": [
    {
     "data": {
      "text/plain": [
       "fatalities               45\n",
       "deluge                   42\n",
       "armageddon               42\n",
       "sinking                  41\n",
       "damage                   41\n",
       "                         ..\n",
       "forest%20fire            19\n",
       "epicentre                12\n",
       "threat                   11\n",
       "inundation               10\n",
       "radiation%20emergency     9\n",
       "Name: keyword, Length: 221, dtype: int64"
      ]
     },
     "execution_count": 4,
     "metadata": {},
     "output_type": "execute_result"
    }
   ],
   "source": [
    "X[\"keyword\"].value_counts()"
   ]
  },
  {
   "cell_type": "code",
   "execution_count": 5,
   "id": "4e8a11a3",
   "metadata": {
    "ExecuteTime": {
     "end_time": "2022-06-03T05:31:30.237403Z",
     "start_time": "2022-06-03T05:31:30.224229Z"
    }
   },
   "outputs": [
    {
     "data": {
      "text/plain": [
       "USA                    104\n",
       "New York                71\n",
       "United States           50\n",
       "London                  45\n",
       "Canada                  29\n",
       "                      ... \n",
       "MontrÌ©al, QuÌ©bec       1\n",
       "Montreal                 1\n",
       "ÌÏT: 6.4682,3.18287      1\n",
       "Live4Heed??              1\n",
       "Lincoln                  1\n",
       "Name: location, Length: 3341, dtype: int64"
      ]
     },
     "execution_count": 5,
     "metadata": {},
     "output_type": "execute_result"
    }
   ],
   "source": [
    "X[\"location\"].value_counts()"
   ]
  },
  {
   "cell_type": "code",
   "execution_count": 6,
   "id": "6f8d9294",
   "metadata": {
    "ExecuteTime": {
     "end_time": "2022-06-03T05:31:30.252886Z",
     "start_time": "2022-06-03T05:31:30.238916Z"
    }
   },
   "outputs": [
    {
     "data": {
      "text/plain": [
       "61"
      ]
     },
     "execution_count": 6,
     "metadata": {},
     "output_type": "execute_result"
    }
   ],
   "source": [
    "X[\"keyword\"].isna().sum()"
   ]
  },
  {
   "cell_type": "code",
   "execution_count": 7,
   "id": "5eab81f8",
   "metadata": {
    "ExecuteTime": {
     "end_time": "2022-06-03T05:31:30.268027Z",
     "start_time": "2022-06-03T05:31:30.253869Z"
    }
   },
   "outputs": [
    {
     "data": {
      "text/plain": [
       "2533"
      ]
     },
     "execution_count": 7,
     "metadata": {},
     "output_type": "execute_result"
    }
   ],
   "source": [
    "X[\"location\"].isna().sum()"
   ]
  },
  {
   "cell_type": "markdown",
   "id": "d4219adc",
   "metadata": {},
   "source": [
    "Looks like *keyword* column doesn't have much categories and null values.  \n",
    "But *location* column has just opposite distribution and null values, compared to *keyword* column"
   ]
  },
  {
   "cell_type": "markdown",
   "id": "5753bb6a",
   "metadata": {},
   "source": [
    "# Keyword, Location correlation with target\n",
    "Because I want to plot histogram, I use LabelEncoder to make str columns to int values."
   ]
  },
  {
   "cell_type": "code",
   "execution_count": 8,
   "id": "3e105a9a",
   "metadata": {
    "ExecuteTime": {
     "end_time": "2022-06-03T05:31:30.283831Z",
     "start_time": "2022-06-03T05:31:30.269994Z"
    }
   },
   "outputs": [],
   "source": [
    "k_encoder = LabelEncoder()\n",
    "X[\"keyword\"] = k_encoder.fit_transform(X[\"keyword\"])"
   ]
  },
  {
   "cell_type": "code",
   "execution_count": 9,
   "id": "bf0e5881",
   "metadata": {
    "ExecuteTime": {
     "end_time": "2022-06-03T05:31:30.471847Z",
     "start_time": "2022-06-03T05:31:30.285777Z"
    },
    "scrolled": false
   },
   "outputs": [
    {
     "data": {
      "image/png": "[encoded data removed]",
      "text/plain": [
       "<Figure size 1008x720 with 1 Axes>"
      ]
     },
     "metadata": {
      "needs_background": "light"
     },
     "output_type": "display_data"
    }
   ],
   "source": [
    "plt.figure(figsize=(14, 10))\n",
    "plt.ylim(0, 550)\n",
    "plt.hist(X[\"keyword\"][X[\"target\"]==0], alpha=0.3, label=\"0\")\n",
    "plt.hist(X[\"keyword\"][X[\"target\"]==1], alpha=0.3, label=\"1\")\n",
    "plt.legend()\n",
    "plt.show()"
   ]
  },
  {
   "cell_type": "markdown",
   "id": "42198c3e",
   "metadata": {
    "ExecuteTime": {
     "end_time": "2022-05-10T11:52:37.468993Z",
     "start_time": "2022-05-10T11:52:37.452066Z"
    }
   },
   "source": [
    "Because 0 has more values in *target* , It is sure that Blue is higher than orange.  \n",
    "But some categories are too high or low than orange. It means model can use this data useful."
   ]
  },
  {
   "cell_type": "code",
   "execution_count": 10,
   "id": "f9ec9ce2",
   "metadata": {
    "ExecuteTime": {
     "end_time": "2022-06-03T05:31:30.487591Z",
     "start_time": "2022-06-03T05:31:30.474594Z"
    }
   },
   "outputs": [],
   "source": [
    "l_encoder = LabelEncoder()\n",
    "X[\"location\"] = l_encoder.fit_transform(X[\"location\"])"
   ]
  },
  {
   "cell_type": "code",
   "execution_count": 11,
   "id": "c7ffc94e",
   "metadata": {
    "ExecuteTime": {
     "end_time": "2022-06-03T05:31:30.614963Z",
     "start_time": "2022-06-03T05:31:30.489416Z"
    }
   },
   "outputs": [
    {
     "data": {
      "image/png": "[encoded data removed]",
      "text/plain": [
       "<Figure size 1008x720 with 1 Axes>"
      ]
     },
     "metadata": {
      "needs_background": "light"
     },
     "output_type": "display_data"
    }
   ],
   "source": [
    "plt.figure(figsize=(14, 10))\n",
    "plt.ylim(0, 2000)\n",
    "plt.hist(X[\"location\"][X[\"target\"]==0], alpha=0.3, label=\"0\")\n",
    "plt.hist(X[\"location\"][X[\"target\"]==1], alpha=0.3, label=\"1\")\n",
    "plt.show()"
   ]
  },
  {
   "cell_type": "markdown",
   "id": "efb1a7fb",
   "metadata": {},
   "source": [
    "It has too much nan value, so I will plot without that."
   ]
  },
  {
   "cell_type": "code",
   "execution_count": 12,
   "id": "b242beb4",
   "metadata": {
    "ExecuteTime": {
     "end_time": "2022-06-03T05:31:30.742219Z",
     "start_time": "2022-06-03T05:31:30.616958Z"
    }
   },
   "outputs": [
    {
     "data": {
      "image/png": "[encoded data removed]",
      "text/plain": [
       "<Figure size 1008x720 with 1 Axes>"
      ]
     },
     "metadata": {
      "needs_background": "light"
     },
     "output_type": "display_data"
    }
   ],
   "source": [
    "plt.figure(figsize=(14, 10))\n",
    "plt.ylim(0, 500)\n",
    "plt.hist(X[\"location\"][X[\"target\"]==0], alpha=0.3, label=\"0\")\n",
    "plt.hist(X[\"location\"][X[\"target\"]==1], alpha=0.3, label=\"1\")\n",
    "plt.show()"
   ]
  },
  {
   "cell_type": "markdown",
   "id": "a2db0d9c",
   "metadata": {
    "ExecuteTime": {
     "end_time": "2022-05-10T12:05:40.539171Z",
     "start_time": "2022-05-10T12:05:40.424713Z"
    }
   },
   "source": [
    "Anyway It has too much Nan value, I think it will not be a good feature for model."
   ]
  },
  {
   "cell_type": "markdown",
   "id": "29330ac4",
   "metadata": {},
   "source": [
    "# Make and Train model \n",
    "I use RandomForest without hp searching."
   ]
  },
  {
   "cell_type": "code",
   "execution_count": 14,
   "id": "51de05d4",
   "metadata": {
    "ExecuteTime": {
     "end_time": "2022-06-03T05:32:26.487351Z",
     "start_time": "2022-06-03T05:32:26.474386Z"
    }
   },
   "outputs": [],
   "source": [
    "X_train, X_valid, y_train, y_valid = train_test_split(X[[\"keyword\", \"location\"]], X[\"target\"], stratify=X[\"target\"])"
   ]
  },
  {
   "cell_type": "code",
   "execution_count": 15,
   "id": "dbce1524",
   "metadata": {
    "ExecuteTime": {
     "end_time": "2022-06-03T05:32:42.226414Z",
     "start_time": "2022-06-03T05:32:41.717665Z"
    }
   },
   "outputs": [
    {
     "data": {
      "text/plain": [
       "RandomForestClassifier()"
      ]
     },
     "execution_count": 15,
     "metadata": {},
     "output_type": "execute_result"
    }
   ],
   "source": [
    "model = RandomForestClassifier()\n",
    "model.fit(X_train, y_train)"
   ]
  },
  {
   "cell_type": "code",
   "execution_count": 16,
   "id": "ea8f2a85",
   "metadata": {
    "ExecuteTime": {
     "end_time": "2022-06-03T05:32:58.388323Z",
     "start_time": "2022-06-03T05:32:58.326721Z"
    }
   },
   "outputs": [
    {
     "data": {
      "text/plain": [
       "0.6743697478991597"
      ]
     },
     "execution_count": 16,
     "metadata": {},
     "output_type": "execute_result"
    }
   ],
   "source": [
    "model.score(X_valid, y_valid)"
   ]
  },
  {
   "cell_type": "code",
   "execution_count": 17,
   "id": "7f9c6489",
   "metadata": {
    "ExecuteTime": {
     "end_time": "2022-06-03T05:33:08.167372Z",
     "start_time": "2022-06-03T05:33:07.490387Z"
    }
   },
   "outputs": [
    {
     "data": {
      "text/plain": [
       "RandomForestClassifier()"
      ]
     },
     "execution_count": 17,
     "metadata": {},
     "output_type": "execute_result"
    }
   ],
   "source": [
    "model = RandomForestClassifier()\n",
    "model.fit(X[[\"keyword\", \"location\"]], X[\"target\"])"
   ]
  },
  {
   "cell_type": "code",
   "execution_count": 18,
   "id": "ed8e0533",
   "metadata": {
    "ExecuteTime": {
     "end_time": "2022-06-03T05:33:11.700222Z",
     "start_time": "2022-06-03T05:33:11.674015Z"
    }
   },
   "outputs": [
    {
     "data": {
      "text/plain": [
       "array([0.53362307, 0.46637693])"
      ]
     },
     "execution_count": 18,
     "metadata": {},
     "output_type": "execute_result"
    }
   ],
   "source": [
    "model.feature_importances_"
   ]
  },
  {
   "cell_type": "markdown",
   "id": "59cb25a7",
   "metadata": {},
   "source": [
    "Tree based model can see feature_importance.  \n",
    "It looks *keyword* is much meaningful than *location* ."
   ]
  },
  {
   "cell_type": "markdown",
   "id": "3b739922",
   "metadata": {},
   "source": [
    "We have to preprocess X_test's location before predict.  \n",
    "Because it has unique value thar can't transformed by encoder.  \n",
    "I made that values to np.nan"
   ]
  },
  {
   "cell_type": "code",
   "execution_count": 24,
   "id": "503b4a32",
   "metadata": {
    "ExecuteTime": {
     "end_time": "2022-06-03T06:38:55.834539Z",
     "start_time": "2022-06-03T06:38:55.815561Z"
    }
   },
   "outputs": [
    {
     "data": {
      "text/html": [
       "<div>\n",
       "<style scoped>\n",
       "    .dataframe tbody tr th:only-of-type {\n",
       "        vertical-align: middle;\n",
       "    }\n",
       "\n",
       "    .dataframe tbody tr th {\n",
       "        vertical-align: top;\n",
       "    }\n",
       "\n",
       "    .dataframe thead th {\n",
       "        text-align: right;\n",
       "    }\n",
       "</style>\n",
       "<table border=\"1\" class=\"dataframe\">\n",
       "  <thead>\n",
       "    <tr style=\"text-align: right;\">\n",
       "      <th></th>\n",
       "      <th>id</th>\n",
       "      <th>keyword</th>\n",
       "      <th>location</th>\n",
       "      <th>text</th>\n",
       "    </tr>\n",
       "  </thead>\n",
       "  <tbody>\n",
       "    <tr>\n",
       "      <th>0</th>\n",
       "      <td>0</td>\n",
       "      <td>NaN</td>\n",
       "      <td>NaN</td>\n",
       "      <td>Just happened a terrible car crash</td>\n",
       "    </tr>\n",
       "    <tr>\n",
       "      <th>1</th>\n",
       "      <td>2</td>\n",
       "      <td>NaN</td>\n",
       "      <td>NaN</td>\n",
       "      <td>Heard about #earthquake is different cities, s...</td>\n",
       "    </tr>\n",
       "    <tr>\n",
       "      <th>2</th>\n",
       "      <td>3</td>\n",
       "      <td>NaN</td>\n",
       "      <td>NaN</td>\n",
       "      <td>there is a forest fire at spot pond, geese are...</td>\n",
       "    </tr>\n",
       "    <tr>\n",
       "      <th>3</th>\n",
       "      <td>9</td>\n",
       "      <td>NaN</td>\n",
       "      <td>NaN</td>\n",
       "      <td>Apocalypse lighting. #Spokane #wildfires</td>\n",
       "    </tr>\n",
       "    <tr>\n",
       "      <th>4</th>\n",
       "      <td>11</td>\n",
       "      <td>NaN</td>\n",
       "      <td>NaN</td>\n",
       "      <td>Typhoon Soudelor kills 28 in China and Taiwan</td>\n",
       "    </tr>\n",
       "    <tr>\n",
       "      <th>...</th>\n",
       "      <td>...</td>\n",
       "      <td>...</td>\n",
       "      <td>...</td>\n",
       "      <td>...</td>\n",
       "    </tr>\n",
       "    <tr>\n",
       "      <th>3258</th>\n",
       "      <td>10861</td>\n",
       "      <td>NaN</td>\n",
       "      <td>NaN</td>\n",
       "      <td>EARTHQUAKE SAFETY LOS ANGELES ÛÒ SAFETY FASTE...</td>\n",
       "    </tr>\n",
       "    <tr>\n",
       "      <th>3259</th>\n",
       "      <td>10865</td>\n",
       "      <td>NaN</td>\n",
       "      <td>NaN</td>\n",
       "      <td>Storm in RI worse than last hurricane. My city...</td>\n",
       "    </tr>\n",
       "    <tr>\n",
       "      <th>3260</th>\n",
       "      <td>10868</td>\n",
       "      <td>NaN</td>\n",
       "      <td>NaN</td>\n",
       "      <td>Green Line derailment in Chicago http://t.co/U...</td>\n",
       "    </tr>\n",
       "    <tr>\n",
       "      <th>3261</th>\n",
       "      <td>10874</td>\n",
       "      <td>NaN</td>\n",
       "      <td>NaN</td>\n",
       "      <td>MEG issues Hazardous Weather Outlook (HWO) htt...</td>\n",
       "    </tr>\n",
       "    <tr>\n",
       "      <th>3262</th>\n",
       "      <td>10875</td>\n",
       "      <td>NaN</td>\n",
       "      <td>NaN</td>\n",
       "      <td>#CityofCalgary has activated its Municipal Eme...</td>\n",
       "    </tr>\n",
       "  </tbody>\n",
       "</table>\n",
       "<p>3263 rows × 4 columns</p>\n",
       "</div>"
      ],
      "text/plain": [
       "         id keyword location  \\\n",
       "0         0     NaN      NaN   \n",
       "1         2     NaN      NaN   \n",
       "2         3     NaN      NaN   \n",
       "3         9     NaN      NaN   \n",
       "4        11     NaN      NaN   \n",
       "...     ...     ...      ...   \n",
       "3258  10861     NaN      NaN   \n",
       "3259  10865     NaN      NaN   \n",
       "3260  10868     NaN      NaN   \n",
       "3261  10874     NaN      NaN   \n",
       "3262  10875     NaN      NaN   \n",
       "\n",
       "                                                   text  \n",
       "0                    Just happened a terrible car crash  \n",
       "1     Heard about #earthquake is different cities, s...  \n",
       "2     there is a forest fire at spot pond, geese are...  \n",
       "3              Apocalypse lighting. #Spokane #wildfires  \n",
       "4         Typhoon Soudelor kills 28 in China and Taiwan  \n",
       "...                                                 ...  \n",
       "3258  EARTHQUAKE SAFETY LOS ANGELES ÛÒ SAFETY FASTE...  \n",
       "3259  Storm in RI worse than last hurricane. My city...  \n",
       "3260  Green Line derailment in Chicago http://t.co/U...  \n",
       "3261  MEG issues Hazardous Weather Outlook (HWO) htt...  \n",
       "3262  #CityofCalgary has activated its Municipal Eme...  \n",
       "\n",
       "[3263 rows x 4 columns]"
      ]
     },
     "execution_count": 24,
     "metadata": {},
     "output_type": "execute_result"
    }
   ],
   "source": [
    "X_test"
   ]
  },
  {
   "cell_type": "code",
   "execution_count": 25,
   "id": "00e51ce8",
   "metadata": {
    "ExecuteTime": {
     "end_time": "2022-06-03T06:39:31.442864Z",
     "start_time": "2022-06-03T06:39:01.716922Z"
    }
   },
   "outputs": [
    {
     "name": "stderr",
     "output_type": "stream",
     "text": [
      "C:\\Users\\hjhhi\\AppData\\Local\\Temp\\ipykernel_8476\\2681214643.py:6: SettingWithCopyWarning: \n",
      "A value is trying to be set on a copy of a slice from a DataFrame\n",
      "\n",
      "See the caveats in the documentation: https://pandas.pydata.org/pandas-docs/stable/user_guide/indexing.html#returning-a-view-versus-a-copy\n",
      "  X_test[\"location\"][i] = np.nan\n"
     ]
    }
   ],
   "source": [
    "i=0\n",
    "for i in range(len(X_test[\"location\"])):\n",
    "    if X_test[\"location\"][i] in l_encoder.classes_:\n",
    "        pass\n",
    "    else:\n",
    "        X_test[\"location\"][i] = np.nan"
   ]
  },
  {
   "cell_type": "code",
   "execution_count": 27,
   "id": "f11ee0f0",
   "metadata": {
    "ExecuteTime": {
     "end_time": "2022-06-03T06:40:00.466953Z",
     "start_time": "2022-06-03T06:40:00.457802Z"
    }
   },
   "outputs": [],
   "source": [
    "X_test[\"keyword\"] = k_encoder.transform(X_test[\"keyword\"])\n",
    "X_test[\"location\"] = l_encoder.transform(X_test[\"location\"])"
   ]
  },
  {
   "cell_type": "code",
   "execution_count": 30,
   "id": "273c96b4",
   "metadata": {
    "ExecuteTime": {
     "end_time": "2022-06-03T06:40:54.004725Z",
     "start_time": "2022-06-03T06:40:53.987145Z"
    }
   },
   "outputs": [
    {
     "data": {
      "text/html": [
       "<div>\n",
       "<style scoped>\n",
       "    .dataframe tbody tr th:only-of-type {\n",
       "        vertical-align: middle;\n",
       "    }\n",
       "\n",
       "    .dataframe tbody tr th {\n",
       "        vertical-align: top;\n",
       "    }\n",
       "\n",
       "    .dataframe thead th {\n",
       "        text-align: right;\n",
       "    }\n",
       "</style>\n",
       "<table border=\"1\" class=\"dataframe\">\n",
       "  <thead>\n",
       "    <tr style=\"text-align: right;\">\n",
       "      <th></th>\n",
       "      <th>id</th>\n",
       "      <th>keyword</th>\n",
       "      <th>location</th>\n",
       "      <th>text</th>\n",
       "    </tr>\n",
       "  </thead>\n",
       "  <tbody>\n",
       "    <tr>\n",
       "      <th>0</th>\n",
       "      <td>0</td>\n",
       "      <td>221</td>\n",
       "      <td>3341</td>\n",
       "      <td>Just happened a terrible car crash</td>\n",
       "    </tr>\n",
       "    <tr>\n",
       "      <th>1</th>\n",
       "      <td>2</td>\n",
       "      <td>221</td>\n",
       "      <td>3341</td>\n",
       "      <td>Heard about #earthquake is different cities, s...</td>\n",
       "    </tr>\n",
       "    <tr>\n",
       "      <th>2</th>\n",
       "      <td>3</td>\n",
       "      <td>221</td>\n",
       "      <td>3341</td>\n",
       "      <td>there is a forest fire at spot pond, geese are...</td>\n",
       "    </tr>\n",
       "    <tr>\n",
       "      <th>3</th>\n",
       "      <td>9</td>\n",
       "      <td>221</td>\n",
       "      <td>3341</td>\n",
       "      <td>Apocalypse lighting. #Spokane #wildfires</td>\n",
       "    </tr>\n",
       "    <tr>\n",
       "      <th>4</th>\n",
       "      <td>11</td>\n",
       "      <td>221</td>\n",
       "      <td>3341</td>\n",
       "      <td>Typhoon Soudelor kills 28 in China and Taiwan</td>\n",
       "    </tr>\n",
       "    <tr>\n",
       "      <th>...</th>\n",
       "      <td>...</td>\n",
       "      <td>...</td>\n",
       "      <td>...</td>\n",
       "      <td>...</td>\n",
       "    </tr>\n",
       "    <tr>\n",
       "      <th>3258</th>\n",
       "      <td>10861</td>\n",
       "      <td>221</td>\n",
       "      <td>3341</td>\n",
       "      <td>EARTHQUAKE SAFETY LOS ANGELES ÛÒ SAFETY FASTE...</td>\n",
       "    </tr>\n",
       "    <tr>\n",
       "      <th>3259</th>\n",
       "      <td>10865</td>\n",
       "      <td>221</td>\n",
       "      <td>3341</td>\n",
       "      <td>Storm in RI worse than last hurricane. My city...</td>\n",
       "    </tr>\n",
       "    <tr>\n",
       "      <th>3260</th>\n",
       "      <td>10868</td>\n",
       "      <td>221</td>\n",
       "      <td>3341</td>\n",
       "      <td>Green Line derailment in Chicago http://t.co/U...</td>\n",
       "    </tr>\n",
       "    <tr>\n",
       "      <th>3261</th>\n",
       "      <td>10874</td>\n",
       "      <td>221</td>\n",
       "      <td>3341</td>\n",
       "      <td>MEG issues Hazardous Weather Outlook (HWO) htt...</td>\n",
       "    </tr>\n",
       "    <tr>\n",
       "      <th>3262</th>\n",
       "      <td>10875</td>\n",
       "      <td>221</td>\n",
       "      <td>3341</td>\n",
       "      <td>#CityofCalgary has activated its Municipal Eme...</td>\n",
       "    </tr>\n",
       "  </tbody>\n",
       "</table>\n",
       "<p>3263 rows × 4 columns</p>\n",
       "</div>"
      ],
      "text/plain": [
       "         id  keyword  location  \\\n",
       "0         0      221      3341   \n",
       "1         2      221      3341   \n",
       "2         3      221      3341   \n",
       "3         9      221      3341   \n",
       "4        11      221      3341   \n",
       "...     ...      ...       ...   \n",
       "3258  10861      221      3341   \n",
       "3259  10865      221      3341   \n",
       "3260  10868      221      3341   \n",
       "3261  10874      221      3341   \n",
       "3262  10875      221      3341   \n",
       "\n",
       "                                                   text  \n",
       "0                    Just happened a terrible car crash  \n",
       "1     Heard about #earthquake is different cities, s...  \n",
       "2     there is a forest fire at spot pond, geese are...  \n",
       "3              Apocalypse lighting. #Spokane #wildfires  \n",
       "4         Typhoon Soudelor kills 28 in China and Taiwan  \n",
       "...                                                 ...  \n",
       "3258  EARTHQUAKE SAFETY LOS ANGELES ÛÒ SAFETY FASTE...  \n",
       "3259  Storm in RI worse than last hurricane. My city...  \n",
       "3260  Green Line derailment in Chicago http://t.co/U...  \n",
       "3261  MEG issues Hazardous Weather Outlook (HWO) htt...  \n",
       "3262  #CityofCalgary has activated its Municipal Eme...  \n",
       "\n",
       "[3263 rows x 4 columns]"
      ]
     },
     "execution_count": 30,
     "metadata": {},
     "output_type": "execute_result"
    }
   ],
   "source": [
    "X_test"
   ]
  },
  {
   "cell_type": "code",
   "execution_count": 29,
   "id": "b700159f",
   "metadata": {
    "ExecuteTime": {
     "end_time": "2022-06-03T06:40:13.620584Z",
     "start_time": "2022-06-03T06:40:13.602660Z"
    }
   },
   "outputs": [
    {
     "data": {
      "text/plain": [
       "3341    2316\n",
       "1826      38\n",
       "2643      37\n",
       "2868      16\n",
       "2662      15\n",
       "        ... \n",
       "1312       1\n",
       "1281       1\n",
       "1907       1\n",
       "2620       1\n",
       "3095       1\n",
       "Name: location, Length: 423, dtype: int64"
      ]
     },
     "execution_count": 29,
     "metadata": {},
     "output_type": "execute_result"
    }
   ],
   "source": [
    "X_test[\"location\"].value_counts()"
   ]
  },
  {
   "cell_type": "markdown",
   "id": "b263d9d3",
   "metadata": {},
   "source": [
    "# Save submission"
   ]
  },
  {
   "cell_type": "code",
   "execution_count": 357,
   "id": "8d38d76f",
   "metadata": {
    "ExecuteTime": {
     "end_time": "2022-05-10T12:13:05.896377Z",
     "start_time": "2022-05-10T12:13:05.882085Z"
    }
   },
   "outputs": [],
   "source": [
    "sample_submission = pd.read_csv(\"D:/kaggle_datasets/nlp-getting-started/sample_submission.csv\")"
   ]
  },
  {
   "cell_type": "code",
   "execution_count": 358,
   "id": "d4fffe45",
   "metadata": {
    "ExecuteTime": {
     "end_time": "2022-05-10T12:13:05.964418Z",
     "start_time": "2022-05-10T12:13:05.898397Z"
    }
   },
   "outputs": [],
   "source": [
    "sample_submission[\"target\"] = model.predict(X_test[[\"keyword\", \"location\"]])"
   ]
  },
  {
   "cell_type": "code",
   "execution_count": 359,
   "id": "2e2b3a13",
   "metadata": {
    "ExecuteTime": {
     "end_time": "2022-05-10T12:13:05.997724Z",
     "start_time": "2022-05-10T12:13:05.967354Z"
    }
   },
   "outputs": [],
   "source": [
    "sample_submission.to_csv(\"./base.csv\", index=None)"
   ]
  },
  {
   "cell_type": "markdown",
   "id": "00cd8418",
   "metadata": {},
   "source": [
    "This submission scores 0.70058 at first time.  \n",
    "I think two columns are meaningful to make fine-tuned model."
   ]
  }
 ],
 "metadata": {
  "kernelspec": {
   "display_name": "=python3.9.0",
   "language": "python",
   "name": "python3.9.0"
  },
  "language_info": {
   "codemirror_mode": {
    "name": "ipython",
    "version": 3
   },
   "file_extension": ".py",
   "mimetype": "text/x-python",
   "name": "python",
   "nbconvert_exporter": "python",
   "pygments_lexer": "ipython3",
   "version": "3.9.12"
  },
  "toc": {
   "base_numbering": 1,
   "nav_menu": {},
   "number_sections": true,
   "sideBar": true,
   "skip_h1_title": false,
   "title_cell": "Table of Contents",
   "title_sidebar": "Contents",
   "toc_cell": false,
   "toc_position": {},
   "toc_section_display": true,
   "toc_window_display": true
  },
  "varInspector": {
   "cols": {
    "lenName": 16,
    "lenType": 16,
    "lenVar": 40
   },
   "kernels_config": {
    "python": {
     "delete_cmd_postfix": "",
     "delete_cmd_prefix": "del ",
     "library": "var_list.py",
     "varRefreshCmd": "print(var_dic_list())"
    },
    "r": {
     "delete_cmd_postfix": ") ",
     "delete_cmd_prefix": "rm(",
     "library": "var_list.r",
     "varRefreshCmd": "cat(var_dic_list()) "
    }
   },
   "types_to_exclude": [
    "module",
    "function",
    "builtin_function_or_method",
    "instance",
    "_Feature"
   ],
   "window_display": false
  }
 },
 "nbformat": 4,
 "nbformat_minor": 5
}
